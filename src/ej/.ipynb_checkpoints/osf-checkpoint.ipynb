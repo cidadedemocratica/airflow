{
 "cells": [
  {
   "cell_type": "code",
   "execution_count": 3,
   "metadata": {},
   "outputs": [],
   "source": [
    "import pandas as pd\n",
    "import numpy as np\n",
    "import matplotlib.pyplot as mp\n",
    "import seaborn as sns\n",
    "%matplotlib inline"
   ]
  },
  {
   "cell_type": "code",
   "execution_count": 27,
   "metadata": {},
   "outputs": [
    {
     "name": "stdout",
     "output_type": "stream",
     "text": [
      "     Unnamed: 0                    email                     autor  autor_id  \\\n",
      "0             0  1000910-mautic@mail.com  1000910-mautic__mail.com      1108   \n",
      "1             1  1000805-mautic@mail.com  1000805-mautic__mail.com      1112   \n",
      "2             2  1000805-mautic@mail.com  1000805-mautic__mail.com      1112   \n",
      "3             3   175081-mautic@mail.com   175081-mautic__mail.com      1063   \n",
      "4             4   175081-mautic@mail.com   175081-mautic__mail.com      1063   \n",
      "..          ...                      ...                       ...       ...   \n",
      "98           98   477184-mautic@mail.com   477184-mautic__mail.com      1270   \n",
      "99           99   999994-mautic@mail.com   999994-mautic__mail.com      1265   \n",
      "100         100   477184-mautic@mail.com   477184-mautic__mail.com      1270   \n",
      "101         101   477184-mautic@mail.com   477184-mautic__mail.com      1270   \n",
      "102         102   477184-mautic@mail.com   477184-mautic__mail.com      1270   \n",
      "\n",
      "                                            comentário  comentário_id  \\\n",
      "0    Aumentar a pena para casos de corrupção e exig...            673   \n",
      "1    O essencial é tornar caixa 2 crime com severa ...            729   \n",
      "2    Cadeia por muito tempo e obrigação de devolver...            672   \n",
      "3    É fundamental que se crie dispositivos para au...            727   \n",
      "4    É preciso muito cuidado com a Lei de Abuso de ...            670   \n",
      "..                                                 ...            ...   \n",
      "98   Caixa 2 tem que ser crime sim! Se não punir os...            666   \n",
      "99   É necessário ações que coibam o desvio do dinh...            745   \n",
      "100  Infelizmente, o legislativo já garantiu legali...            733   \n",
      "101  Só poderemos endurecer as penas em casos de co...            674   \n",
      "102  Acredito sim na cura, o caminho é transparênci...            739   \n",
      "\n",
      "      escolha                    criado    analytics_client_id  \\\n",
      "0    disagree  2020-04-17T14:17:16.813Z  1633059543.1588187577   \n",
      "1        skip  2020-04-23T14:22:22.921Z   213501704.1586953830   \n",
      "2        skip  2020-04-23T23:08:58.258Z   213501704.1586953830   \n",
      "3       agree  2020-04-28T22:36:35.853Z  1687884283.1544397112   \n",
      "4       agree  2020-04-28T22:36:42.345Z  1687884283.1544397112   \n",
      "..        ...                       ...                    ...   \n",
      "98      agree  2020-04-30T23:02:58.747Z  1780264117.1588287269   \n",
      "99      agree  2020-04-30T23:02:59.838Z  1952709213.1586711979   \n",
      "100  disagree  2020-04-30T23:03:10.008Z  1780264117.1588287269   \n",
      "101     agree  2020-04-30T23:03:25.158Z  1780264117.1588287269   \n",
      "102  disagree  2020-04-30T23:03:48.438Z  1780264117.1588287269   \n",
      "\n",
      "                  mautic_email      mautic_first_name   mautic_last_name  \\\n",
      "0                          NaN                    NaN                NaN   \n",
      "1                          NaN                    NaN                NaN   \n",
      "2                          NaN                    NaN                NaN   \n",
      "3      fe.mazziotti@uol.com.br         Kiko Mazziotti  Eduardo Mazziotti   \n",
      "4      fe.mazziotti@uol.com.br         Kiko Mazziotti  Eduardo Mazziotti   \n",
      "..                         ...                    ...                ...   \n",
      "98   olinthordsouza@uol.com.br                    NaN                NaN   \n",
      "99    aymonecosta@yahoo.com.br  SANDRA AYMONE PEREIRA              COSTA   \n",
      "100  olinthordsouza@uol.com.br                    NaN                NaN   \n",
      "101  olinthordsouza@uol.com.br                    NaN                NaN   \n",
      "102  olinthordsouza@uol.com.br                    NaN                NaN   \n",
      "\n",
      "    analytics_source analytics_medium   pageview  \n",
      "0           (direct)           (none)  /opiniao/  \n",
      "1    l.instagram.com         referral  /opiniao/  \n",
      "2    l.instagram.com         referral  /opiniao/  \n",
      "3            twitter          ejtweet  /opiniao/  \n",
      "4            twitter          ejtweet  /opiniao/  \n",
      "..               ...              ...        ...  \n",
      "98          (direct)           (none)  /opiniao/  \n",
      "99          (direct)           (none)  /opiniao/  \n",
      "100         (direct)           (none)  /opiniao/  \n",
      "101         (direct)           (none)  /opiniao/  \n",
      "102         (direct)           (none)  /opiniao/  \n",
      "\n",
      "[103 rows x 15 columns]\n"
     ]
    }
   ],
   "source": [
    "# EJ(votos) + Mautic(contatos) + Dados gerais de Analytics\n",
    "df1 = pd.read_csv('/tmp/airflow/ej_analytics_mautic.csv',dtype={'analytics_client_id': str})\n",
    "\n",
    "df1.dropna(subset=['analytics_source', 'analytics_medium', 'pageview'], inplace=True)\n",
    "\n",
    "# number of unique analytics_client_id in df1 with valid analytics data\n",
    "print(df1['analytics_client_id'].value_counts())\n",
    "\n",
    "#sns.countplot(x=\"analytics_source\", hue=\"escolha\", data=df1)"
   ]
  },
  {
   "cell_type": "code",
   "execution_count": null,
   "metadata": {},
   "outputs": [],
   "source": []
  },
  {
   "cell_type": "code",
   "execution_count": null,
   "metadata": {},
   "outputs": [],
   "source": []
  }
 ],
 "metadata": {
  "kernelspec": {
   "display_name": "Python 3",
   "language": "python",
   "name": "python3"
  },
  "language_info": {
   "codemirror_mode": {
    "name": "ipython",
    "version": 3
   },
   "file_extension": ".py",
   "mimetype": "text/x-python",
   "name": "python",
   "nbconvert_exporter": "python",
   "pygments_lexer": "ipython3",
   "version": "3.7.6"
  }
 },
 "nbformat": 4,
 "nbformat_minor": 4
}
