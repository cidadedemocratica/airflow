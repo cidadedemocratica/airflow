{
 "cells": [
  {
   "cell_type": "markdown",
   "metadata": {},
   "source": [
    "# Relatório 1 - Projeto Unidos contra corrupção"
   ]
  },
  {
   "cell_type": "code",
   "execution_count": 70,
   "metadata": {},
   "outputs": [],
   "source": [
    "import pandas as pd\n",
    "import numpy as np\n",
    "import matplotlib.pyplot as plt\n",
    "import seaborn as sns\n",
    "sns.set(font_scale=3)\n",
    "%matplotlib inline"
   ]
  },
  {
   "cell_type": "markdown",
   "metadata": {},
   "source": [
    "## Análise individual dos dados da EJ"
   ]
  },
  {
   "cell_type": "code",
   "execution_count": 71,
   "metadata": {},
   "outputs": [],
   "source": [
    "ej_only_df = pd.read_json('/tmp/airflow/ej_only.json')"
   ]
  },
  {
   "cell_type": "markdown",
   "metadata": {},
   "source": [
    "###  número de usuários com pelo menos 1 voto no período de 17 a 23/abril, e, desse conjunto, quantos nunca tinham votado antes"
   ]
  },
  {
   "cell_type": "code",
   "execution_count": 72,
   "metadata": {},
   "outputs": [
    {
     "name": "stdout",
     "output_type": "stream",
     "text": [
      "Número de usuários que votaram de 17 à 23/abril: 22\n",
      "Desse conjunto de usuários acima, quantos nunca tinham votado antes: 22\n"
     ]
    }
   ],
   "source": [
    "from dateutil.parser import *\n",
    "from dateutil.tz import *\n",
    "import datetime\n",
    "first_day = datetime.datetime(2020, 4, 17, 0, 0 , 0, tzinfo=tzlocal())\n",
    "last_day = datetime.datetime(2020, 4, 23, 23, 59, 59, tzinfo=tzlocal())\n",
    "result1 = ej_only_df[ej_only_df['criado'].map(lambda x: parse(x) >= first_day and parse(x) <= last_day )]\n",
    "''\n",
    "votes_before_first_day = ej_only_df[ej_only_df['criado'].map(lambda x: parse(x) < first_day )]\n",
    "result2 = len(result1['email'].value_counts()) - len(votes_before_first_day[votes_before_first_day['email'].map(lambda x: x in result1['email'])])\n",
    "\n",
    "print(f\"Número de usuários que votaram de 17 à 23/abril: {len(result1['email'].value_counts())}\")\n",
    "print(f\"Desse conjunto de usuários acima, quantos nunca tinham votado antes: {result2}\")"
   ]
  },
  {
   "cell_type": "markdown",
   "metadata": {},
   "source": [
    "### número de usuários criados no período de 24 a 26/abril, e, desse conjunto, quantos nunca tinham votado antes."
   ]
  },
  {
   "cell_type": "code",
   "execution_count": 73,
   "metadata": {},
   "outputs": [
    {
     "name": "stdout",
     "output_type": "stream",
     "text": [
      "Número de usuários que votaram de 24 à 26/abril: 18\n",
      "Desse conjunto de usuários acima, quantos nunca tinham votado antes: 18\n"
     ]
    }
   ],
   "source": [
    "from dateutil.parser import *\n",
    "from dateutil.tz import *\n",
    "import datetime\n",
    "first_day = datetime.datetime(2020, 4, 24, tzinfo=tzlocal())\n",
    "last_day = datetime.datetime(2020, 4, 26,23, 59, 59, tzinfo=tzlocal())\n",
    "result1 = ej_only_df[ej_only_df['criado'].map(lambda x: parse(x) >= first_day and parse(x) <= last_day )]\n",
    "\n",
    "votes_before_first_day = ej_only_df[ej_only_df['criado'].map(lambda x: parse(x) < first_day )]\n",
    "result2 = len(result1['email'].value_counts()) - len(votes_before_first_day[votes_before_first_day['email'].map(lambda x: x in result1['email'])])\n",
    "\n",
    "print(f\"Número de usuários que votaram de 24 à 26/abril: {len(result1['email'].value_counts())}\")\n",
    "print(f\"Desse conjunto de usuários acima, quantos nunca tinham votado antes: {result2}\")"
   ]
  },
  {
   "cell_type": "markdown",
   "metadata": {},
   "source": [
    "### número de usuários criados no período de 27/abril a 14/maio, e, desse conjunto, quantos nunca tinham votado antes."
   ]
  },
  {
   "cell_type": "code",
   "execution_count": 74,
   "metadata": {},
   "outputs": [
    {
     "name": "stdout",
     "output_type": "stream",
     "text": [
      "Número de usuários que votaram de 27/maio à 14/abril: 95\n",
      "Desse conjunto de usuários acima, quantos nunca tinham votado antes: 95\n"
     ]
    }
   ],
   "source": [
    "from dateutil.parser import *\n",
    "from dateutil.tz import *\n",
    "import datetime\n",
    "first_day = datetime.datetime(2020, 4, 27, tzinfo=tzlocal())\n",
    "last_day = datetime.datetime(2020, 5, 14, 23, 59, 59, tzinfo=tzlocal())\n",
    "result1 = ej_only_df[ej_only_df['criado'].map(lambda x: parse(x) >= first_day and parse(x) <= last_day )]\n",
    "\n",
    "votes_before_first_day = ej_only_df[ej_only_df['criado'].map(lambda x: parse(x) < first_day )]\n",
    "result2 = len(result1['email'].value_counts()) - len(votes_before_first_day[votes_before_first_day['email'].map(lambda x: x in result1['email'])])\n",
    "\n",
    "print(f\"Número de usuários que votaram de 27/maio à 14/abril: {len(result1['email'].value_counts())}\")\n",
    "print(f\"Desse conjunto de usuários acima, quantos nunca tinham votado antes: {result2}\")"
   ]
  },
  {
   "cell_type": "code",
   "execution_count": null,
   "metadata": {},
   "outputs": [],
   "source": [
    "### número de usuários criados no período de 27/abril a 14/maio, e, desse conjunto, quantos nunca tinham votado antes."
   ]
  },
  {
   "cell_type": "markdown",
   "metadata": {},
   "source": [
    "### número de usuários criados no período de 28/abril a 1/maio,e, desse conjunto, quantos nunca tinham votado antes. "
   ]
  },
  {
   "cell_type": "code",
   "execution_count": 75,
   "metadata": {},
   "outputs": [
    {
     "name": "stdout",
     "output_type": "stream",
     "text": [
      "Número de usuários que votaram de 28/abril à 01/maio: 83\n",
      "Desse conjunto de usuários acima, quantos nunca tinham votado antes: 83\n"
     ]
    }
   ],
   "source": [
    "from dateutil.parser import *\n",
    "from dateutil.tz import *\n",
    "import datetime\n",
    "first_day = datetime.datetime(2020, 4, 28, tzinfo=tzlocal())\n",
    "last_day = datetime.datetime(2020, 5, 1, 23, 59, 59, tzinfo=tzlocal())\n",
    "result1 = ej_only_df[ej_only_df['criado'].map(lambda x: parse(x) >= first_day and parse(x) <= last_day )]\n",
    "\n",
    "votes_before_first_day = ej_only_df[ej_only_df['criado'].map(lambda x: parse(x) < first_day )]\n",
    "result2 = len(result1['email'].value_counts()) - len(votes_before_first_day[votes_before_first_day['email'].map(lambda x: x in result1['email'])])\n",
    "\n",
    "print(f\"Número de usuários que votaram de 28/abril à 01/maio: {len(result1['email'].value_counts())}\")\n",
    "print(f\"Desse conjunto de usuários acima, quantos nunca tinham votado antes: {result2}\")"
   ]
  },
  {
   "cell_type": "markdown",
   "metadata": {},
   "source": [
    "### número de usuários criados no período de 08/maio a 14/maio, e, desse conjunto, quantos nunca tinham votado antes."
   ]
  },
  {
   "cell_type": "code",
   "execution_count": 76,
   "metadata": {},
   "outputs": [
    {
     "name": "stdout",
     "output_type": "stream",
     "text": [
      "Número de usuários que votaram de 08/maio à 14/maio: 3\n",
      "Desse conjunto de usuários acima, quantos nunca tinham votado antes: 3\n"
     ]
    }
   ],
   "source": [
    "from dateutil.parser import *\n",
    "from dateutil.tz import *\n",
    "import datetime\n",
    "first_day = datetime.datetime(2020, 5, 8, tzinfo=tzlocal())\n",
    "last_day = datetime.datetime(2020, 5, 14, 23, 59, 59, tzinfo=tzlocal())\n",
    "result1 = ej_only_df[ej_only_df['criado'].map(lambda x: parse(x) >= first_day and parse(x) <= last_day )]\n",
    "\n",
    "votes_before_first_day = ej_only_df[ej_only_df['criado'].map(lambda x: parse(x) < first_day )]\n",
    "result2 = len(result1['email'].value_counts()) - len(votes_before_first_day[votes_before_first_day['email'].map(lambda x: x in result1['email'])])\n",
    "\n",
    "print(f\"Número de usuários que votaram de 08/maio à 14/maio: {len(result1['email'].value_counts())}\")\n",
    "print(f\"Desse conjunto de usuários acima, quantos nunca tinham votado antes: {result2}\")"
   ]
  },
  {
   "cell_type": "markdown",
   "metadata": {},
   "source": [
    "### TOP 50 votantes"
   ]
  },
  {
   "cell_type": "code",
   "execution_count": 77,
   "metadata": {},
   "outputs": [
    {
     "data": {
      "text/html": [
       "<div>\n",
       "<style scoped>\n",
       "    .dataframe tbody tr th:only-of-type {\n",
       "        vertical-align: middle;\n",
       "    }\n",
       "\n",
       "    .dataframe tbody tr th {\n",
       "        vertical-align: top;\n",
       "    }\n",
       "\n",
       "    .dataframe thead th {\n",
       "        text-align: right;\n",
       "    }\n",
       "</style>\n",
       "<table border=\"1\" class=\"dataframe\">\n",
       "  <thead>\n",
       "    <tr style=\"text-align: right;\">\n",
       "      <th></th>\n",
       "      <th>votos</th>\n",
       "      <th>email</th>\n",
       "    </tr>\n",
       "  </thead>\n",
       "  <tbody>\n",
       "    <tr>\n",
       "      <th>99</th>\n",
       "      <td>32</td>\n",
       "      <td>1020159-mautic@mail.com</td>\n",
       "    </tr>\n",
       "    <tr>\n",
       "      <th>98</th>\n",
       "      <td>32</td>\n",
       "      <td>1018116-mautic@mail.com</td>\n",
       "    </tr>\n",
       "    <tr>\n",
       "      <th>97</th>\n",
       "      <td>32</td>\n",
       "      <td>1013594-mautic@mail.com</td>\n",
       "    </tr>\n",
       "    <tr>\n",
       "      <th>96</th>\n",
       "      <td>32</td>\n",
       "      <td>1013378-mautic@mail.com</td>\n",
       "    </tr>\n",
       "    <tr>\n",
       "      <th>88</th>\n",
       "      <td>32</td>\n",
       "      <td>1012568-mautic@mail.com</td>\n",
       "    </tr>\n",
       "    <tr>\n",
       "      <th>94</th>\n",
       "      <td>32</td>\n",
       "      <td>1013266-mautic@mail.com</td>\n",
       "    </tr>\n",
       "    <tr>\n",
       "      <th>21</th>\n",
       "      <td>31</td>\n",
       "      <td>1004115-mautic@mail.com</td>\n",
       "    </tr>\n",
       "    <tr>\n",
       "      <th>107</th>\n",
       "      <td>31</td>\n",
       "      <td>317125-mautic@mail.com</td>\n",
       "    </tr>\n",
       "    <tr>\n",
       "      <th>93</th>\n",
       "      <td>31</td>\n",
       "      <td>1012834-mautic@mail.com</td>\n",
       "    </tr>\n",
       "    <tr>\n",
       "      <th>30</th>\n",
       "      <td>24</td>\n",
       "      <td>1007975-mautic@mail.com</td>\n",
       "    </tr>\n",
       "    <tr>\n",
       "      <th>73</th>\n",
       "      <td>24</td>\n",
       "      <td>1011245-mautic@mail.com</td>\n",
       "    </tr>\n",
       "    <tr>\n",
       "      <th>104</th>\n",
       "      <td>24</td>\n",
       "      <td>18184-mautic@mail.com</td>\n",
       "    </tr>\n",
       "    <tr>\n",
       "      <th>90</th>\n",
       "      <td>24</td>\n",
       "      <td>1012632-mautic@mail.com</td>\n",
       "    </tr>\n",
       "    <tr>\n",
       "      <th>89</th>\n",
       "      <td>24</td>\n",
       "      <td>1012622-mautic@mail.com</td>\n",
       "    </tr>\n",
       "    <tr>\n",
       "      <th>87</th>\n",
       "      <td>24</td>\n",
       "      <td>1012543-mautic@mail.com</td>\n",
       "    </tr>\n",
       "    <tr>\n",
       "      <th>86</th>\n",
       "      <td>24</td>\n",
       "      <td>1012512-mautic@mail.com</td>\n",
       "    </tr>\n",
       "    <tr>\n",
       "      <th>80</th>\n",
       "      <td>24</td>\n",
       "      <td>1012476-mautic@mail.com</td>\n",
       "    </tr>\n",
       "    <tr>\n",
       "      <th>79</th>\n",
       "      <td>24</td>\n",
       "      <td>1012473-mautic@mail.com</td>\n",
       "    </tr>\n",
       "    <tr>\n",
       "      <th>41</th>\n",
       "      <td>24</td>\n",
       "      <td>1010091-mautic@mail.com</td>\n",
       "    </tr>\n",
       "    <tr>\n",
       "      <th>91</th>\n",
       "      <td>24</td>\n",
       "      <td>1012639-mautic@mail.com</td>\n",
       "    </tr>\n",
       "    <tr>\n",
       "      <th>27</th>\n",
       "      <td>24</td>\n",
       "      <td>1007522-mautic@mail.com</td>\n",
       "    </tr>\n",
       "    <tr>\n",
       "      <th>105</th>\n",
       "      <td>24</td>\n",
       "      <td>182111-mautic@mail.com</td>\n",
       "    </tr>\n",
       "    <tr>\n",
       "      <th>117</th>\n",
       "      <td>24</td>\n",
       "      <td>982933-mautic@mail.com</td>\n",
       "    </tr>\n",
       "    <tr>\n",
       "      <th>142</th>\n",
       "      <td>24</td>\n",
       "      <td>rsdelfinorepresentacoes@gmail.com</td>\n",
       "    </tr>\n",
       "    <tr>\n",
       "      <th>140</th>\n",
       "      <td>24</td>\n",
       "      <td>josianne.meyer1611@gmail.com</td>\n",
       "    </tr>\n",
       "    <tr>\n",
       "      <th>133</th>\n",
       "      <td>24</td>\n",
       "      <td>999994-mautic@mail.com</td>\n",
       "    </tr>\n",
       "    <tr>\n",
       "      <th>119</th>\n",
       "      <td>24</td>\n",
       "      <td>984488-mautic@mail.com</td>\n",
       "    </tr>\n",
       "    <tr>\n",
       "      <th>141</th>\n",
       "      <td>24</td>\n",
       "      <td>moisesantoniocouto@gmail.com</td>\n",
       "    </tr>\n",
       "    <tr>\n",
       "      <th>59</th>\n",
       "      <td>24</td>\n",
       "      <td>1011046-mautic@mail.com</td>\n",
       "    </tr>\n",
       "    <tr>\n",
       "      <th>106</th>\n",
       "      <td>24</td>\n",
       "      <td>232863-mautic@mail.com</td>\n",
       "    </tr>\n",
       "    <tr>\n",
       "      <th>109</th>\n",
       "      <td>24</td>\n",
       "      <td>477184-mautic@mail.com</td>\n",
       "    </tr>\n",
       "    <tr>\n",
       "      <th>113</th>\n",
       "      <td>24</td>\n",
       "      <td>896089-mautic@mail.com</td>\n",
       "    </tr>\n",
       "    <tr>\n",
       "      <th>92</th>\n",
       "      <td>22</td>\n",
       "      <td>1012729-mautic@mail.com</td>\n",
       "    </tr>\n",
       "    <tr>\n",
       "      <th>126</th>\n",
       "      <td>21</td>\n",
       "      <td>994697-mautic@mail.com</td>\n",
       "    </tr>\n",
       "    <tr>\n",
       "      <th>78</th>\n",
       "      <td>21</td>\n",
       "      <td>1011764-mautic@mail.com</td>\n",
       "    </tr>\n",
       "    <tr>\n",
       "      <th>76</th>\n",
       "      <td>21</td>\n",
       "      <td>1011395-mautic@mail.com</td>\n",
       "    </tr>\n",
       "    <tr>\n",
       "      <th>75</th>\n",
       "      <td>21</td>\n",
       "      <td>1011371-mautic@mail.com</td>\n",
       "    </tr>\n",
       "    <tr>\n",
       "      <th>74</th>\n",
       "      <td>21</td>\n",
       "      <td>1011353-mautic@mail.com</td>\n",
       "    </tr>\n",
       "    <tr>\n",
       "      <th>60</th>\n",
       "      <td>16</td>\n",
       "      <td>1011047-mautic@mail.com</td>\n",
       "    </tr>\n",
       "    <tr>\n",
       "      <th>63</th>\n",
       "      <td>16</td>\n",
       "      <td>1011081-mautic@mail.com</td>\n",
       "    </tr>\n",
       "    <tr>\n",
       "      <th>64</th>\n",
       "      <td>16</td>\n",
       "      <td>1011096-mautic@mail.com</td>\n",
       "    </tr>\n",
       "    <tr>\n",
       "      <th>66</th>\n",
       "      <td>16</td>\n",
       "      <td>1011129-mautic@mail.com</td>\n",
       "    </tr>\n",
       "    <tr>\n",
       "      <th>71</th>\n",
       "      <td>16</td>\n",
       "      <td>1011227-mautic@mail.com</td>\n",
       "    </tr>\n",
       "    <tr>\n",
       "      <th>67</th>\n",
       "      <td>16</td>\n",
       "      <td>1011134-mautic@mail.com</td>\n",
       "    </tr>\n",
       "    <tr>\n",
       "      <th>69</th>\n",
       "      <td>16</td>\n",
       "      <td>1011144-mautic@mail.com</td>\n",
       "    </tr>\n",
       "    <tr>\n",
       "      <th>70</th>\n",
       "      <td>16</td>\n",
       "      <td>1011151-mautic@mail.com</td>\n",
       "    </tr>\n",
       "    <tr>\n",
       "      <th>114</th>\n",
       "      <td>16</td>\n",
       "      <td>957584-mautic@mail.com</td>\n",
       "    </tr>\n",
       "    <tr>\n",
       "      <th>72</th>\n",
       "      <td>16</td>\n",
       "      <td>1011238-mautic@mail.com</td>\n",
       "    </tr>\n",
       "    <tr>\n",
       "      <th>56</th>\n",
       "      <td>16</td>\n",
       "      <td>1011039-mautic@mail.com</td>\n",
       "    </tr>\n",
       "    <tr>\n",
       "      <th>103</th>\n",
       "      <td>16</td>\n",
       "      <td>175081-mautic@mail.com</td>\n",
       "    </tr>\n",
       "  </tbody>\n",
       "</table>\n",
       "</div>"
      ],
      "text/plain": [
       "     votos                              email\n",
       "99      32            1020159-mautic@mail.com\n",
       "98      32            1018116-mautic@mail.com\n",
       "97      32            1013594-mautic@mail.com\n",
       "96      32            1013378-mautic@mail.com\n",
       "88      32            1012568-mautic@mail.com\n",
       "94      32            1013266-mautic@mail.com\n",
       "21      31            1004115-mautic@mail.com\n",
       "107     31             317125-mautic@mail.com\n",
       "93      31            1012834-mautic@mail.com\n",
       "30      24            1007975-mautic@mail.com\n",
       "73      24            1011245-mautic@mail.com\n",
       "104     24              18184-mautic@mail.com\n",
       "90      24            1012632-mautic@mail.com\n",
       "89      24            1012622-mautic@mail.com\n",
       "87      24            1012543-mautic@mail.com\n",
       "86      24            1012512-mautic@mail.com\n",
       "80      24            1012476-mautic@mail.com\n",
       "79      24            1012473-mautic@mail.com\n",
       "41      24            1010091-mautic@mail.com\n",
       "91      24            1012639-mautic@mail.com\n",
       "27      24            1007522-mautic@mail.com\n",
       "105     24             182111-mautic@mail.com\n",
       "117     24             982933-mautic@mail.com\n",
       "142     24  rsdelfinorepresentacoes@gmail.com\n",
       "140     24       josianne.meyer1611@gmail.com\n",
       "133     24             999994-mautic@mail.com\n",
       "119     24             984488-mautic@mail.com\n",
       "141     24       moisesantoniocouto@gmail.com\n",
       "59      24            1011046-mautic@mail.com\n",
       "106     24             232863-mautic@mail.com\n",
       "109     24             477184-mautic@mail.com\n",
       "113     24             896089-mautic@mail.com\n",
       "92      22            1012729-mautic@mail.com\n",
       "126     21             994697-mautic@mail.com\n",
       "78      21            1011764-mautic@mail.com\n",
       "76      21            1011395-mautic@mail.com\n",
       "75      21            1011371-mautic@mail.com\n",
       "74      21            1011353-mautic@mail.com\n",
       "60      16            1011047-mautic@mail.com\n",
       "63      16            1011081-mautic@mail.com\n",
       "64      16            1011096-mautic@mail.com\n",
       "66      16            1011129-mautic@mail.com\n",
       "71      16            1011227-mautic@mail.com\n",
       "67      16            1011134-mautic@mail.com\n",
       "69      16            1011144-mautic@mail.com\n",
       "70      16            1011151-mautic@mail.com\n",
       "114     16             957584-mautic@mail.com\n",
       "72      16            1011238-mautic@mail.com\n",
       "56      16            1011039-mautic@mail.com\n",
       "103     16             175081-mautic@mail.com"
      ]
     },
     "execution_count": 77,
     "metadata": {},
     "output_type": "execute_result"
    }
   ],
   "source": [
    "tmp = ej_only_df.groupby(['email']).count().reset_index(level=0).reset_index(level=0)\n",
    "top_10_voters_df = pd.DataFrame(tmp, columns=['criado', 'email']) \n",
    "top_10_voters_df.rename(columns={'criado': 'votos'}, inplace=True)\n",
    "top_10_voters_df.sort_values(by='votos', inplace=True, ascending=False)\n",
    "top_10_voters_df.head(50)"
   ]
  },
  {
   "cell_type": "code",
   "execution_count": 78,
   "metadata": {},
   "outputs": [
    {
     "name": "stdout",
     "output_type": "stream",
     "text": [
      "Total de participantes até o momento: 146\n"
     ]
    }
   ],
   "source": [
    "print(f\"Total de participantes até o momento: {len(top_10_voters_df)}\")"
   ]
  },
  {
   "cell_type": "markdown",
   "metadata": {},
   "source": [
    "## Cruzamentos dos dados entre EJ, Mautic e Analytics."
   ]
  },
  {
   "cell_type": "code",
   "execution_count": 79,
   "metadata": {},
   "outputs": [
    {
     "name": "stdout",
     "output_type": "stream",
     "text": [
      "<class 'pandas.core.frame.DataFrame'>\n",
      "RangeIndex: 1188 entries, 0 to 1187\n",
      "Data columns (total 16 columns):\n",
      " #   Column               Non-Null Count  Dtype \n",
      "---  ------               --------------  ----- \n",
      " 0   Unnamed: 0           1188 non-null   int64 \n",
      " 1   email                1188 non-null   object\n",
      " 2   autor                1188 non-null   object\n",
      " 3   autor_id             1188 non-null   int64 \n",
      " 4   comentário           1188 non-null   object\n",
      " 5   comentário_id        1188 non-null   int64 \n",
      " 6   escolha              1188 non-null   object\n",
      " 7   criado               1188 non-null   object\n",
      " 8   analytics_client_id  1188 non-null   object\n",
      " 9   mautic_email         1188 non-null   object\n",
      " 10  mautic_first_name    185 non-null    object\n",
      " 11  mautic_last_name     185 non-null    object\n",
      " 12  analytics_source     1188 non-null   object\n",
      " 13  analytics_medium     1053 non-null   object\n",
      " 14  analytics_pageview   1053 non-null   object\n",
      " 15  analytics_campaign   1188 non-null   object\n",
      "dtypes: int64(3), object(13)\n",
      "memory usage: 148.6+ KB\n"
     ]
    }
   ],
   "source": [
    "# EJ(votos) + Mautic(contatos) + Dados gerais de Analytics\n",
    "df2 = pd.read_csv('/tmp/airflow/votes_analytics_mautic.csv',dtype={'analytics_client_id': str})\n",
    "df2['analytics_source'].fillna(\"empty\", inplace=True)\n",
    "df2['mautic_email'].fillna(\"empty\", inplace=True)\n",
    "df2['analytics_campaign'].fillna(\"empty\", inplace=True)\n",
    "df2.info()"
   ]
  },
  {
   "cell_type": "markdown",
   "metadata": {},
   "source": [
    "   ### Número de votos por canal (mtc_source)"
   ]
  },
  {
   "cell_type": "code",
   "execution_count": 80,
   "metadata": {},
   "outputs": [
    {
     "name": "stdout",
     "output_type": "stream",
     "text": [
      "Número total de votos :1188\n"
     ]
    },
    {
     "data": {
      "image/png": "[encoded data removed]",
      "text/plain": [
       "<Figure size 1440x576 with 1 Axes>"
      ]
     },
     "metadata": {
      "needs_background": "light"
     },
     "output_type": "display_data"
    }
   ],
   "source": [
    "votes_by_channel_df = df2.groupby('analytics_source').count()\n",
    "votes_by_channel_df.reset_index(inplace=True)\n",
    "plt.figure(figsize=(20,8))\n",
    "votes_by_channel_df.sort_values(by='escolha', inplace=True)\n",
    "sns.set_style('whitegrid')\n",
    "plot = sns.barplot(y='analytics_source', x='escolha', data=votes_by_channel_df)\n",
    "print(f\"Número total de votos :{votes_by_channel_df['escolha'].sum()}\")"
   ]
  },
  {
   "cell_type": "markdown",
   "metadata": {},
   "source": [
    "### Número de usuários únicos por canal (mtc_source)"
   ]
  },
  {
   "cell_type": "code",
   "execution_count": 81,
   "metadata": {},
   "outputs": [
    {
     "name": "stdout",
     "output_type": "stream",
     "text": [
      "Usuários únicos por canal com pelo menos um voto:74\n"
     ]
    },
    {
     "data": {
      "image/png": "[encoded data removed]",
      "text/plain": [
       "<Figure size 1440x576 with 1 Axes>"
      ]
     },
     "metadata": {},
     "output_type": "display_data"
    }
   ],
   "source": [
    "uniq_users_by_source_df = df2.groupby(['analytics_source']).nunique()\n",
    "uniq_users_by_source_df.drop('analytics_source', axis=1, inplace=True)\n",
    "uniq_users_by_source_df.reset_index(inplace=True)\n",
    "plt.figure(figsize=(20,8))\n",
    "uniq_users_by_source_df.sort_values(by='analytics_client_id', inplace=True)\n",
    "sns.set_style('whitegrid')\n",
    "sns.barplot(y='analytics_source', x='analytics_client_id', data=uniq_users_by_source_df)\n",
    "print(f\"Usuários únicos por canal com pelo menos um voto:{uniq_users_by_source_df['analytics_client_id'].sum()}\")"
   ]
  },
  {
   "cell_type": "markdown",
   "metadata": {},
   "source": [
    "### TOP 10 usuários votantes"
   ]
  },
  {
   "cell_type": "code",
   "execution_count": 82,
   "metadata": {},
   "outputs": [
    {
     "data": {
      "text/html": [
       "<div>\n",
       "<style scoped>\n",
       "    .dataframe tbody tr th:only-of-type {\n",
       "        vertical-align: middle;\n",
       "    }\n",
       "\n",
       "    .dataframe tbody tr th {\n",
       "        vertical-align: top;\n",
       "    }\n",
       "\n",
       "    .dataframe thead th {\n",
       "        text-align: right;\n",
       "    }\n",
       "</style>\n",
       "<table border=\"1\" class=\"dataframe\">\n",
       "  <thead>\n",
       "    <tr style=\"text-align: right;\">\n",
       "      <th></th>\n",
       "      <th>analytics_client_id</th>\n",
       "      <th>votos</th>\n",
       "      <th>mautic_email</th>\n",
       "    </tr>\n",
       "  </thead>\n",
       "  <tbody>\n",
       "    <tr>\n",
       "      <th>12</th>\n",
       "      <td>1410091569.1589256160</td>\n",
       "      <td>32</td>\n",
       "      <td>simonevilasboas@hotmail.com</td>\n",
       "    </tr>\n",
       "    <tr>\n",
       "      <th>59</th>\n",
       "      <td>707828180.1588364694</td>\n",
       "      <td>31</td>\n",
       "      <td>vanderlei_oliveiradossantos@yahoo.com.br</td>\n",
       "    </tr>\n",
       "    <tr>\n",
       "      <th>25</th>\n",
       "      <td>1667238980.1581114839</td>\n",
       "      <td>24</td>\n",
       "      <td>siul.prado.lcdp@gmail.com</td>\n",
       "    </tr>\n",
       "    <tr>\n",
       "      <th>49</th>\n",
       "      <td>397769184.1587727960</td>\n",
       "      <td>24</td>\n",
       "      <td>lais.dutravargas@yahoo.com.br</td>\n",
       "    </tr>\n",
       "    <tr>\n",
       "      <th>42</th>\n",
       "      <td>1952709213.1586711979</td>\n",
       "      <td>24</td>\n",
       "      <td>aymonecosta@yahoo.com.br</td>\n",
       "    </tr>\n",
       "    <tr>\n",
       "      <th>55</th>\n",
       "      <td>593129003.1588287464</td>\n",
       "      <td>24</td>\n",
       "      <td>paulocesarsiqueira@yahoo.com.br</td>\n",
       "    </tr>\n",
       "    <tr>\n",
       "      <th>34</th>\n",
       "      <td>1780264117.1588287269</td>\n",
       "      <td>24</td>\n",
       "      <td>olinthordsouza@uol.com.br</td>\n",
       "    </tr>\n",
       "    <tr>\n",
       "      <th>6</th>\n",
       "      <td>125751368.1537721012</td>\n",
       "      <td>16</td>\n",
       "      <td>c.beto@globo.com</td>\n",
       "    </tr>\n",
       "    <tr>\n",
       "      <th>27</th>\n",
       "      <td>1687884283.1544397112</td>\n",
       "      <td>16</td>\n",
       "      <td>fe.mazziotti@uol.com.br</td>\n",
       "    </tr>\n",
       "    <tr>\n",
       "      <th>52</th>\n",
       "      <td>446669856.1588123278</td>\n",
       "      <td>9</td>\n",
       "      <td>taciano_mm@yahoo.com.br</td>\n",
       "    </tr>\n",
       "    <tr>\n",
       "      <th>33</th>\n",
       "      <td>1774784749.1588139456</td>\n",
       "      <td>8</td>\n",
       "      <td>miguelconsultoria@yahoo.com.br</td>\n",
       "    </tr>\n",
       "    <tr>\n",
       "      <th>41</th>\n",
       "      <td>1935361641.1588287568</td>\n",
       "      <td>5</td>\n",
       "      <td>fernanda123ja@gmail.com</td>\n",
       "    </tr>\n",
       "    <tr>\n",
       "      <th>69</th>\n",
       "      <td>888531665.1584570531</td>\n",
       "      <td>4</td>\n",
       "      <td>julianoeletronica@hotmail.com</td>\n",
       "    </tr>\n",
       "  </tbody>\n",
       "</table>\n",
       "</div>"
      ],
      "text/plain": [
       "      analytics_client_id  votos                              mautic_email\n",
       "12  1410091569.1589256160     32               simonevilasboas@hotmail.com\n",
       "59   707828180.1588364694     31  vanderlei_oliveiradossantos@yahoo.com.br\n",
       "25  1667238980.1581114839     24                 siul.prado.lcdp@gmail.com\n",
       "49   397769184.1587727960     24             lais.dutravargas@yahoo.com.br\n",
       "42  1952709213.1586711979     24                  aymonecosta@yahoo.com.br\n",
       "55   593129003.1588287464     24           paulocesarsiqueira@yahoo.com.br\n",
       "34  1780264117.1588287269     24                 olinthordsouza@uol.com.br\n",
       "6    125751368.1537721012     16                          c.beto@globo.com\n",
       "27  1687884283.1544397112     16                   fe.mazziotti@uol.com.br\n",
       "52   446669856.1588123278      9                   taciano_mm@yahoo.com.br\n",
       "33  1774784749.1588139456      8            miguelconsultoria@yahoo.com.br\n",
       "41  1935361641.1588287568      5                   fernanda123ja@gmail.com\n",
       "69   888531665.1584570531      4             julianoeletronica@hotmail.com"
      ]
     },
     "execution_count": 82,
     "metadata": {},
     "output_type": "execute_result"
    }
   ],
   "source": [
    "## HEADER\n",
    "## Incluir a tabela com apenas os usuários identificados, e manter os usuários anônimos.\n",
    "tmp = df2.groupby(['analytics_client_id', 'mautic_email']).count().reset_index(level=0).reset_index(level=0)\n",
    "top_10_voters_df = pd.DataFrame(tmp, columns=['analytics_client_id', 'criado', 'mautic_email']) \n",
    "top_10_voters_df.rename(columns={'criado': 'votos'}, inplace=True)\n",
    "top_10_voters_df.sort_values(by='votos', inplace=True, ascending=False)\n",
    "top_10_voters_df[top_10_voters_df['mautic_email'] != \"empty\"].head(50)"
   ]
  },
  {
   "cell_type": "markdown",
   "metadata": {},
   "source": [
    "### número de usuários com pelo menos 1 voto no período de 17 a 23/abril"
   ]
  },
  {
   "cell_type": "code",
   "execution_count": 83,
   "metadata": {},
   "outputs": [
    {
     "data": {
      "text/plain": [
       "2"
      ]
     },
     "execution_count": 83,
     "metadata": {},
     "output_type": "execute_result"
    }
   ],
   "source": [
    "from dateutil.parser import *\n",
    "from dateutil.tz import *\n",
    "import datetime\n",
    "first_day = datetime.datetime(2020, 4, 17, 0, 0 , 0, tzinfo=tzlocal())\n",
    "last_day = datetime.datetime(2020, 4, 23, 23, 59, 59, tzinfo=tzlocal())\n",
    "result = df2[df2['criado'].map(lambda x: parse(x) >= first_day and parse(x) <= last_day )]\n",
    "len(result['analytics_client_id'].value_counts())"
   ]
  },
  {
   "cell_type": "markdown",
   "metadata": {},
   "source": [
    "### número de usuários com pelo menos 1 voto no período de 24 a 26/abril"
   ]
  },
  {
   "cell_type": "code",
   "execution_count": 84,
   "metadata": {},
   "outputs": [
    {
     "name": "stdout",
     "output_type": "stream",
     "text": [
      "Número de usuários com pelo menos 1 voto: 3\n",
      "Dos usuários votantes entre o dia 24 e 26,  quantos não votaram antes do dia 24: 3\n"
     ]
    }
   ],
   "source": [
    "first_day = datetime.datetime(2020, 4, 24, tzinfo=tzlocal())\n",
    "last_day = datetime.datetime(2020, 4, 26,23, 59, 59, tzinfo=tzlocal())\n",
    "result = df2[df2['criado'].map(lambda x: parse(x) >= first_day and parse(x) <= last_day )]\n",
    "votes_before_first_day = df2[df2['criado'].map(lambda x: parse(x) < first_day )]\n",
    "print(f\"Número de usuários com pelo menos 1 voto: {len(result['analytics_client_id'].value_counts())}\")\n",
    "result2 = len(result['analytics_client_id'].value_counts()) - len(votes_before_first_day[votes_before_first_day['analytics_client_id'].map(lambda x: x in result['analytics_client_id'])])\n",
    "print(f\"Dos usuários votantes entre o dia 24 e 26,  quantos não votaram antes do dia 24: {result2}\")"
   ]
  },
  {
   "cell_type": "markdown",
   "metadata": {},
   "source": [
    "### número de usuários com pelo menos 1 voto no período de 27/abril a 14/maio com UTM_campaign vazio"
   ]
  },
  {
   "cell_type": "code",
   "execution_count": 85,
   "metadata": {},
   "outputs": [
    {
     "name": "stdout",
     "output_type": "stream",
     "text": [
      "Número de usuários com pelo menos 1 voto entre 27/abril e 14/maio: 37\n",
      "Dos usuários que votaram a partir do dia 27, quantos votaram antes do dia 26: 0\n"
     ]
    }
   ],
   "source": [
    "first_day = datetime.datetime(2020, 4, 27, tzinfo=tzlocal())\n",
    "last_day = datetime.datetime(2020, 5, 14, 23, 59, 59, tzinfo=tzlocal())\n",
    "df_by_interval = df2[df2['criado'].map(lambda x: parse(x) >= first_day and parse(x) <= last_day )]\n",
    "result = df_by_interval[(df_by_interval['analytics_campaign'] == 'empty') | (df_by_interval['analytics_campaign'] == \"(not set)\")]\n",
    "\n",
    "votes_before_first_day = df2[df2['criado'].map(lambda x: parse(x) < first_day )]\n",
    "print(f\"Número de usuários com pelo menos 1 voto entre 27/abril e 14/maio: {len(result['analytics_client_id'].value_counts())}\")\n",
    "result2 = len(votes_before_first_day[votes_before_first_day['analytics_client_id'].map(lambda x: x in result['analytics_client_id'])])\n",
    "print(f\"Dos usuários que votaram a partir do dia 27, quantos votaram antes do dia 26: {result2}\")"
   ]
  },
  {
   "cell_type": "markdown",
   "metadata": {},
   "source": [
    "### número de usuários com pelo menos 1 voto a partir de 28/abril com UTM_campaign = \"datafolha28abril\" e UTM_campaign = \"bio\""
   ]
  },
  {
   "cell_type": "code",
   "execution_count": 86,
   "metadata": {},
   "outputs": [
    {
     "name": "stdout",
     "output_type": "stream",
     "text": [
      "Número de usuários com pelo menos 1 voto a partir do dia 28 de abril: 37\n"
     ]
    }
   ],
   "source": [
    "first_day = datetime.datetime(2020, 4, 28, tzinfo=tzlocal())\n",
    "df_by_campaign = df2[(df2['analytics_campaign'] == 'datafolha28abril') | (df2['analytics_campaign'] == 'bio')]\n",
    "df_by_campaign_by_date = df_by_campaign[df_by_campaign['criado'].map(lambda x: parse(x) >= first_day)]\n",
    "len(df_by_campaign_by_date['analytics_client_id'].value_counts())\n",
    "\n",
    "votes_before_first_day = df2[df2['criado'].map(lambda x: parse(x) < first_day )]\n",
    "print(f\"Número de usuários com pelo menos 1 voto a partir do dia 28 de abril: {len(result['analytics_client_id'].value_counts())}\")"
   ]
  },
  {
   "cell_type": "markdown",
   "metadata": {},
   "source": [
    "### número de usuários com pelo menos 1 voto no período de 28/abril a 01/maio com UTM_campaign vazio"
   ]
  },
  {
   "cell_type": "code",
   "execution_count": 87,
   "metadata": {},
   "outputs": [
    {
     "name": "stdout",
     "output_type": "stream",
     "text": [
      "Número de usuários com pelo menos 1 voto entre 28/abril e 01/maio: 31\n"
     ]
    }
   ],
   "source": [
    "first_day = datetime.datetime(2020, 4, 28, tzinfo=tzlocal())\n",
    "last_day = datetime.datetime(2020, 5, 1, 23, 59, 59, tzinfo=tzlocal())\n",
    "df_by_interval = df2[df2['criado'].map(lambda x: parse(x) >= first_day and parse(x) <= last_day )]\n",
    "result = df_by_interval[(df_by_interval['analytics_campaign'] == '(not set)') | (df_by_interval['analytics_campaign'] == 'empty')]\n",
    "print(f\"Número de usuários com pelo menos 1 voto entre 28/abril e 01/maio: {len(df_by_campaign_by_date['analytics_client_id'].value_counts())}\")"
   ]
  },
  {
   "cell_type": "markdown",
   "metadata": {},
   "source": [
    "### dos conjuntos de usuários dos ítens (7) e (8) somados, quantos usuários não tinham votado nenhuma vez antes"
   ]
  },
  {
   "cell_type": "code",
   "execution_count": 88,
   "metadata": {},
   "outputs": [
    {
     "name": "stdout",
     "output_type": "stream",
     "text": [
      "Número de usuários com pelo menos 1 voto a partir do dia 28: 63\n",
      "Dos usuários que votaram a partir do dia 28, quantos votaram antes do dia 28: 0\n"
     ]
    },
    {
     "name": "stderr",
     "output_type": "stream",
     "text": [
      "/opt/conda/lib/python3.7/site-packages/ipykernel_launcher.py:4: UserWarning: Boolean Series key will be reindexed to match DataFrame index.\n",
      "  after removing the cwd from sys.path.\n"
     ]
    }
   ],
   "source": [
    "first_day = datetime.datetime(2020, 4, 28, tzinfo=tzlocal())\n",
    "last_day = datetime.datetime(2020, 5, 1, 23, 59, 59, tzinfo=tzlocal())\n",
    "df_by_interval = df2[df2['criado'].map(lambda x: parse(x) >= first_day and parse(x) <= last_day )]\n",
    "result = df_by_interval[(df_by_interval['analytics_campaign'] == '(not set)') | (df_by_interval['analytics_campaign'] == 'empty') | (df2['analytics_campaign'] == 'datafolha28abril') | (df2['analytics_campaign'] == 'bio')]\n",
    "\n",
    "votes_before_first_day = df2[df2['criado'].map(lambda x: parse(x) < first_day )]\n",
    "print(f\"Número de usuários com pelo menos 1 voto a partir do dia 28: {len(result['analytics_client_id'].value_counts())}\")\n",
    "result2 = len(votes_before_first_day[votes_before_first_day['analytics_client_id'].map(lambda x: x in result['analytics_client_id'])])\n",
    "print(f\"Dos usuários que votaram a partir do dia 28, quantos votaram antes do dia 28: {result2}\")"
   ]
  },
  {
   "cell_type": "markdown",
   "metadata": {},
   "source": [
    "### número de usuários com pelo menos 1 voto a partir de 8/maio com UTM_campaign = \"chapecó8maio\""
   ]
  },
  {
   "cell_type": "code",
   "execution_count": 89,
   "metadata": {},
   "outputs": [
    {
     "ename": "KeyError",
     "evalue": "'analytics_client_id'",
     "output_type": "error",
     "traceback": [
      "\u001b[0;31m---------------------------------------------------------------------------\u001b[0m",
      "\u001b[0;31mKeyError\u001b[0m                                  Traceback (most recent call last)",
      "\u001b[0;32m/opt/conda/lib/python3.7/site-packages/pandas/core/indexes/base.py\u001b[0m in \u001b[0;36mget_loc\u001b[0;34m(self, key, method, tolerance)\u001b[0m\n\u001b[1;32m   2645\u001b[0m             \u001b[0;32mtry\u001b[0m\u001b[0;34m:\u001b[0m\u001b[0;34m\u001b[0m\u001b[0;34m\u001b[0m\u001b[0m\n\u001b[0;32m-> 2646\u001b[0;31m                 \u001b[0;32mreturn\u001b[0m \u001b[0mself\u001b[0m\u001b[0;34m.\u001b[0m\u001b[0m_engine\u001b[0m\u001b[0;34m.\u001b[0m\u001b[0mget_loc\u001b[0m\u001b[0;34m(\u001b[0m\u001b[0mkey\u001b[0m\u001b[0;34m)\u001b[0m\u001b[0;34m\u001b[0m\u001b[0;34m\u001b[0m\u001b[0m\n\u001b[0m\u001b[1;32m   2647\u001b[0m             \u001b[0;32mexcept\u001b[0m \u001b[0mKeyError\u001b[0m\u001b[0;34m:\u001b[0m\u001b[0;34m\u001b[0m\u001b[0;34m\u001b[0m\u001b[0m\n",
      "\u001b[0;32mpandas/_libs/index.pyx\u001b[0m in \u001b[0;36mpandas._libs.index.IndexEngine.get_loc\u001b[0;34m()\u001b[0m\n",
      "\u001b[0;32mpandas/_libs/index.pyx\u001b[0m in \u001b[0;36mpandas._libs.index.IndexEngine.get_loc\u001b[0;34m()\u001b[0m\n",
      "\u001b[0;32mpandas/_libs/hashtable_class_helper.pxi\u001b[0m in \u001b[0;36mpandas._libs.hashtable.PyObjectHashTable.get_item\u001b[0;34m()\u001b[0m\n",
      "\u001b[0;32mpandas/_libs/hashtable_class_helper.pxi\u001b[0m in \u001b[0;36mpandas._libs.hashtable.PyObjectHashTable.get_item\u001b[0;34m()\u001b[0m\n",
      "\u001b[0;31mKeyError\u001b[0m: 'analytics_client_id'",
      "\nDuring handling of the above exception, another exception occurred:\n",
      "\u001b[0;31mKeyError\u001b[0m                                  Traceback (most recent call last)",
      "\u001b[0;32m<ipython-input-89-91e654f4c002>\u001b[0m in \u001b[0;36m<module>\u001b[0;34m\u001b[0m\n\u001b[1;32m      2\u001b[0m \u001b[0mdf_by_campaign\u001b[0m \u001b[0;34m=\u001b[0m \u001b[0mdf2\u001b[0m\u001b[0;34m[\u001b[0m\u001b[0;34m(\u001b[0m\u001b[0mdf2\u001b[0m\u001b[0;34m[\u001b[0m\u001b[0;34m'analytics_campaign'\u001b[0m\u001b[0;34m]\u001b[0m \u001b[0;34m==\u001b[0m \u001b[0;34m'chapecó8maio'\u001b[0m\u001b[0;34m)\u001b[0m\u001b[0;34m]\u001b[0m\u001b[0;34m\u001b[0m\u001b[0;34m\u001b[0m\u001b[0m\n\u001b[1;32m      3\u001b[0m \u001b[0mdf_by_campaign_by_date\u001b[0m \u001b[0;34m=\u001b[0m \u001b[0mdf_by_campaign\u001b[0m\u001b[0;34m[\u001b[0m\u001b[0mdf_by_campaign\u001b[0m\u001b[0;34m[\u001b[0m\u001b[0;34m'criado'\u001b[0m\u001b[0;34m]\u001b[0m\u001b[0;34m.\u001b[0m\u001b[0mmap\u001b[0m\u001b[0;34m(\u001b[0m\u001b[0;32mlambda\u001b[0m \u001b[0mx\u001b[0m\u001b[0;34m:\u001b[0m \u001b[0mparse\u001b[0m\u001b[0;34m(\u001b[0m\u001b[0mx\u001b[0m\u001b[0;34m)\u001b[0m \u001b[0;34m>=\u001b[0m \u001b[0mfirst_day\u001b[0m\u001b[0;34m)\u001b[0m\u001b[0;34m]\u001b[0m\u001b[0;34m\u001b[0m\u001b[0;34m\u001b[0m\u001b[0m\n\u001b[0;32m----> 4\u001b[0;31m \u001b[0mlen\u001b[0m\u001b[0;34m(\u001b[0m\u001b[0mdf_by_campaign_by_date\u001b[0m\u001b[0;34m[\u001b[0m\u001b[0;34m'analytics_client_id'\u001b[0m\u001b[0;34m]\u001b[0m\u001b[0;34m.\u001b[0m\u001b[0mvalue_counts\u001b[0m\u001b[0;34m(\u001b[0m\u001b[0;34m)\u001b[0m\u001b[0;34m)\u001b[0m\u001b[0;34m\u001b[0m\u001b[0;34m\u001b[0m\u001b[0m\n\u001b[0m\u001b[1;32m      5\u001b[0m \u001b[0mprint\u001b[0m\u001b[0;34m(\u001b[0m\u001b[0;34mf\"Número de usuários com pelo menos 1 voto a partir do dia 8: {len(df_by_campaign_by_date['analytics_client_id'].value_counts())}\"\u001b[0m\u001b[0;34m)\u001b[0m\u001b[0;34m\u001b[0m\u001b[0;34m\u001b[0m\u001b[0m\n",
      "\u001b[0;32m/opt/conda/lib/python3.7/site-packages/pandas/core/frame.py\u001b[0m in \u001b[0;36m__getitem__\u001b[0;34m(self, key)\u001b[0m\n\u001b[1;32m   2798\u001b[0m             \u001b[0;32mif\u001b[0m \u001b[0mself\u001b[0m\u001b[0;34m.\u001b[0m\u001b[0mcolumns\u001b[0m\u001b[0;34m.\u001b[0m\u001b[0mnlevels\u001b[0m \u001b[0;34m>\u001b[0m \u001b[0;36m1\u001b[0m\u001b[0;34m:\u001b[0m\u001b[0;34m\u001b[0m\u001b[0;34m\u001b[0m\u001b[0m\n\u001b[1;32m   2799\u001b[0m                 \u001b[0;32mreturn\u001b[0m \u001b[0mself\u001b[0m\u001b[0;34m.\u001b[0m\u001b[0m_getitem_multilevel\u001b[0m\u001b[0;34m(\u001b[0m\u001b[0mkey\u001b[0m\u001b[0;34m)\u001b[0m\u001b[0;34m\u001b[0m\u001b[0;34m\u001b[0m\u001b[0m\n\u001b[0;32m-> 2800\u001b[0;31m             \u001b[0mindexer\u001b[0m \u001b[0;34m=\u001b[0m \u001b[0mself\u001b[0m\u001b[0;34m.\u001b[0m\u001b[0mcolumns\u001b[0m\u001b[0;34m.\u001b[0m\u001b[0mget_loc\u001b[0m\u001b[0;34m(\u001b[0m\u001b[0mkey\u001b[0m\u001b[0;34m)\u001b[0m\u001b[0;34m\u001b[0m\u001b[0;34m\u001b[0m\u001b[0m\n\u001b[0m\u001b[1;32m   2801\u001b[0m             \u001b[0;32mif\u001b[0m \u001b[0mis_integer\u001b[0m\u001b[0;34m(\u001b[0m\u001b[0mindexer\u001b[0m\u001b[0;34m)\u001b[0m\u001b[0;34m:\u001b[0m\u001b[0;34m\u001b[0m\u001b[0;34m\u001b[0m\u001b[0m\n\u001b[1;32m   2802\u001b[0m                 \u001b[0mindexer\u001b[0m \u001b[0;34m=\u001b[0m \u001b[0;34m[\u001b[0m\u001b[0mindexer\u001b[0m\u001b[0;34m]\u001b[0m\u001b[0;34m\u001b[0m\u001b[0;34m\u001b[0m\u001b[0m\n",
      "\u001b[0;32m/opt/conda/lib/python3.7/site-packages/pandas/core/indexes/base.py\u001b[0m in \u001b[0;36mget_loc\u001b[0;34m(self, key, method, tolerance)\u001b[0m\n\u001b[1;32m   2646\u001b[0m                 \u001b[0;32mreturn\u001b[0m \u001b[0mself\u001b[0m\u001b[0;34m.\u001b[0m\u001b[0m_engine\u001b[0m\u001b[0;34m.\u001b[0m\u001b[0mget_loc\u001b[0m\u001b[0;34m(\u001b[0m\u001b[0mkey\u001b[0m\u001b[0;34m)\u001b[0m\u001b[0;34m\u001b[0m\u001b[0;34m\u001b[0m\u001b[0m\n\u001b[1;32m   2647\u001b[0m             \u001b[0;32mexcept\u001b[0m \u001b[0mKeyError\u001b[0m\u001b[0;34m:\u001b[0m\u001b[0;34m\u001b[0m\u001b[0;34m\u001b[0m\u001b[0m\n\u001b[0;32m-> 2648\u001b[0;31m                 \u001b[0;32mreturn\u001b[0m \u001b[0mself\u001b[0m\u001b[0;34m.\u001b[0m\u001b[0m_engine\u001b[0m\u001b[0;34m.\u001b[0m\u001b[0mget_loc\u001b[0m\u001b[0;34m(\u001b[0m\u001b[0mself\u001b[0m\u001b[0;34m.\u001b[0m\u001b[0m_maybe_cast_indexer\u001b[0m\u001b[0;34m(\u001b[0m\u001b[0mkey\u001b[0m\u001b[0;34m)\u001b[0m\u001b[0;34m)\u001b[0m\u001b[0;34m\u001b[0m\u001b[0;34m\u001b[0m\u001b[0m\n\u001b[0m\u001b[1;32m   2649\u001b[0m         \u001b[0mindexer\u001b[0m \u001b[0;34m=\u001b[0m \u001b[0mself\u001b[0m\u001b[0;34m.\u001b[0m\u001b[0mget_indexer\u001b[0m\u001b[0;34m(\u001b[0m\u001b[0;34m[\u001b[0m\u001b[0mkey\u001b[0m\u001b[0;34m]\u001b[0m\u001b[0;34m,\u001b[0m \u001b[0mmethod\u001b[0m\u001b[0;34m=\u001b[0m\u001b[0mmethod\u001b[0m\u001b[0;34m,\u001b[0m \u001b[0mtolerance\u001b[0m\u001b[0;34m=\u001b[0m\u001b[0mtolerance\u001b[0m\u001b[0;34m)\u001b[0m\u001b[0;34m\u001b[0m\u001b[0;34m\u001b[0m\u001b[0m\n\u001b[1;32m   2650\u001b[0m         \u001b[0;32mif\u001b[0m \u001b[0mindexer\u001b[0m\u001b[0;34m.\u001b[0m\u001b[0mndim\u001b[0m \u001b[0;34m>\u001b[0m \u001b[0;36m1\u001b[0m \u001b[0;32mor\u001b[0m \u001b[0mindexer\u001b[0m\u001b[0;34m.\u001b[0m\u001b[0msize\u001b[0m \u001b[0;34m>\u001b[0m \u001b[0;36m1\u001b[0m\u001b[0;34m:\u001b[0m\u001b[0;34m\u001b[0m\u001b[0;34m\u001b[0m\u001b[0m\n",
      "\u001b[0;32mpandas/_libs/index.pyx\u001b[0m in \u001b[0;36mpandas._libs.index.IndexEngine.get_loc\u001b[0;34m()\u001b[0m\n",
      "\u001b[0;32mpandas/_libs/index.pyx\u001b[0m in \u001b[0;36mpandas._libs.index.IndexEngine.get_loc\u001b[0;34m()\u001b[0m\n",
      "\u001b[0;32mpandas/_libs/hashtable_class_helper.pxi\u001b[0m in \u001b[0;36mpandas._libs.hashtable.PyObjectHashTable.get_item\u001b[0;34m()\u001b[0m\n",
      "\u001b[0;32mpandas/_libs/hashtable_class_helper.pxi\u001b[0m in \u001b[0;36mpandas._libs.hashtable.PyObjectHashTable.get_item\u001b[0;34m()\u001b[0m\n",
      "\u001b[0;31mKeyError\u001b[0m: 'analytics_client_id'"
     ]
    }
   ],
   "source": [
    "first_day = datetime.datetime(2020, 5, 8, 23, 59, 59, tzinfo=tzlocal())\n",
    "df_by_campaign = df2[(df2['analytics_campaign'] == 'chapecó8maio')]\n",
    "df_by_campaign_by_date = df_by_campaign[df_by_campaign['criado'].map(lambda x: parse(x) >= first_day)]\n",
    "len(df_by_campaign_by_date['analytics_client_id'].value_counts())\n",
    "print(f\"Número de usuários com pelo menos 1 voto a partir do dia 8: {len(df_by_campaign_by_date['analytics_client_id'].value_counts())}\")"
   ]
  },
  {
   "cell_type": "markdown",
   "metadata": {},
   "source": [
    "### Comentarios"
   ]
  },
  {
   "cell_type": "code",
   "execution_count": null,
   "metadata": {},
   "outputs": [],
   "source": [
    "df3 = pd.read_csv('/tmp/airflow/comments_analytics_mautic.csv',dtype={'analytics_client_id': str})\n",
    "df3.info()"
   ]
  }
 ],
 "metadata": {
  "kernelspec": {
   "display_name": "Python 3",
   "language": "python",
   "name": "python3"
  },
  "language_info": {
   "codemirror_mode": {
    "name": "ipython",
    "version": 3
   },
   "file_extension": ".py",
   "mimetype": "text/x-python",
   "name": "python",
   "nbconvert_exporter": "python",
   "pygments_lexer": "ipython3",
   "version": "3.7.6"
  }
 },
 "nbformat": 4,
 "nbformat_minor": 4
}
