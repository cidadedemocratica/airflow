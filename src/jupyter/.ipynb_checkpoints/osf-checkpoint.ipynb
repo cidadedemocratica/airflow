{
 "cells": [
  {
   "cell_type": "markdown",
   "metadata": {},
   "source": [
    "# Relatório 1 - Projeto Unidos contra corrupção"
   ]
  },
  {
   "cell_type": "code",
   "execution_count": 55,
   "metadata": {},
   "outputs": [],
   "source": [
    "from dateutil.parser import *\n",
    "from dateutil.tz import *\n",
    "\n",
    "import pandas as pd\n",
    "import numpy as np\n",
    "import matplotlib.pyplot as plt\n",
    "import seaborn as sns\n",
    "import datetime\n",
    "\n",
    "from mautic_sdk import MauticSdk\n",
    "\n",
    "mautic_sdk = MauticSdk()\n",
    "sns.set(font_scale=3)\n",
    "%matplotlib inline\n",
    "\n",
    "def fill_df_with_mautic_email(df):\n",
    "    df.rename(columns={'criado': 'votos'}, inplace=True)\n",
    "    mautic_sdk = MauticSdk()\n",
    "    for ej_email in df['email']:\n",
    "        mautic_email = mautic_sdk.get_contact_email(ej_email)\n",
    "        df.loc[df['email'] == ej_email, 'mautic_email'] = mautic_email\n",
    "    df.fillna(\"empty\", inplace=True)\n",
    "    return df\n",
    "\n",
    "def dataframe_between_dates(df, first_day, last_day):\n",
    "    if(first_day and last_day):\n",
    "        partial_df = df[df['criado'].map(lambda x: parse(x) >= first_day and parse(x) <= last_day )]\n",
    "        return pd.DataFrame(partial_df, columns=['email', 'criado'])\n",
    "    elif (first_day and not last_day):\n",
    "        partial_df = df[df['criado'].map(lambda x: parse(x) < first_day )]\n",
    "        return pd.DataFrame(partial_df, columns=['email', 'criado'])\n",
    "    elif (last_day and  not first_day):\n",
    "        partial_df = df[df['criado'].map(lambda x: parse(x) > last_day )]\n",
    "        return pd.DataFrame(partial_df, columns=['email', 'criado'])"
   ]
  },
  {
   "cell_type": "markdown",
   "metadata": {},
   "source": [
    "## Análise individual dos dados da EJ"
   ]
  },
  {
   "cell_type": "code",
   "execution_count": 85,
   "metadata": {},
   "outputs": [
    {
     "data": {
      "text/plain": [
       "1018116-mautic@mail.com    32\n",
       "1013378-mautic@mail.com    32\n",
       "1020159-mautic@mail.com    32\n",
       "1013266-mautic@mail.com    32\n",
       "1013594-mautic@mail.com    32\n",
       "                           ..\n",
       "137549-mautic@mail.com      1\n",
       "1013290-mautic@mail.com     1\n",
       "1011065-mautic@mail.com     1\n",
       "995572-mautic@mail.com      1\n",
       "1011141-mautic@mail.com     1\n",
       "Name: email, Length: 146, dtype: int64"
      ]
     },
     "execution_count": 85,
     "metadata": {},
     "output_type": "execute_result"
    }
   ],
   "source": [
    "votes_df = pd.read_json('/tmp/airflow/ej_only.json')"
   ]
  },
  {
   "cell_type": "markdown",
   "metadata": {},
   "source": [
    "###  número de usuários com pelo menos 1 voto no período de 17 a 23/abril, e, desse conjunto, quantos nunca tinham votado antes"
   ]
  },
  {
   "cell_type": "code",
   "execution_count": 57,
   "metadata": {},
   "outputs": [
    {
     "name": "stdout",
     "output_type": "stream",
     "text": [
      "Número de usuários que votaram de 17 à 23/abril: 22\n",
      "Desse conjunto de usuários acima, quantos nunca tinham votado antes: 22\n"
     ]
    },
    {
     "data": {
      "text/html": [
       "<div>\n",
       "<style scoped>\n",
       "    .dataframe tbody tr th:only-of-type {\n",
       "        vertical-align: middle;\n",
       "    }\n",
       "\n",
       "    .dataframe tbody tr th {\n",
       "        vertical-align: top;\n",
       "    }\n",
       "\n",
       "    .dataframe thead th {\n",
       "        text-align: right;\n",
       "    }\n",
       "</style>\n",
       "<table border=\"1\" class=\"dataframe\">\n",
       "  <thead>\n",
       "    <tr style=\"text-align: right;\">\n",
       "      <th></th>\n",
       "      <th>email</th>\n",
       "      <th>votos</th>\n",
       "      <th>mautic_email</th>\n",
       "    </tr>\n",
       "  </thead>\n",
       "  <tbody>\n",
       "    <tr>\n",
       "      <th>11</th>\n",
       "      <td>1002776-mautic@mail.com</td>\n",
       "      <td>12</td>\n",
       "      <td>empty</td>\n",
       "    </tr>\n",
       "    <tr>\n",
       "      <th>12</th>\n",
       "      <td>1002820-mautic@mail.com</td>\n",
       "      <td>12</td>\n",
       "      <td>empty</td>\n",
       "    </tr>\n",
       "    <tr>\n",
       "      <th>17</th>\n",
       "      <td>1007445-mautic@mail.com</td>\n",
       "      <td>12</td>\n",
       "      <td>empty</td>\n",
       "    </tr>\n",
       "    <tr>\n",
       "      <th>16</th>\n",
       "      <td>1007439-mautic@mail.com</td>\n",
       "      <td>12</td>\n",
       "      <td>empty</td>\n",
       "    </tr>\n",
       "    <tr>\n",
       "      <th>15</th>\n",
       "      <td>1007394-mautic@mail.com</td>\n",
       "      <td>12</td>\n",
       "      <td>empty</td>\n",
       "    </tr>\n",
       "    <tr>\n",
       "      <th>14</th>\n",
       "      <td>1005542-mautic@mail.com</td>\n",
       "      <td>12</td>\n",
       "      <td>empty</td>\n",
       "    </tr>\n",
       "    <tr>\n",
       "      <th>13</th>\n",
       "      <td>1003186-mautic@mail.com</td>\n",
       "      <td>12</td>\n",
       "      <td>empty</td>\n",
       "    </tr>\n",
       "    <tr>\n",
       "      <th>21</th>\n",
       "      <td>thigana@hotmail.com</td>\n",
       "      <td>12</td>\n",
       "      <td>thigana@hotmail.com</td>\n",
       "    </tr>\n",
       "    <tr>\n",
       "      <th>8</th>\n",
       "      <td>1002650-mautic@mail.com</td>\n",
       "      <td>10</td>\n",
       "      <td>empty</td>\n",
       "    </tr>\n",
       "    <tr>\n",
       "      <th>9</th>\n",
       "      <td>1002680-mautic@mail.com</td>\n",
       "      <td>10</td>\n",
       "      <td>empty</td>\n",
       "    </tr>\n",
       "    <tr>\n",
       "      <th>7</th>\n",
       "      <td>1002561-mautic@mail.com</td>\n",
       "      <td>10</td>\n",
       "      <td>empty</td>\n",
       "    </tr>\n",
       "    <tr>\n",
       "      <th>6</th>\n",
       "      <td>1002526-mautic@mail.com</td>\n",
       "      <td>10</td>\n",
       "      <td>empty</td>\n",
       "    </tr>\n",
       "    <tr>\n",
       "      <th>5</th>\n",
       "      <td>1002498-mautic@mail.com</td>\n",
       "      <td>10</td>\n",
       "      <td>empty</td>\n",
       "    </tr>\n",
       "    <tr>\n",
       "      <th>4</th>\n",
       "      <td>1002395-mautic@mail.com</td>\n",
       "      <td>9</td>\n",
       "      <td>empty</td>\n",
       "    </tr>\n",
       "    <tr>\n",
       "      <th>3</th>\n",
       "      <td>1002393-mautic@mail.com</td>\n",
       "      <td>9</td>\n",
       "      <td>empty</td>\n",
       "    </tr>\n",
       "    <tr>\n",
       "      <th>2</th>\n",
       "      <td>1002282-mautic@mail.com</td>\n",
       "      <td>9</td>\n",
       "      <td>empty</td>\n",
       "    </tr>\n",
       "    <tr>\n",
       "      <th>20</th>\n",
       "      <td>997470-mautic@mail.com</td>\n",
       "      <td>3</td>\n",
       "      <td>empty</td>\n",
       "    </tr>\n",
       "    <tr>\n",
       "      <th>10</th>\n",
       "      <td>1002683-mautic@mail.com</td>\n",
       "      <td>2</td>\n",
       "      <td>empty</td>\n",
       "    </tr>\n",
       "    <tr>\n",
       "      <th>18</th>\n",
       "      <td>54894-mautic@mail.com</td>\n",
       "      <td>2</td>\n",
       "      <td>ricardo@cidadedemocratica.org.br</td>\n",
       "    </tr>\n",
       "    <tr>\n",
       "      <th>0</th>\n",
       "      <td>1000805-mautic@mail.com</td>\n",
       "      <td>2</td>\n",
       "      <td>empty</td>\n",
       "    </tr>\n",
       "    <tr>\n",
       "      <th>1</th>\n",
       "      <td>1000910-mautic@mail.com</td>\n",
       "      <td>1</td>\n",
       "      <td>empty</td>\n",
       "    </tr>\n",
       "    <tr>\n",
       "      <th>19</th>\n",
       "      <td>995572-mautic@mail.com</td>\n",
       "      <td>1</td>\n",
       "      <td>empty</td>\n",
       "    </tr>\n",
       "  </tbody>\n",
       "</table>\n",
       "</div>"
      ],
      "text/plain": [
       "                      email  votos                      mautic_email\n",
       "11  1002776-mautic@mail.com     12                             empty\n",
       "12  1002820-mautic@mail.com     12                             empty\n",
       "17  1007445-mautic@mail.com     12                             empty\n",
       "16  1007439-mautic@mail.com     12                             empty\n",
       "15  1007394-mautic@mail.com     12                             empty\n",
       "14  1005542-mautic@mail.com     12                             empty\n",
       "13  1003186-mautic@mail.com     12                             empty\n",
       "21      thigana@hotmail.com     12               thigana@hotmail.com\n",
       "8   1002650-mautic@mail.com     10                             empty\n",
       "9   1002680-mautic@mail.com     10                             empty\n",
       "7   1002561-mautic@mail.com     10                             empty\n",
       "6   1002526-mautic@mail.com     10                             empty\n",
       "5   1002498-mautic@mail.com     10                             empty\n",
       "4   1002395-mautic@mail.com      9                             empty\n",
       "3   1002393-mautic@mail.com      9                             empty\n",
       "2   1002282-mautic@mail.com      9                             empty\n",
       "20   997470-mautic@mail.com      3                             empty\n",
       "10  1002683-mautic@mail.com      2                             empty\n",
       "18    54894-mautic@mail.com      2  ricardo@cidadedemocratica.org.br\n",
       "0   1000805-mautic@mail.com      2                             empty\n",
       "1   1000910-mautic@mail.com      1                             empty\n",
       "19   995572-mautic@mail.com      1                             empty"
      ]
     },
     "execution_count": 57,
     "metadata": {},
     "output_type": "execute_result"
    }
   ],
   "source": [
    "\n",
    "first_day = datetime.datetime(2020, 4, 17, 0, 0 , 0, tzinfo=tzlocal())\n",
    "last_day = datetime.datetime(2020, 4, 23, 23, 59, 59, tzinfo=tzlocal())\n",
    "\n",
    "df_17_23 = dataframe_between_dates(votes_df, first_day, last_day)\n",
    "df_before_17 = dataframe_between_dates(votes_df, first_day, None)\n",
    "\n",
    "votes_before_17 = len(df_17_23['email'].value_counts()) - len(df_before_17[df_before_17['email'].map(lambda x: x in df_17_23['email'])])\n",
    "\n",
    "print(f\"Número de usuários que votaram de 17 à 23/abril: {len(df_17_23['email'].value_counts())}\")\n",
    "print(f\"Desse conjunto de usuários acima, quantos nunca tinham votado antes: {votes_before_17}\")\n",
    "fill_df_with_mautic_email(df_17_23.groupby(['email']).count().reset_index(level=0)).sort_values(by='votos', ascending=False)"
   ]
  },
  {
   "cell_type": "markdown",
   "metadata": {},
   "source": [
    "### número de usuários criados no período de 24 a 26/abril, e, desse conjunto, quantos nunca tinham votado antes."
   ]
  },
  {
   "cell_type": "code",
   "execution_count": 58,
   "metadata": {},
   "outputs": [
    {
     "name": "stdout",
     "output_type": "stream",
     "text": [
      "Número de usuários que votaram de 24 à 26/abril: 18\n",
      "Desse conjunto de usuários acima, quantos nunca tinham votado antes: 18\n"
     ]
    },
    {
     "data": {
      "text/html": [
       "<div>\n",
       "<style scoped>\n",
       "    .dataframe tbody tr th:only-of-type {\n",
       "        vertical-align: middle;\n",
       "    }\n",
       "\n",
       "    .dataframe tbody tr th {\n",
       "        vertical-align: top;\n",
       "    }\n",
       "\n",
       "    .dataframe thead th {\n",
       "        text-align: right;\n",
       "    }\n",
       "</style>\n",
       "<table border=\"1\" class=\"dataframe\">\n",
       "  <thead>\n",
       "    <tr style=\"text-align: right;\">\n",
       "      <th></th>\n",
       "      <th>email</th>\n",
       "      <th>votos</th>\n",
       "      <th>mautic_email</th>\n",
       "    </tr>\n",
       "  </thead>\n",
       "  <tbody>\n",
       "    <tr>\n",
       "      <th>12</th>\n",
       "      <td>1009335-mautic@mail.com</td>\n",
       "      <td>16</td>\n",
       "      <td>empty</td>\n",
       "    </tr>\n",
       "    <tr>\n",
       "      <th>11</th>\n",
       "      <td>1009216-mautic@mail.com</td>\n",
       "      <td>16</td>\n",
       "      <td>empty</td>\n",
       "    </tr>\n",
       "    <tr>\n",
       "      <th>0</th>\n",
       "      <td>1003172-mautic@mail.com</td>\n",
       "      <td>12</td>\n",
       "      <td>empty</td>\n",
       "    </tr>\n",
       "    <tr>\n",
       "      <th>8</th>\n",
       "      <td>1008499-mautic@mail.com</td>\n",
       "      <td>12</td>\n",
       "      <td>empty</td>\n",
       "    </tr>\n",
       "    <tr>\n",
       "      <th>13</th>\n",
       "      <td>182111-mautic@mail.com</td>\n",
       "      <td>12</td>\n",
       "      <td>lais.dutravargas@yahoo.com.br</td>\n",
       "    </tr>\n",
       "    <tr>\n",
       "      <th>10</th>\n",
       "      <td>1008863-mautic@mail.com</td>\n",
       "      <td>12</td>\n",
       "      <td>empty</td>\n",
       "    </tr>\n",
       "    <tr>\n",
       "      <th>1</th>\n",
       "      <td>1007642-mautic@mail.com</td>\n",
       "      <td>12</td>\n",
       "      <td>empty</td>\n",
       "    </tr>\n",
       "    <tr>\n",
       "      <th>17</th>\n",
       "      <td>isfeoli@hotmail.com</td>\n",
       "      <td>12</td>\n",
       "      <td>isfeoli@hotmail.com</td>\n",
       "    </tr>\n",
       "    <tr>\n",
       "      <th>7</th>\n",
       "      <td>1008434-mautic@mail.com</td>\n",
       "      <td>12</td>\n",
       "      <td>empty</td>\n",
       "    </tr>\n",
       "    <tr>\n",
       "      <th>6</th>\n",
       "      <td>1008426-mautic@mail.com</td>\n",
       "      <td>12</td>\n",
       "      <td>empty</td>\n",
       "    </tr>\n",
       "    <tr>\n",
       "      <th>4</th>\n",
       "      <td>1008415-mautic@mail.com</td>\n",
       "      <td>12</td>\n",
       "      <td>empty</td>\n",
       "    </tr>\n",
       "    <tr>\n",
       "      <th>3</th>\n",
       "      <td>1008406-mautic@mail.com</td>\n",
       "      <td>12</td>\n",
       "      <td>empty</td>\n",
       "    </tr>\n",
       "    <tr>\n",
       "      <th>14</th>\n",
       "      <td>983577-mautic@mail.com</td>\n",
       "      <td>9</td>\n",
       "      <td>empty</td>\n",
       "    </tr>\n",
       "    <tr>\n",
       "      <th>9</th>\n",
       "      <td>1008668-mautic@mail.com</td>\n",
       "      <td>8</td>\n",
       "      <td>jeancsil@gmail.com</td>\n",
       "    </tr>\n",
       "    <tr>\n",
       "      <th>5</th>\n",
       "      <td>1008418-mautic@mail.com</td>\n",
       "      <td>6</td>\n",
       "      <td>empty</td>\n",
       "    </tr>\n",
       "    <tr>\n",
       "      <th>16</th>\n",
       "      <td>carol.bz@gmail.com</td>\n",
       "      <td>6</td>\n",
       "      <td>carol.bz@gmail.com</td>\n",
       "    </tr>\n",
       "    <tr>\n",
       "      <th>2</th>\n",
       "      <td>1007737-mautic@mail.com</td>\n",
       "      <td>3</td>\n",
       "      <td>empty</td>\n",
       "    </tr>\n",
       "    <tr>\n",
       "      <th>15</th>\n",
       "      <td>996097-mautic@mail.com</td>\n",
       "      <td>1</td>\n",
       "      <td>naldopereiraferreira@outlook.com</td>\n",
       "    </tr>\n",
       "  </tbody>\n",
       "</table>\n",
       "</div>"
      ],
      "text/plain": [
       "                      email  votos                      mautic_email\n",
       "12  1009335-mautic@mail.com     16                             empty\n",
       "11  1009216-mautic@mail.com     16                             empty\n",
       "0   1003172-mautic@mail.com     12                             empty\n",
       "8   1008499-mautic@mail.com     12                             empty\n",
       "13   182111-mautic@mail.com     12     lais.dutravargas@yahoo.com.br\n",
       "10  1008863-mautic@mail.com     12                             empty\n",
       "1   1007642-mautic@mail.com     12                             empty\n",
       "17      isfeoli@hotmail.com     12               isfeoli@hotmail.com\n",
       "7   1008434-mautic@mail.com     12                             empty\n",
       "6   1008426-mautic@mail.com     12                             empty\n",
       "4   1008415-mautic@mail.com     12                             empty\n",
       "3   1008406-mautic@mail.com     12                             empty\n",
       "14   983577-mautic@mail.com      9                             empty\n",
       "9   1008668-mautic@mail.com      8                jeancsil@gmail.com\n",
       "5   1008418-mautic@mail.com      6                             empty\n",
       "16       carol.bz@gmail.com      6                carol.bz@gmail.com\n",
       "2   1007737-mautic@mail.com      3                             empty\n",
       "15   996097-mautic@mail.com      1  naldopereiraferreira@outlook.com"
      ]
     },
     "execution_count": 58,
     "metadata": {},
     "output_type": "execute_result"
    }
   ],
   "source": [
    "\n",
    "first_day = datetime.datetime(2020, 4, 24, tzinfo=tzlocal())\n",
    "last_day = datetime.datetime(2020, 4, 26,23, 59, 59, tzinfo=tzlocal())\n",
    "\n",
    "df_24_26 = dataframe_between_dates(votes_df, first_day, last_day)\n",
    "df_before_24 = dataframe_between_dates(votes_df, first_day, None)\n",
    "\n",
    "votes_before_24 = len(df_24_26['email'].value_counts()) - len(df_before_24[df_before_24['email'].map(lambda x: x in df_24_26['email'])])\n",
    "\n",
    "print(f\"Número de usuários que votaram de 24 à 26/abril: {len(df_24_26['email'].value_counts())}\")\n",
    "print(f\"Desse conjunto de usuários acima, quantos nunca tinham votado antes: {votes_before_24}\")\n",
    "fill_df_with_mautic_email(df_24_26.groupby(['email']).count().reset_index(level=0)).sort_values(by='votos', ascending=False)"
   ]
  },
  {
   "cell_type": "markdown",
   "metadata": {},
   "source": [
    "### número de usuários criados no período de 27/abril a 14/maio, e, desse conjunto, quantos nunca tinham votado antes."
   ]
  },
  {
   "cell_type": "code",
   "execution_count": 59,
   "metadata": {},
   "outputs": [
    {
     "name": "stdout",
     "output_type": "stream",
     "text": [
      "Número de usuários que votaram de 27/abril à 14/maio: 95\n",
      "Desse conjunto de usuários acima, quantos nunca tinham votado antes: 95\n"
     ]
    }
   ],
   "source": [
    "first_day = datetime.datetime(2020, 4, 27, tzinfo=tzlocal())\n",
    "last_day = datetime.datetime(2020, 5, 14, 23, 59, 59, tzinfo=tzlocal())\n",
    "\n",
    "df_27_14 = dataframe_between_dates(votes_df, first_day, last_day)\n",
    "df_before_27 = dataframe_between_dates(votes_df, first_day, None)\n",
    "\n",
    "votes_before_27 = len(df_27_14['email'].value_counts()) - len(df_before_27[df_before_27['email'].map(lambda x: x in df_27_14['email'])])\n",
    "\n",
    "print(f\"Número de usuários que votaram de 27/abril à 14/maio: {len(df_27_14['email'].value_counts())}\")\n",
    "print(f\"Desse conjunto de usuários acima, quantos nunca tinham votado antes: {votes_before_27}\")"
   ]
  },
  {
   "cell_type": "markdown",
   "metadata": {},
   "source": [
    "### número de usuários criados no período de 28/abril a 14/maio, e, desse conjunto, quantos nunca tinham votado antes."
   ]
  },
  {
   "cell_type": "code",
   "execution_count": 60,
   "metadata": {},
   "outputs": [
    {
     "name": "stdout",
     "output_type": "stream",
     "text": [
      "Número de usuários que votaram de 28/abril à 14/maio: 91\n",
      "Desse conjunto de usuários acima, quantos nunca tinham votado antes: 91\n"
     ]
    }
   ],
   "source": [
    "first_day = datetime.datetime(2020, 4, 28, tzinfo=tzlocal())\n",
    "last_day = datetime.datetime(2020, 5, 14, 23, 59, 59, tzinfo=tzlocal())\n",
    "\n",
    "df_27_14 = dataframe_between_dates(votes_df, first_day, last_day)\n",
    "df_before_27 = dataframe_between_dates(votes_df, first_day, None)\n",
    "\n",
    "votes_before_27 = len(df_27_14['email'].value_counts()) - len(df_before_27[df_before_27['email'].map(lambda x: x in df_27_14['email'])])\n",
    "\n",
    "print(f\"Número de usuários que votaram de 28/abril à 14/maio: {len(df_27_14['email'].value_counts())}\")\n",
    "print(f\"Desse conjunto de usuários acima, quantos nunca tinham votado antes: {votes_before_27}\")"
   ]
  },
  {
   "cell_type": "markdown",
   "metadata": {},
   "source": [
    "### número de usuários criados no período de 28/abril a 1/maio,e, desse conjunto, quantos nunca tinham votado antes. "
   ]
  },
  {
   "cell_type": "code",
   "execution_count": 61,
   "metadata": {},
   "outputs": [
    {
     "name": "stdout",
     "output_type": "stream",
     "text": [
      "Número de usuários que votaram de 28/abril à 01/maio: 83\n",
      "Desse conjunto de usuários acima, quantos nunca tinham votado antes: 83\n"
     ]
    }
   ],
   "source": [
    "first_day = datetime.datetime(2020, 4, 28, tzinfo=tzlocal())\n",
    "last_day = datetime.datetime(2020, 5, 1, 23, 59, 59, tzinfo=tzlocal())\n",
    "\n",
    "df_28_01 = dataframe_between_dates(votes_df, first_day, last_day)\n",
    "df_before_28 = dataframe_between_dates(votes_df, first_day, None)\n",
    "\n",
    "votes_before_28 = len(df_28_01['email'].value_counts()) - len(df_before_28[df_before_28['email'].map(lambda x: x in df_28_01['email'])])\n",
    "\n",
    "print(f\"Número de usuários que votaram de 28/abril à 01/maio: {len(df_28_01['email'].value_counts())}\")\n",
    "print(f\"Desse conjunto de usuários acima, quantos nunca tinham votado antes: {votes_before_28}\")"
   ]
  },
  {
   "cell_type": "markdown",
   "metadata": {},
   "source": [
    "### número de usuários criados no período de 08/maio a 14/maio, e, desse conjunto, quantos nunca tinham votado antes."
   ]
  },
  {
   "cell_type": "code",
   "execution_count": 62,
   "metadata": {},
   "outputs": [
    {
     "name": "stdout",
     "output_type": "stream",
     "text": [
      "Número de usuários que votaram de 08/maio à 14/maio: 3\n",
      "Desse conjunto de usuários acima, quantos nunca tinham votado antes: 3\n"
     ]
    }
   ],
   "source": [
    "first_day = datetime.datetime(2020, 5, 8, tzinfo=tzlocal())\n",
    "last_day = datetime.datetime(2020, 5, 14, 23, 59, 59, tzinfo=tzlocal())\n",
    "\n",
    "df_08_14 = dataframe_between_dates(votes_df, first_day, last_day)\n",
    "df_before_08 = dataframe_between_dates(votes_df, first_day, None)\n",
    "\n",
    "votes_before_08 = len(df_08_14['email'].value_counts()) - len(df_before_08[df_before_08['email'].map(lambda x: x in df_08_14['email'])])\n",
    "\n",
    "print(f\"Número de usuários que votaram de 08/maio à 14/maio: {len(df_08_14['email'].value_counts())}\")\n",
    "print(f\"Desse conjunto de usuários acima, quantos nunca tinham votado antes: {votes_before_08}\")"
   ]
  },
  {
   "cell_type": "markdown",
   "metadata": {},
   "source": [
    "### TOP 50 votantes"
   ]
  },
  {
   "cell_type": "code",
   "execution_count": 88,
   "metadata": {},
   "outputs": [
    {
     "data": {
      "text/plain": [
       "146"
      ]
     },
     "execution_count": 88,
     "metadata": {},
     "output_type": "execute_result"
    }
   ],
   "source": [
    "tmp = votes_df.groupby(['email']).count().reset_index(level=0).reset_index(level=0)\n",
    "top_50_voters_df = pd.DataFrame(tmp, columns=['criado', 'email']) \n",
    "top_50_voters_df.rename(columns={'criado': 'votos'}, inplace=True)\n",
    "top_50_voters_df.sort_values(by='votos', inplace=True, ascending=False)\n",
    "\n",
    "#top_50_with_mautic_mail = pd.DataFrame(top_50_voters_df.head(50))\n",
    "#fill_df_with_mautic_email(top_50_with_mautic_mail)\n",
    "len(tmp)"
   ]
  },
  {
   "cell_type": "code",
   "execution_count": 84,
   "metadata": {},
   "outputs": [
    {
     "name": "stdout",
     "output_type": "stream",
     "text": [
      "Total de participantes até o momento: 75\n"
     ]
    }
   ],
   "source": [
    "print(f\"Total de participantes até o momento: {len(top_50_voters_df)}\")"
   ]
  },
  {
   "cell_type": "markdown",
   "metadata": {},
   "source": [
    "### Número de comentários criados pelos top 50 votantes."
   ]
  },
  {
   "cell_type": "code",
   "execution_count": 65,
   "metadata": {},
   "outputs": [
    {
     "data": {
      "text/html": [
       "<div>\n",
       "<style scoped>\n",
       "    .dataframe tbody tr th:only-of-type {\n",
       "        vertical-align: middle;\n",
       "    }\n",
       "\n",
       "    .dataframe tbody tr th {\n",
       "        vertical-align: top;\n",
       "    }\n",
       "\n",
       "    .dataframe thead th {\n",
       "        text-align: right;\n",
       "    }\n",
       "</style>\n",
       "<table border=\"1\" class=\"dataframe\">\n",
       "  <thead>\n",
       "    <tr style=\"text-align: right;\">\n",
       "      <th></th>\n",
       "      <th>votos</th>\n",
       "      <th>email</th>\n",
       "      <th>mautic_email</th>\n",
       "      <th>comentarios_aprovados</th>\n",
       "    </tr>\n",
       "  </thead>\n",
       "  <tbody>\n",
       "    <tr>\n",
       "      <th>99</th>\n",
       "      <td>32</td>\n",
       "      <td>1020159-mautic@mail.com</td>\n",
       "      <td>simonevilasboas@hotmail.com</td>\n",
       "      <td>0</td>\n",
       "    </tr>\n",
       "    <tr>\n",
       "      <th>98</th>\n",
       "      <td>32</td>\n",
       "      <td>1018116-mautic@mail.com</td>\n",
       "      <td>empty</td>\n",
       "      <td>2</td>\n",
       "    </tr>\n",
       "    <tr>\n",
       "      <th>97</th>\n",
       "      <td>32</td>\n",
       "      <td>1013594-mautic@mail.com</td>\n",
       "      <td>empty</td>\n",
       "      <td>0</td>\n",
       "    </tr>\n",
       "    <tr>\n",
       "      <th>96</th>\n",
       "      <td>32</td>\n",
       "      <td>1013378-mautic@mail.com</td>\n",
       "      <td>empty</td>\n",
       "      <td>0</td>\n",
       "    </tr>\n",
       "    <tr>\n",
       "      <th>88</th>\n",
       "      <td>32</td>\n",
       "      <td>1012568-mautic@mail.com</td>\n",
       "      <td>laeliopereira@hotmail.com</td>\n",
       "      <td>1</td>\n",
       "    </tr>\n",
       "    <tr>\n",
       "      <th>94</th>\n",
       "      <td>32</td>\n",
       "      <td>1013266-mautic@mail.com</td>\n",
       "      <td>empty</td>\n",
       "      <td>0</td>\n",
       "    </tr>\n",
       "    <tr>\n",
       "      <th>21</th>\n",
       "      <td>31</td>\n",
       "      <td>1004115-mautic@mail.com</td>\n",
       "      <td>empty</td>\n",
       "      <td>0</td>\n",
       "    </tr>\n",
       "    <tr>\n",
       "      <th>107</th>\n",
       "      <td>31</td>\n",
       "      <td>317125-mautic@mail.com</td>\n",
       "      <td>vanderlei_oliveiradossantos@yahoo.com.br</td>\n",
       "      <td>0</td>\n",
       "    </tr>\n",
       "    <tr>\n",
       "      <th>93</th>\n",
       "      <td>31</td>\n",
       "      <td>1012834-mautic@mail.com</td>\n",
       "      <td>empty</td>\n",
       "      <td>1</td>\n",
       "    </tr>\n",
       "    <tr>\n",
       "      <th>30</th>\n",
       "      <td>24</td>\n",
       "      <td>1007975-mautic@mail.com</td>\n",
       "      <td>empty</td>\n",
       "      <td>0</td>\n",
       "    </tr>\n",
       "    <tr>\n",
       "      <th>73</th>\n",
       "      <td>24</td>\n",
       "      <td>1011245-mautic@mail.com</td>\n",
       "      <td>empty</td>\n",
       "      <td>0</td>\n",
       "    </tr>\n",
       "    <tr>\n",
       "      <th>104</th>\n",
       "      <td>24</td>\n",
       "      <td>18184-mautic@mail.com</td>\n",
       "      <td>mauronc1960@gmail.com</td>\n",
       "      <td>1</td>\n",
       "    </tr>\n",
       "    <tr>\n",
       "      <th>90</th>\n",
       "      <td>24</td>\n",
       "      <td>1012632-mautic@mail.com</td>\n",
       "      <td>empty</td>\n",
       "      <td>1</td>\n",
       "    </tr>\n",
       "    <tr>\n",
       "      <th>89</th>\n",
       "      <td>24</td>\n",
       "      <td>1012622-mautic@mail.com</td>\n",
       "      <td>empty</td>\n",
       "      <td>0</td>\n",
       "    </tr>\n",
       "    <tr>\n",
       "      <th>87</th>\n",
       "      <td>24</td>\n",
       "      <td>1012543-mautic@mail.com</td>\n",
       "      <td>empty</td>\n",
       "      <td>0</td>\n",
       "    </tr>\n",
       "    <tr>\n",
       "      <th>86</th>\n",
       "      <td>24</td>\n",
       "      <td>1012512-mautic@mail.com</td>\n",
       "      <td>empty</td>\n",
       "      <td>0</td>\n",
       "    </tr>\n",
       "    <tr>\n",
       "      <th>80</th>\n",
       "      <td>24</td>\n",
       "      <td>1012476-mautic@mail.com</td>\n",
       "      <td>angelamarciasantos@gmail.com</td>\n",
       "      <td>0</td>\n",
       "    </tr>\n",
       "    <tr>\n",
       "      <th>79</th>\n",
       "      <td>24</td>\n",
       "      <td>1012473-mautic@mail.com</td>\n",
       "      <td>empty</td>\n",
       "      <td>1</td>\n",
       "    </tr>\n",
       "    <tr>\n",
       "      <th>41</th>\n",
       "      <td>24</td>\n",
       "      <td>1010091-mautic@mail.com</td>\n",
       "      <td>empty</td>\n",
       "      <td>0</td>\n",
       "    </tr>\n",
       "    <tr>\n",
       "      <th>91</th>\n",
       "      <td>24</td>\n",
       "      <td>1012639-mautic@mail.com</td>\n",
       "      <td>empty</td>\n",
       "      <td>0</td>\n",
       "    </tr>\n",
       "    <tr>\n",
       "      <th>27</th>\n",
       "      <td>24</td>\n",
       "      <td>1007522-mautic@mail.com</td>\n",
       "      <td>empty</td>\n",
       "      <td>0</td>\n",
       "    </tr>\n",
       "    <tr>\n",
       "      <th>105</th>\n",
       "      <td>24</td>\n",
       "      <td>182111-mautic@mail.com</td>\n",
       "      <td>lais.dutravargas@yahoo.com.br</td>\n",
       "      <td>1</td>\n",
       "    </tr>\n",
       "    <tr>\n",
       "      <th>117</th>\n",
       "      <td>24</td>\n",
       "      <td>982933-mautic@mail.com</td>\n",
       "      <td>empty</td>\n",
       "      <td>0</td>\n",
       "    </tr>\n",
       "    <tr>\n",
       "      <th>142</th>\n",
       "      <td>24</td>\n",
       "      <td>rsdelfinorepresentacoes@gmail.com</td>\n",
       "      <td>rsdelfinorepresentacoes@gmail.com</td>\n",
       "      <td>0</td>\n",
       "    </tr>\n",
       "    <tr>\n",
       "      <th>140</th>\n",
       "      <td>24</td>\n",
       "      <td>josianne.meyer1611@gmail.com</td>\n",
       "      <td>josianne.meyer1611@gmail.com</td>\n",
       "      <td>1</td>\n",
       "    </tr>\n",
       "    <tr>\n",
       "      <th>133</th>\n",
       "      <td>24</td>\n",
       "      <td>999994-mautic@mail.com</td>\n",
       "      <td>aymonecosta@yahoo.com.br</td>\n",
       "      <td>0</td>\n",
       "    </tr>\n",
       "    <tr>\n",
       "      <th>119</th>\n",
       "      <td>24</td>\n",
       "      <td>984488-mautic@mail.com</td>\n",
       "      <td>empty</td>\n",
       "      <td>0</td>\n",
       "    </tr>\n",
       "    <tr>\n",
       "      <th>141</th>\n",
       "      <td>24</td>\n",
       "      <td>moisesantoniocouto@gmail.com</td>\n",
       "      <td>moisesantoniocouto@gmail.com</td>\n",
       "      <td>0</td>\n",
       "    </tr>\n",
       "    <tr>\n",
       "      <th>59</th>\n",
       "      <td>24</td>\n",
       "      <td>1011046-mautic@mail.com</td>\n",
       "      <td>empty</td>\n",
       "      <td>1</td>\n",
       "    </tr>\n",
       "    <tr>\n",
       "      <th>106</th>\n",
       "      <td>24</td>\n",
       "      <td>232863-mautic@mail.com</td>\n",
       "      <td>paulocesarsiqueira@yahoo.com.br</td>\n",
       "      <td>0</td>\n",
       "    </tr>\n",
       "    <tr>\n",
       "      <th>109</th>\n",
       "      <td>24</td>\n",
       "      <td>477184-mautic@mail.com</td>\n",
       "      <td>olinthordsouza@uol.com.br</td>\n",
       "      <td>0</td>\n",
       "    </tr>\n",
       "    <tr>\n",
       "      <th>113</th>\n",
       "      <td>24</td>\n",
       "      <td>896089-mautic@mail.com</td>\n",
       "      <td>siul.prado.lcdp@gmail.com</td>\n",
       "      <td>0</td>\n",
       "    </tr>\n",
       "    <tr>\n",
       "      <th>92</th>\n",
       "      <td>22</td>\n",
       "      <td>1012729-mautic@mail.com</td>\n",
       "      <td>empty</td>\n",
       "      <td>0</td>\n",
       "    </tr>\n",
       "    <tr>\n",
       "      <th>126</th>\n",
       "      <td>21</td>\n",
       "      <td>994697-mautic@mail.com</td>\n",
       "      <td>empty</td>\n",
       "      <td>2</td>\n",
       "    </tr>\n",
       "    <tr>\n",
       "      <th>78</th>\n",
       "      <td>21</td>\n",
       "      <td>1011764-mautic@mail.com</td>\n",
       "      <td>empty</td>\n",
       "      <td>0</td>\n",
       "    </tr>\n",
       "    <tr>\n",
       "      <th>76</th>\n",
       "      <td>21</td>\n",
       "      <td>1011395-mautic@mail.com</td>\n",
       "      <td>empty</td>\n",
       "      <td>0</td>\n",
       "    </tr>\n",
       "    <tr>\n",
       "      <th>75</th>\n",
       "      <td>21</td>\n",
       "      <td>1011371-mautic@mail.com</td>\n",
       "      <td>empty</td>\n",
       "      <td>1</td>\n",
       "    </tr>\n",
       "    <tr>\n",
       "      <th>74</th>\n",
       "      <td>21</td>\n",
       "      <td>1011353-mautic@mail.com</td>\n",
       "      <td>empty</td>\n",
       "      <td>0</td>\n",
       "    </tr>\n",
       "    <tr>\n",
       "      <th>60</th>\n",
       "      <td>16</td>\n",
       "      <td>1011047-mautic@mail.com</td>\n",
       "      <td>empty</td>\n",
       "      <td>0</td>\n",
       "    </tr>\n",
       "    <tr>\n",
       "      <th>63</th>\n",
       "      <td>16</td>\n",
       "      <td>1011081-mautic@mail.com</td>\n",
       "      <td>empty</td>\n",
       "      <td>0</td>\n",
       "    </tr>\n",
       "    <tr>\n",
       "      <th>64</th>\n",
       "      <td>16</td>\n",
       "      <td>1011096-mautic@mail.com</td>\n",
       "      <td>empty</td>\n",
       "      <td>0</td>\n",
       "    </tr>\n",
       "    <tr>\n",
       "      <th>66</th>\n",
       "      <td>16</td>\n",
       "      <td>1011129-mautic@mail.com</td>\n",
       "      <td>empty</td>\n",
       "      <td>0</td>\n",
       "    </tr>\n",
       "    <tr>\n",
       "      <th>71</th>\n",
       "      <td>16</td>\n",
       "      <td>1011227-mautic@mail.com</td>\n",
       "      <td>empty</td>\n",
       "      <td>0</td>\n",
       "    </tr>\n",
       "    <tr>\n",
       "      <th>67</th>\n",
       "      <td>16</td>\n",
       "      <td>1011134-mautic@mail.com</td>\n",
       "      <td>empty</td>\n",
       "      <td>0</td>\n",
       "    </tr>\n",
       "    <tr>\n",
       "      <th>69</th>\n",
       "      <td>16</td>\n",
       "      <td>1011144-mautic@mail.com</td>\n",
       "      <td>empty</td>\n",
       "      <td>1</td>\n",
       "    </tr>\n",
       "    <tr>\n",
       "      <th>70</th>\n",
       "      <td>16</td>\n",
       "      <td>1011151-mautic@mail.com</td>\n",
       "      <td>empty</td>\n",
       "      <td>0</td>\n",
       "    </tr>\n",
       "    <tr>\n",
       "      <th>114</th>\n",
       "      <td>16</td>\n",
       "      <td>957584-mautic@mail.com</td>\n",
       "      <td>empty</td>\n",
       "      <td>0</td>\n",
       "    </tr>\n",
       "    <tr>\n",
       "      <th>72</th>\n",
       "      <td>16</td>\n",
       "      <td>1011238-mautic@mail.com</td>\n",
       "      <td>empty</td>\n",
       "      <td>0</td>\n",
       "    </tr>\n",
       "    <tr>\n",
       "      <th>56</th>\n",
       "      <td>16</td>\n",
       "      <td>1011039-mautic@mail.com</td>\n",
       "      <td>empty</td>\n",
       "      <td>0</td>\n",
       "    </tr>\n",
       "    <tr>\n",
       "      <th>103</th>\n",
       "      <td>16</td>\n",
       "      <td>175081-mautic@mail.com</td>\n",
       "      <td>fe.mazziotti@uol.com.br</td>\n",
       "      <td>0</td>\n",
       "    </tr>\n",
       "  </tbody>\n",
       "</table>\n",
       "</div>"
      ],
      "text/plain": [
       "     votos                              email  \\\n",
       "99      32            1020159-mautic@mail.com   \n",
       "98      32            1018116-mautic@mail.com   \n",
       "97      32            1013594-mautic@mail.com   \n",
       "96      32            1013378-mautic@mail.com   \n",
       "88      32            1012568-mautic@mail.com   \n",
       "94      32            1013266-mautic@mail.com   \n",
       "21      31            1004115-mautic@mail.com   \n",
       "107     31             317125-mautic@mail.com   \n",
       "93      31            1012834-mautic@mail.com   \n",
       "30      24            1007975-mautic@mail.com   \n",
       "73      24            1011245-mautic@mail.com   \n",
       "104     24              18184-mautic@mail.com   \n",
       "90      24            1012632-mautic@mail.com   \n",
       "89      24            1012622-mautic@mail.com   \n",
       "87      24            1012543-mautic@mail.com   \n",
       "86      24            1012512-mautic@mail.com   \n",
       "80      24            1012476-mautic@mail.com   \n",
       "79      24            1012473-mautic@mail.com   \n",
       "41      24            1010091-mautic@mail.com   \n",
       "91      24            1012639-mautic@mail.com   \n",
       "27      24            1007522-mautic@mail.com   \n",
       "105     24             182111-mautic@mail.com   \n",
       "117     24             982933-mautic@mail.com   \n",
       "142     24  rsdelfinorepresentacoes@gmail.com   \n",
       "140     24       josianne.meyer1611@gmail.com   \n",
       "133     24             999994-mautic@mail.com   \n",
       "119     24             984488-mautic@mail.com   \n",
       "141     24       moisesantoniocouto@gmail.com   \n",
       "59      24            1011046-mautic@mail.com   \n",
       "106     24             232863-mautic@mail.com   \n",
       "109     24             477184-mautic@mail.com   \n",
       "113     24             896089-mautic@mail.com   \n",
       "92      22            1012729-mautic@mail.com   \n",
       "126     21             994697-mautic@mail.com   \n",
       "78      21            1011764-mautic@mail.com   \n",
       "76      21            1011395-mautic@mail.com   \n",
       "75      21            1011371-mautic@mail.com   \n",
       "74      21            1011353-mautic@mail.com   \n",
       "60      16            1011047-mautic@mail.com   \n",
       "63      16            1011081-mautic@mail.com   \n",
       "64      16            1011096-mautic@mail.com   \n",
       "66      16            1011129-mautic@mail.com   \n",
       "71      16            1011227-mautic@mail.com   \n",
       "67      16            1011134-mautic@mail.com   \n",
       "69      16            1011144-mautic@mail.com   \n",
       "70      16            1011151-mautic@mail.com   \n",
       "114     16             957584-mautic@mail.com   \n",
       "72      16            1011238-mautic@mail.com   \n",
       "56      16            1011039-mautic@mail.com   \n",
       "103     16             175081-mautic@mail.com   \n",
       "\n",
       "                                 mautic_email  comentarios_aprovados  \n",
       "99                simonevilasboas@hotmail.com                      0  \n",
       "98                                      empty                      2  \n",
       "97                                      empty                      0  \n",
       "96                                      empty                      0  \n",
       "88                  laeliopereira@hotmail.com                      1  \n",
       "94                                      empty                      0  \n",
       "21                                      empty                      0  \n",
       "107  vanderlei_oliveiradossantos@yahoo.com.br                      0  \n",
       "93                                      empty                      1  \n",
       "30                                      empty                      0  \n",
       "73                                      empty                      0  \n",
       "104                     mauronc1960@gmail.com                      1  \n",
       "90                                      empty                      1  \n",
       "89                                      empty                      0  \n",
       "87                                      empty                      0  \n",
       "86                                      empty                      0  \n",
       "80               angelamarciasantos@gmail.com                      0  \n",
       "79                                      empty                      1  \n",
       "41                                      empty                      0  \n",
       "91                                      empty                      0  \n",
       "27                                      empty                      0  \n",
       "105             lais.dutravargas@yahoo.com.br                      1  \n",
       "117                                     empty                      0  \n",
       "142         rsdelfinorepresentacoes@gmail.com                      0  \n",
       "140              josianne.meyer1611@gmail.com                      1  \n",
       "133                  aymonecosta@yahoo.com.br                      0  \n",
       "119                                     empty                      0  \n",
       "141              moisesantoniocouto@gmail.com                      0  \n",
       "59                                      empty                      1  \n",
       "106           paulocesarsiqueira@yahoo.com.br                      0  \n",
       "109                 olinthordsouza@uol.com.br                      0  \n",
       "113                 siul.prado.lcdp@gmail.com                      0  \n",
       "92                                      empty                      0  \n",
       "126                                     empty                      2  \n",
       "78                                      empty                      0  \n",
       "76                                      empty                      0  \n",
       "75                                      empty                      1  \n",
       "74                                      empty                      0  \n",
       "60                                      empty                      0  \n",
       "63                                      empty                      0  \n",
       "64                                      empty                      0  \n",
       "66                                      empty                      0  \n",
       "71                                      empty                      0  \n",
       "67                                      empty                      0  \n",
       "69                                      empty                      1  \n",
       "70                                      empty                      0  \n",
       "114                                     empty                      0  \n",
       "72                                      empty                      0  \n",
       "56                                      empty                      0  \n",
       "103                   fe.mazziotti@uol.com.br                      0  "
      ]
     },
     "execution_count": 65,
     "metadata": {},
     "output_type": "execute_result"
    }
   ],
   "source": [
    "comments_only = pd.read_json('/tmp/airflow/comments_only.json')\n",
    "top_50_with_mautic_mail['comentarios_aprovados'] = 0\n",
    "for ej_email in top_50_with_mautic_mail['email']:\n",
    "    comments = len(comments_only[comments_only['autor'] == ej_email])\n",
    "    if(comments > 0):\n",
    "        top_50_with_mautic_mail.loc[top_50_with_mautic_mail['email'] ==  ej_email, 'comentarios_aprovados'] = comments\n",
    "top_50_with_mautic_mail"
   ]
  },
  {
   "cell_type": "markdown",
   "metadata": {},
   "source": [
    "## Cruzamentos dos dados entre EJ, Mautic e Analytics."
   ]
  },
  {
   "cell_type": "code",
   "execution_count": 66,
   "metadata": {},
   "outputs": [],
   "source": [
    "# EJ(votos) + Mautic(contatos) + Dados gerais de Analytics\n",
    "votes_analytics_mautic_df = pd.read_csv('/tmp/airflow/votes_analytics_mautic.csv',dtype={'analytics_client_id': str})\n",
    "votes_analytics_mautic_df['analytics_source'].fillna(\"empty\", inplace=True)\n",
    "votes_analytics_mautic_df['mautic_email'].fillna(\"empty\", inplace=True)\n",
    "votes_analytics_mautic_df['analytics_campaign'].fillna(\"empty\", inplace=True)"
   ]
  },
  {
   "cell_type": "markdown",
   "metadata": {},
   "source": [
    "   ### Número de votos por canal (mtc_source)"
   ]
  },
  {
   "cell_type": "code",
   "execution_count": 67,
   "metadata": {},
   "outputs": [
    {
     "name": "stdout",
     "output_type": "stream",
     "text": [
      "Número total de votos :1203\n"
     ]
    },
    {
     "data": {
      "image/png": "[encoded data removed]",
      "text/plain": [
       "<Figure size 1440x576 with 1 Axes>"
      ]
     },
     "metadata": {
      "needs_background": "light"
     },
     "output_type": "display_data"
    }
   ],
   "source": [
    "votes_by_channel_df = votes_analytics_mautic_df.groupby('analytics_source').count()\n",
    "votes_by_channel_df.reset_index(inplace=True)\n",
    "plt.figure(figsize=(20,8))\n",
    "votes_by_channel_df.sort_values(by='escolha', inplace=True)\n",
    "sns.set_style('whitegrid')\n",
    "plot = sns.barplot(y='analytics_source', x='escolha', data=votes_by_channel_df)\n",
    "print(f\"Número total de votos :{votes_by_channel_df['escolha'].sum()}\")"
   ]
  },
  {
   "cell_type": "markdown",
   "metadata": {},
   "source": [
    "### Número de usuários únicos por canal (mtc_source)"
   ]
  },
  {
   "cell_type": "code",
   "execution_count": 68,
   "metadata": {},
   "outputs": [
    {
     "name": "stdout",
     "output_type": "stream",
     "text": [
      "Usuários únicos por canal com pelo menos um voto:75\n"
     ]
    },
    {
     "data": {
      "image/png": "[encoded data removed]",
      "text/plain": [
       "<Figure size 1440x576 with 1 Axes>"
      ]
     },
     "metadata": {},
     "output_type": "display_data"
    }
   ],
   "source": [
    "uniq_users_by_source_df = votes_analytics_mautic_df.groupby(['analytics_source']).nunique()\n",
    "uniq_users_by_source_df.drop('analytics_source', axis=1, inplace=True)\n",
    "uniq_users_by_source_df.reset_index(inplace=True)\n",
    "plt.figure(figsize=(20,8))\n",
    "uniq_users_by_source_df.sort_values(by='analytics_client_id', inplace=True)\n",
    "sns.set_style('whitegrid')\n",
    "sns.barplot(y='analytics_source', x='analytics_client_id', data=uniq_users_by_source_df)\n",
    "print(f\"Usuários únicos por canal com pelo menos um voto:{uniq_users_by_source_df['analytics_client_id'].sum()}\")"
   ]
  },
  {
   "cell_type": "markdown",
   "metadata": {},
   "source": [
    "### TOP 50 usuários votantes (com mautic_email valido)"
   ]
  },
  {
   "cell_type": "code",
   "execution_count": 69,
   "metadata": {},
   "outputs": [
    {
     "data": {
      "text/html": [
       "<div>\n",
       "<style scoped>\n",
       "    .dataframe tbody tr th:only-of-type {\n",
       "        vertical-align: middle;\n",
       "    }\n",
       "\n",
       "    .dataframe tbody tr th {\n",
       "        vertical-align: top;\n",
       "    }\n",
       "\n",
       "    .dataframe thead th {\n",
       "        text-align: right;\n",
       "    }\n",
       "</style>\n",
       "<table border=\"1\" class=\"dataframe\">\n",
       "  <thead>\n",
       "    <tr style=\"text-align: right;\">\n",
       "      <th></th>\n",
       "      <th>analytics_client_id</th>\n",
       "      <th>votos</th>\n",
       "      <th>mautic_email</th>\n",
       "    </tr>\n",
       "  </thead>\n",
       "  <tbody>\n",
       "    <tr>\n",
       "      <th>12</th>\n",
       "      <td>1410091569.1589256160</td>\n",
       "      <td>32</td>\n",
       "      <td>simonevilasboas@hotmail.com</td>\n",
       "    </tr>\n",
       "    <tr>\n",
       "      <th>61</th>\n",
       "      <td>707828180.1588364694</td>\n",
       "      <td>31</td>\n",
       "      <td>vanderlei_oliveiradossantos@yahoo.com.br</td>\n",
       "    </tr>\n",
       "    <tr>\n",
       "      <th>25</th>\n",
       "      <td>1667238980.1581114839</td>\n",
       "      <td>24</td>\n",
       "      <td>siul.prado.lcdp@gmail.com</td>\n",
       "    </tr>\n",
       "    <tr>\n",
       "      <th>51</th>\n",
       "      <td>397769184.1587727960</td>\n",
       "      <td>24</td>\n",
       "      <td>lais.dutravargas@yahoo.com.br</td>\n",
       "    </tr>\n",
       "    <tr>\n",
       "      <th>43</th>\n",
       "      <td>1952709213.1586711979</td>\n",
       "      <td>24</td>\n",
       "      <td>aymonecosta@yahoo.com.br</td>\n",
       "    </tr>\n",
       "    <tr>\n",
       "      <th>57</th>\n",
       "      <td>593129003.1588287464</td>\n",
       "      <td>24</td>\n",
       "      <td>paulocesarsiqueira@yahoo.com.br</td>\n",
       "    </tr>\n",
       "    <tr>\n",
       "      <th>34</th>\n",
       "      <td>1780264117.1588287269</td>\n",
       "      <td>24</td>\n",
       "      <td>olinthordsouza@uol.com.br</td>\n",
       "    </tr>\n",
       "    <tr>\n",
       "      <th>6</th>\n",
       "      <td>125751368.1537721012</td>\n",
       "      <td>16</td>\n",
       "      <td>c.beto@globo.com</td>\n",
       "    </tr>\n",
       "    <tr>\n",
       "      <th>27</th>\n",
       "      <td>1687884283.1544397112</td>\n",
       "      <td>16</td>\n",
       "      <td>fe.mazziotti@uol.com.br</td>\n",
       "    </tr>\n",
       "    <tr>\n",
       "      <th>54</th>\n",
       "      <td>446669856.1588123278</td>\n",
       "      <td>9</td>\n",
       "      <td>taciano_mm@yahoo.com.br</td>\n",
       "    </tr>\n",
       "    <tr>\n",
       "      <th>33</th>\n",
       "      <td>1774784749.1588139456</td>\n",
       "      <td>8</td>\n",
       "      <td>miguelconsultoria@yahoo.com.br</td>\n",
       "    </tr>\n",
       "    <tr>\n",
       "      <th>42</th>\n",
       "      <td>1935361641.1588287568</td>\n",
       "      <td>5</td>\n",
       "      <td>fernanda123ja@gmail.com</td>\n",
       "    </tr>\n",
       "    <tr>\n",
       "      <th>70</th>\n",
       "      <td>888531665.1584570531</td>\n",
       "      <td>4</td>\n",
       "      <td>julianoeletronica@hotmail.com</td>\n",
       "    </tr>\n",
       "  </tbody>\n",
       "</table>\n",
       "</div>"
      ],
      "text/plain": [
       "      analytics_client_id  votos                              mautic_email\n",
       "12  1410091569.1589256160     32               simonevilasboas@hotmail.com\n",
       "61   707828180.1588364694     31  vanderlei_oliveiradossantos@yahoo.com.br\n",
       "25  1667238980.1581114839     24                 siul.prado.lcdp@gmail.com\n",
       "51   397769184.1587727960     24             lais.dutravargas@yahoo.com.br\n",
       "43  1952709213.1586711979     24                  aymonecosta@yahoo.com.br\n",
       "57   593129003.1588287464     24           paulocesarsiqueira@yahoo.com.br\n",
       "34  1780264117.1588287269     24                 olinthordsouza@uol.com.br\n",
       "6    125751368.1537721012     16                          c.beto@globo.com\n",
       "27  1687884283.1544397112     16                   fe.mazziotti@uol.com.br\n",
       "54   446669856.1588123278      9                   taciano_mm@yahoo.com.br\n",
       "33  1774784749.1588139456      8            miguelconsultoria@yahoo.com.br\n",
       "42  1935361641.1588287568      5                   fernanda123ja@gmail.com\n",
       "70   888531665.1584570531      4             julianoeletronica@hotmail.com"
      ]
     },
     "execution_count": 69,
     "metadata": {},
     "output_type": "execute_result"
    }
   ],
   "source": [
    "tmp = votes_analytics_mautic_df.groupby(['analytics_client_id', 'mautic_email']).count().reset_index(level=0).reset_index(level=0)\n",
    "top_50_voters_df = pd.DataFrame(tmp, columns=['analytics_client_id', 'criado', 'mautic_email']) \n",
    "top_50_voters_df.rename(columns={'criado': 'votos'}, inplace=True)\n",
    "top_50_voters_df.sort_values(by='votos', inplace=True, ascending=False)\n",
    "top_50_voters_df[top_50_voters_df['mautic_email'] != \"empty\"].head(50)"
   ]
  },
  {
   "cell_type": "markdown",
   "metadata": {},
   "source": [
    "### número de usuários com pelo menos 1 voto no período de 17 a 23/abril"
   ]
  },
  {
   "cell_type": "code",
   "execution_count": 70,
   "metadata": {},
   "outputs": [
    {
     "name": "stdout",
     "output_type": "stream",
     "text": [
      "Número de usuários com pelo menos 1 voto entre 17 e 23/abril: 2\n"
     ]
    }
   ],
   "source": [
    "first_day = datetime.datetime(2020, 4, 17, 0, 0 , 0, tzinfo=tzlocal())\n",
    "last_day = datetime.datetime(2020, 4, 23, 23, 59, 59, tzinfo=tzlocal())\n",
    "df_analytics_17_23 = dataframe_between_dates(votes_analytics_mautic_df, first_day, last_day)\n",
    "print(f\"Número de usuários com pelo menos 1 voto entre 17 e 23/abril: {len(df_analytics_17_23['email'].value_counts())}\")"
   ]
  },
  {
   "cell_type": "markdown",
   "metadata": {},
   "source": [
    "### número de usuários com pelo menos 1 voto no período de 24 a 26/abril"
   ]
  },
  {
   "cell_type": "code",
   "execution_count": 71,
   "metadata": {},
   "outputs": [
    {
     "name": "stdout",
     "output_type": "stream",
     "text": [
      "Número de usuários com pelo menos 1 voto entre 24 e 26/abril: 3\n",
      "Desse conjunto de usuários acima, quantos nunca tinham votado antes: 3\n"
     ]
    }
   ],
   "source": [
    "first_day = datetime.datetime(2020, 4, 24, tzinfo=tzlocal())\n",
    "last_day = datetime.datetime(2020, 4, 26,23, 59, 59, tzinfo=tzlocal())\n",
    "\n",
    "df_analytics_24_26 = dataframe_between_dates(votes_analytics_mautic_df, first_day, last_day)\n",
    "df_analytics_before_24 = dataframe_between_dates(votes_analytics_mautic_df, first_day, None)\n",
    "votes_before_24 = len(df_analytics_24_26['email'].value_counts()) - len(df_analytics_before_24[df_analytics_before_24['email'].map(lambda x: x in df_analytics_24_26['email'])])\n",
    "\n",
    "print(f\"Número de usuários com pelo menos 1 voto entre 24 e 26/abril: {len(df_analytics_24_26['email'].value_counts())}\")\n",
    "print(f\"Desse conjunto de usuários acima, quantos nunca tinham votado antes: {votes_before_24}\")"
   ]
  },
  {
   "cell_type": "markdown",
   "metadata": {},
   "source": [
    "### número de usuários com pelo menos 1 voto no período de 27/abril a 14/maio com UTM_campaign vazio"
   ]
  },
  {
   "cell_type": "code",
   "execution_count": 72,
   "metadata": {},
   "outputs": [
    {
     "name": "stdout",
     "output_type": "stream",
     "text": [
      "Número de usuários com pelo menos 1 voto entre 27/abril e 14/maio: 35\n",
      "Desse conjunto de usuários acima, quantos nunca tinham votado antes: 35\n"
     ]
    }
   ],
   "source": [
    "first_day = datetime.datetime(2020, 4, 27, tzinfo=tzlocal())\n",
    "last_day = datetime.datetime(2020, 5, 14, 23, 59, 59, tzinfo=tzlocal())\n",
    "votes_by_campaign = votes_analytics_mautic_df[(votes_analytics_mautic_df['analytics_campaign'] == 'empty') | (votes_analytics_mautic_df['analytics_campaign'] == '(not set)')]\n",
    "df_analytics_27_14 = dataframe_between_dates(votes_by_campaign, first_day, last_day)\n",
    "df_analytics_before_27 = dataframe_between_dates(votes_analytics_mautic_df, first_day, None)\n",
    "votes_before_27 = len(df_analytics_27_14['email'].value_counts()) - len(df_analytics_before_27[df_analytics_before_27['email'].map(lambda x: x in df_analytics_27_14['email'])])\n",
    "\n",
    "print(f\"Número de usuários com pelo menos 1 voto entre 27/abril e 14/maio: {len(df_analytics_27_14['email'].value_counts())}\")\n",
    "print(f\"Desse conjunto de usuários acima, quantos nunca tinham votado antes: {votes_before_27}\")"
   ]
  },
  {
   "cell_type": "markdown",
   "metadata": {},
   "source": [
    "### número de usuários com pelo menos 1 voto a partir de 28/abril com UTM_campaign = \"datafolha28abril\" e UTM_campaign = \"bio\""
   ]
  },
  {
   "cell_type": "code",
   "execution_count": 73,
   "metadata": {},
   "outputs": [
    {
     "name": "stdout",
     "output_type": "stream",
     "text": [
      "Número de usuários com pelo menos 1 voto a partir do dia 28 de abril: 32\n"
     ]
    }
   ],
   "source": [
    "first_day = datetime.datetime(2020, 4, 28, tzinfo=tzlocal())\n",
    "\n",
    "votes_by_campaign = votes_analytics_mautic_df[(votes_analytics_mautic_df['analytics_campaign'] == 'datafolha28abril') | (votes_analytics_mautic_df['analytics_campaign'] == 'bio')]\n",
    "df_analytics_28 = dataframe_between_dates(votes_by_campaign, None, first_day)\n",
    "\n",
    "print(f\"Número de usuários com pelo menos 1 voto a partir do dia 28 de abril: {len(df_analytics_28['email'].value_counts())}\")"
   ]
  },
  {
   "cell_type": "markdown",
   "metadata": {},
   "source": [
    "### número de usuários com pelo menos 1 voto no período de 28/abril a 01/maio com UTM_campaign vazio"
   ]
  },
  {
   "cell_type": "code",
   "execution_count": 74,
   "metadata": {},
   "outputs": [
    {
     "name": "stdout",
     "output_type": "stream",
     "text": [
      "Número de usuários com pelo menos 1 voto a partir do dia 28 de abril: 3\n"
     ]
    }
   ],
   "source": [
    "first_day = datetime.datetime(2020, 4, 28, tzinfo=tzlocal())\n",
    "\n",
    "votes_by_campaign = votes_analytics_mautic_df[(votes_analytics_mautic_df['analytics_campaign'] == '(note set)') | (votes_analytics_mautic_df['analytics_campaign'] == 'empty')]\n",
    "df_analytics_28 = dataframe_between_dates(votes_by_campaign, None, first_day)\n",
    "\n",
    "print(f\"Número de usuários com pelo menos 1 voto a partir do dia 28 de abril: {len(df_analytics_28['email'].value_counts())}\")"
   ]
  },
  {
   "cell_type": "markdown",
   "metadata": {},
   "source": [
    "### dos conjuntos de usuários dos ítens (7) e (8) somados, quantos usuários não tinham votado nenhuma vez antes"
   ]
  },
  {
   "cell_type": "code",
   "execution_count": 75,
   "metadata": {},
   "outputs": [
    {
     "name": "stdout",
     "output_type": "stream",
     "text": [
      "Número de usuários com pelo menos 1 voto a partir do dia 28 de abril: 35\n",
      "Desse conjunto de usuários acima, quantos nunca tinham votado antes: 35\n"
     ]
    }
   ],
   "source": [
    "first_day = datetime.datetime(2020, 4, 28, tzinfo=tzlocal())\n",
    "last_day = datetime.datetime(2020, 5, 1, 23, 59, 59, tzinfo=tzlocal())\n",
    "\n",
    "votes_by_campaign = votes_analytics_mautic_df[(votes_analytics_mautic_df['analytics_campaign'] == '(note set)') | (votes_analytics_mautic_df['analytics_campaign'] == 'empty') | (votes_analytics_mautic_df['analytics_campaign'] == 'datafolha28abril') | (votes_analytics_mautic_df['analytics_campaign'] == 'bio')]\n",
    "df_analytics_28 = dataframe_between_dates(votes_by_campaign, None, first_day)\n",
    "df_analytics_before_28 = dataframe_between_dates(votes_by_campaign, first_day, None)\n",
    "votes_before_28 =  len(df_analytics_28['email'].value_counts() - len(df_analytics_before_28[df_analytics_before_28['email'].map(lambda x: x in df_analytics_28['email'])]))\n",
    "print(f\"Número de usuários com pelo menos 1 voto a partir do dia 28 de abril: {len(df_analytics_28['email'].value_counts())}\")\n",
    "print(f\"Desse conjunto de usuários acima, quantos nunca tinham votado antes: {votes_before_28}\")"
   ]
  },
  {
   "cell_type": "markdown",
   "metadata": {},
   "source": [
    "### número de usuários com pelo menos 1 voto a partir de 8/maio com UTM_campaign = \"chapecó8maio\""
   ]
  },
  {
   "cell_type": "code",
   "execution_count": 76,
   "metadata": {},
   "outputs": [
    {
     "name": "stdout",
     "output_type": "stream",
     "text": [
      "Número de usuários com pelo menos 1 voto a partir do dia 8: 1\n"
     ]
    },
    {
     "data": {
      "text/html": [
       "<div>\n",
       "<style scoped>\n",
       "    .dataframe tbody tr th:only-of-type {\n",
       "        vertical-align: middle;\n",
       "    }\n",
       "\n",
       "    .dataframe tbody tr th {\n",
       "        vertical-align: top;\n",
       "    }\n",
       "\n",
       "    .dataframe thead th {\n",
       "        text-align: right;\n",
       "    }\n",
       "</style>\n",
       "<table border=\"1\" class=\"dataframe\">\n",
       "  <thead>\n",
       "    <tr style=\"text-align: right;\">\n",
       "      <th></th>\n",
       "      <th>email</th>\n",
       "      <th>votos</th>\n",
       "      <th>mautic_email</th>\n",
       "    </tr>\n",
       "  </thead>\n",
       "  <tbody>\n",
       "    <tr>\n",
       "      <th>0</th>\n",
       "      <td>1020159-mautic@mail.com</td>\n",
       "      <td>32</td>\n",
       "      <td>simonevilasboas@hotmail.com</td>\n",
       "    </tr>\n",
       "  </tbody>\n",
       "</table>\n",
       "</div>"
      ],
      "text/plain": [
       "                     email  votos                 mautic_email\n",
       "0  1020159-mautic@mail.com     32  simonevilasboas@hotmail.com"
      ]
     },
     "execution_count": 76,
     "metadata": {},
     "output_type": "execute_result"
    }
   ],
   "source": [
    "first_day = datetime.datetime(2020, 5, 8, 23, 59, 59, tzinfo=tzlocal())\n",
    "\n",
    "df_by_campaign = votes_analytics_mautic_df[(votes_analytics_mautic_df['analytics_campaign'] == 'chapecó8maio')]\n",
    "df_analytics_08 = dataframe_between_dates(df_by_campaign, None, first_day)\n",
    "print(f\"Número de usuários com pelo menos 1 voto a partir do dia 8: {len(df_analytics_08['email'].value_counts())}\")\n",
    "fill_df_with_mautic_email(df_analytics_08.groupby(['email']).count().reset_index(level=0))"
   ]
  },
  {
   "cell_type": "markdown",
   "metadata": {},
   "source": [
    "## Análise de engajamento vs aquisição"
   ]
  },
  {
   "cell_type": "code",
   "execution_count": 45,
   "metadata": {},
   "outputs": [
    {
     "data": {
      "application/vnd.plotly.v1+json": {
       "config": {
        "plotlyServerURL": "https://plot.ly"
       },
       "data": [
        {
         "marker": {
          "size": [
           778
          ],
          "sizeref": 3
         },
         "mode": "markers+text",
         "text": "Número de acessos: 778",
         "textposition": "bottom center",
         "type": "scatter",
         "x": [
          0
         ],
         "y": [
          0
         ]
        },
        {
         "marker": {
          "size": [
           150
          ],
          "sizeref": 3
         },
         "mode": "markers+text",
         "text": "Número de usuários: 19.28020565552699 %",
         "textposition": "bottom center",
         "type": "scatter",
         "x": [
          0
         ],
         "y": [
          0
         ]
        }
       ],
       "layout": {
        "template": {
         "data": {
          "bar": [
           {
            "error_x": {
             "color": "#2a3f5f"
            },
            "error_y": {
             "color": "#2a3f5f"
            },
            "marker": {
             "line": {
              "color": "#E5ECF6",
              "width": 0.5
             }
            },
            "type": "bar"
           }
          ],
          "barpolar": [
           {
            "marker": {
             "line": {
              "color": "#E5ECF6",
              "width": 0.5
             }
            },
            "type": "barpolar"
           }
          ],
          "carpet": [
           {
            "aaxis": {
             "endlinecolor": "#2a3f5f",
             "gridcolor": "white",
             "linecolor": "white",
             "minorgridcolor": "white",
             "startlinecolor": "#2a3f5f"
            },
            "baxis": {
             "endlinecolor": "#2a3f5f",
             "gridcolor": "white",
             "linecolor": "white",
             "minorgridcolor": "white",
             "startlinecolor": "#2a3f5f"
            },
            "type": "carpet"
           }
          ],
          "choropleth": [
           {
            "colorbar": {
             "outlinewidth": 0,
             "ticks": ""
            },
            "type": "choropleth"
           }
          ],
          "contour": [
           {
            "colorbar": {
             "outlinewidth": 0,
             "ticks": ""
            },
            "colorscale": [
             [
              0,
              "#0d0887"
             ],
             [
              0.1111111111111111,
              "#46039f"
             ],
             [
              0.2222222222222222,
              "#7201a8"
             ],
             [
              0.3333333333333333,
              "#9c179e"
             ],
             [
              0.4444444444444444,
              "#bd3786"
             ],
             [
              0.5555555555555556,
              "#d8576b"
             ],
             [
              0.6666666666666666,
              "#ed7953"
             ],
             [
              0.7777777777777778,
              "#fb9f3a"
             ],
             [
              0.8888888888888888,
              "#fdca26"
             ],
             [
              1,
              "#f0f921"
             ]
            ],
            "type": "contour"
           }
          ],
          "contourcarpet": [
           {
            "colorbar": {
             "outlinewidth": 0,
             "ticks": ""
            },
            "type": "contourcarpet"
           }
          ],
          "heatmap": [
           {
            "colorbar": {
             "outlinewidth": 0,
             "ticks": ""
            },
            "colorscale": [
             [
              0,
              "#0d0887"
             ],
             [
              0.1111111111111111,
              "#46039f"
             ],
             [
              0.2222222222222222,
              "#7201a8"
             ],
             [
              0.3333333333333333,
              "#9c179e"
             ],
             [
              0.4444444444444444,
              "#bd3786"
             ],
             [
              0.5555555555555556,
              "#d8576b"
             ],
             [
              0.6666666666666666,
              "#ed7953"
             ],
             [
              0.7777777777777778,
              "#fb9f3a"
             ],
             [
              0.8888888888888888,
              "#fdca26"
             ],
             [
              1,
              "#f0f921"
             ]
            ],
            "type": "heatmap"
           }
          ],
          "heatmapgl": [
           {
            "colorbar": {
             "outlinewidth": 0,
             "ticks": ""
            },
            "colorscale": [
             [
              0,
              "#0d0887"
             ],
             [
              0.1111111111111111,
              "#46039f"
             ],
             [
              0.2222222222222222,
              "#7201a8"
             ],
             [
              0.3333333333333333,
              "#9c179e"
             ],
             [
              0.4444444444444444,
              "#bd3786"
             ],
             [
              0.5555555555555556,
              "#d8576b"
             ],
             [
              0.6666666666666666,
              "#ed7953"
             ],
             [
              0.7777777777777778,
              "#fb9f3a"
             ],
             [
              0.8888888888888888,
              "#fdca26"
             ],
             [
              1,
              "#f0f921"
             ]
            ],
            "type": "heatmapgl"
           }
          ],
          "histogram": [
           {
            "marker": {
             "colorbar": {
              "outlinewidth": 0,
              "ticks": ""
             }
            },
            "type": "histogram"
           }
          ],
          "histogram2d": [
           {
            "colorbar": {
             "outlinewidth": 0,
             "ticks": ""
            },
            "colorscale": [
             [
              0,
              "#0d0887"
             ],
             [
              0.1111111111111111,
              "#46039f"
             ],
             [
              0.2222222222222222,
              "#7201a8"
             ],
             [
              0.3333333333333333,
              "#9c179e"
             ],
             [
              0.4444444444444444,
              "#bd3786"
             ],
             [
              0.5555555555555556,
              "#d8576b"
             ],
             [
              0.6666666666666666,
              "#ed7953"
             ],
             [
              0.7777777777777778,
              "#fb9f3a"
             ],
             [
              0.8888888888888888,
              "#fdca26"
             ],
             [
              1,
              "#f0f921"
             ]
            ],
            "type": "histogram2d"
           }
          ],
          "histogram2dcontour": [
           {
            "colorbar": {
             "outlinewidth": 0,
             "ticks": ""
            },
            "colorscale": [
             [
              0,
              "#0d0887"
             ],
             [
              0.1111111111111111,
              "#46039f"
             ],
             [
              0.2222222222222222,
              "#7201a8"
             ],
             [
              0.3333333333333333,
              "#9c179e"
             ],
             [
              0.4444444444444444,
              "#bd3786"
             ],
             [
              0.5555555555555556,
              "#d8576b"
             ],
             [
              0.6666666666666666,
              "#ed7953"
             ],
             [
              0.7777777777777778,
              "#fb9f3a"
             ],
             [
              0.8888888888888888,
              "#fdca26"
             ],
             [
              1,
              "#f0f921"
             ]
            ],
            "type": "histogram2dcontour"
           }
          ],
          "mesh3d": [
           {
            "colorbar": {
             "outlinewidth": 0,
             "ticks": ""
            },
            "type": "mesh3d"
           }
          ],
          "parcoords": [
           {
            "line": {
             "colorbar": {
              "outlinewidth": 0,
              "ticks": ""
             }
            },
            "type": "parcoords"
           }
          ],
          "pie": [
           {
            "automargin": true,
            "type": "pie"
           }
          ],
          "scatter": [
           {
            "marker": {
             "colorbar": {
              "outlinewidth": 0,
              "ticks": ""
             }
            },
            "type": "scatter"
           }
          ],
          "scatter3d": [
           {
            "line": {
             "colorbar": {
              "outlinewidth": 0,
              "ticks": ""
             }
            },
            "marker": {
             "colorbar": {
              "outlinewidth": 0,
              "ticks": ""
             }
            },
            "type": "scatter3d"
           }
          ],
          "scattercarpet": [
           {
            "marker": {
             "colorbar": {
              "outlinewidth": 0,
              "ticks": ""
             }
            },
            "type": "scattercarpet"
           }
          ],
          "scattergeo": [
           {
            "marker": {
             "colorbar": {
              "outlinewidth": 0,
              "ticks": ""
             }
            },
            "type": "scattergeo"
           }
          ],
          "scattergl": [
           {
            "marker": {
             "colorbar": {
              "outlinewidth": 0,
              "ticks": ""
             }
            },
            "type": "scattergl"
           }
          ],
          "scattermapbox": [
           {
            "marker": {
             "colorbar": {
              "outlinewidth": 0,
              "ticks": ""
             }
            },
            "type": "scattermapbox"
           }
          ],
          "scatterpolar": [
           {
            "marker": {
             "colorbar": {
              "outlinewidth": 0,
              "ticks": ""
             }
            },
            "type": "scatterpolar"
           }
          ],
          "scatterpolargl": [
           {
            "marker": {
             "colorbar": {
              "outlinewidth": 0,
              "ticks": ""
             }
            },
            "type": "scatterpolargl"
           }
          ],
          "scatterternary": [
           {
            "marker": {
             "colorbar": {
              "outlinewidth": 0,
              "ticks": ""
             }
            },
            "type": "scatterternary"
           }
          ],
          "surface": [
           {
            "colorbar": {
             "outlinewidth": 0,
             "ticks": ""
            },
            "colorscale": [
             [
              0,
              "#0d0887"
             ],
             [
              0.1111111111111111,
              "#46039f"
             ],
             [
              0.2222222222222222,
              "#7201a8"
             ],
             [
              0.3333333333333333,
              "#9c179e"
             ],
             [
              0.4444444444444444,
              "#bd3786"
             ],
             [
              0.5555555555555556,
              "#d8576b"
             ],
             [
              0.6666666666666666,
              "#ed7953"
             ],
             [
              0.7777777777777778,
              "#fb9f3a"
             ],
             [
              0.8888888888888888,
              "#fdca26"
             ],
             [
              1,
              "#f0f921"
             ]
            ],
            "type": "surface"
           }
          ],
          "table": [
           {
            "cells": {
             "fill": {
              "color": "#EBF0F8"
             },
             "line": {
              "color": "white"
             }
            },
            "header": {
             "fill": {
              "color": "#C8D4E3"
             },
             "line": {
              "color": "white"
             }
            },
            "type": "table"
           }
          ]
         },
         "layout": {
          "annotationdefaults": {
           "arrowcolor": "#2a3f5f",
           "arrowhead": 0,
           "arrowwidth": 1
          },
          "coloraxis": {
           "colorbar": {
            "outlinewidth": 0,
            "ticks": ""
           }
          },
          "colorscale": {
           "diverging": [
            [
             0,
             "#8e0152"
            ],
            [
             0.1,
             "#c51b7d"
            ],
            [
             0.2,
             "#de77ae"
            ],
            [
             0.3,
             "#f1b6da"
            ],
            [
             0.4,
             "#fde0ef"
            ],
            [
             0.5,
             "#f7f7f7"
            ],
            [
             0.6,
             "#e6f5d0"
            ],
            [
             0.7,
             "#b8e186"
            ],
            [
             0.8,
             "#7fbc41"
            ],
            [
             0.9,
             "#4d9221"
            ],
            [
             1,
             "#276419"
            ]
           ],
           "sequential": [
            [
             0,
             "#0d0887"
            ],
            [
             0.1111111111111111,
             "#46039f"
            ],
            [
             0.2222222222222222,
             "#7201a8"
            ],
            [
             0.3333333333333333,
             "#9c179e"
            ],
            [
             0.4444444444444444,
             "#bd3786"
            ],
            [
             0.5555555555555556,
             "#d8576b"
            ],
            [
             0.6666666666666666,
             "#ed7953"
            ],
            [
             0.7777777777777778,
             "#fb9f3a"
            ],
            [
             0.8888888888888888,
             "#fdca26"
            ],
            [
             1,
             "#f0f921"
            ]
           ],
           "sequentialminus": [
            [
             0,
             "#0d0887"
            ],
            [
             0.1111111111111111,
             "#46039f"
            ],
            [
             0.2222222222222222,
             "#7201a8"
            ],
            [
             0.3333333333333333,
             "#9c179e"
            ],
            [
             0.4444444444444444,
             "#bd3786"
            ],
            [
             0.5555555555555556,
             "#d8576b"
            ],
            [
             0.6666666666666666,
             "#ed7953"
            ],
            [
             0.7777777777777778,
             "#fb9f3a"
            ],
            [
             0.8888888888888888,
             "#fdca26"
            ],
            [
             1,
             "#f0f921"
            ]
           ]
          },
          "colorway": [
           "#636efa",
           "#EF553B",
           "#00cc96",
           "#ab63fa",
           "#FFA15A",
           "#19d3f3",
           "#FF6692",
           "#B6E880",
           "#FF97FF",
           "#FECB52"
          ],
          "font": {
           "color": "#2a3f5f"
          },
          "geo": {
           "bgcolor": "white",
           "lakecolor": "white",
           "landcolor": "#E5ECF6",
           "showlakes": true,
           "showland": true,
           "subunitcolor": "white"
          },
          "hoverlabel": {
           "align": "left"
          },
          "hovermode": "closest",
          "mapbox": {
           "style": "light"
          },
          "paper_bgcolor": "white",
          "plot_bgcolor": "#E5ECF6",
          "polar": {
           "angularaxis": {
            "gridcolor": "white",
            "linecolor": "white",
            "ticks": ""
           },
           "bgcolor": "#E5ECF6",
           "radialaxis": {
            "gridcolor": "white",
            "linecolor": "white",
            "ticks": ""
           }
          },
          "scene": {
           "xaxis": {
            "backgroundcolor": "#E5ECF6",
            "gridcolor": "white",
            "gridwidth": 2,
            "linecolor": "white",
            "showbackground": true,
            "ticks": "",
            "zerolinecolor": "white"
           },
           "yaxis": {
            "backgroundcolor": "#E5ECF6",
            "gridcolor": "white",
            "gridwidth": 2,
            "linecolor": "white",
            "showbackground": true,
            "ticks": "",
            "zerolinecolor": "white"
           },
           "zaxis": {
            "backgroundcolor": "#E5ECF6",
            "gridcolor": "white",
            "gridwidth": 2,
            "linecolor": "white",
            "showbackground": true,
            "ticks": "",
            "zerolinecolor": "white"
           }
          },
          "shapedefaults": {
           "line": {
            "color": "#2a3f5f"
           }
          },
          "ternary": {
           "aaxis": {
            "gridcolor": "white",
            "linecolor": "white",
            "ticks": ""
           },
           "baxis": {
            "gridcolor": "white",
            "linecolor": "white",
            "ticks": ""
           },
           "bgcolor": "#E5ECF6",
           "caxis": {
            "gridcolor": "white",
            "linecolor": "white",
            "ticks": ""
           }
          },
          "title": {
           "x": 0.05
          },
          "xaxis": {
           "automargin": true,
           "gridcolor": "white",
           "linecolor": "white",
           "ticks": "",
           "title": {
            "standoff": 15
           },
           "zerolinecolor": "white",
           "zerolinewidth": 2
          },
          "yaxis": {
           "automargin": true,
           "gridcolor": "white",
           "linecolor": "white",
           "ticks": "",
           "title": {
            "standoff": 15
           },
           "zerolinecolor": "white",
           "zerolinewidth": 2
          }
         }
        },
        "xaxis": {
         "visible": false
        },
        "yaxis": {
         "visible": false
        }
       }
      },
      "text/html": [
       "<div>\n",
       "        \n",
       "        \n",
       "            <div id=\"49eefb12-a151-42ed-92bf-6b9f19d5cc92\" class=\"plotly-graph-div\" style=\"height:525px; width:100%;\"></div>\n",
       "            <script type=\"text/javascript\">\n",
       "                require([\"plotly\"], function(Plotly) {\n",
       "                    window.PLOTLYENV=window.PLOTLYENV || {};\n",
       "                    \n",
       "                if (document.getElementById(\"49eefb12-a151-42ed-92bf-6b9f19d5cc92\")) {\n",
       "                    Plotly.newPlot(\n",
       "                        '49eefb12-a151-42ed-92bf-6b9f19d5cc92',\n",
       "                        [{\"marker\": {\"size\": [778], \"sizeref\": 3}, \"mode\": \"markers+text\", \"text\": \"N\\u00famero de acessos: 778\", \"textposition\": \"bottom center\", \"type\": \"scatter\", \"x\": [0], \"y\": [0]}, {\"marker\": {\"size\": [150], \"sizeref\": 3}, \"mode\": \"markers+text\", \"text\": \"N\\u00famero de usu\\u00e1rios: 19.28020565552699 %\", \"textposition\": \"bottom center\", \"type\": \"scatter\", \"x\": [0], \"y\": [0]}],\n",
       "                        {\"template\": {\"data\": {\"bar\": [{\"error_x\": {\"color\": \"#2a3f5f\"}, \"error_y\": {\"color\": \"#2a3f5f\"}, \"marker\": {\"line\": {\"color\": \"#E5ECF6\", \"width\": 0.5}}, \"type\": \"bar\"}], \"barpolar\": [{\"marker\": {\"line\": {\"color\": \"#E5ECF6\", \"width\": 0.5}}, \"type\": \"barpolar\"}], \"carpet\": [{\"aaxis\": {\"endlinecolor\": \"#2a3f5f\", \"gridcolor\": \"white\", \"linecolor\": \"white\", \"minorgridcolor\": \"white\", \"startlinecolor\": \"#2a3f5f\"}, \"baxis\": {\"endlinecolor\": \"#2a3f5f\", \"gridcolor\": \"white\", \"linecolor\": \"white\", \"minorgridcolor\": \"white\", \"startlinecolor\": \"#2a3f5f\"}, \"type\": \"carpet\"}], \"choropleth\": [{\"colorbar\": {\"outlinewidth\": 0, \"ticks\": \"\"}, \"type\": \"choropleth\"}], \"contour\": [{\"colorbar\": {\"outlinewidth\": 0, \"ticks\": \"\"}, \"colorscale\": [[0.0, \"#0d0887\"], [0.1111111111111111, \"#46039f\"], [0.2222222222222222, \"#7201a8\"], [0.3333333333333333, \"#9c179e\"], [0.4444444444444444, \"#bd3786\"], [0.5555555555555556, \"#d8576b\"], [0.6666666666666666, \"#ed7953\"], [0.7777777777777778, \"#fb9f3a\"], [0.8888888888888888, \"#fdca26\"], [1.0, \"#f0f921\"]], \"type\": \"contour\"}], \"contourcarpet\": [{\"colorbar\": {\"outlinewidth\": 0, \"ticks\": \"\"}, \"type\": \"contourcarpet\"}], \"heatmap\": [{\"colorbar\": {\"outlinewidth\": 0, \"ticks\": \"\"}, \"colorscale\": [[0.0, \"#0d0887\"], [0.1111111111111111, \"#46039f\"], [0.2222222222222222, \"#7201a8\"], [0.3333333333333333, \"#9c179e\"], [0.4444444444444444, \"#bd3786\"], [0.5555555555555556, \"#d8576b\"], [0.6666666666666666, \"#ed7953\"], [0.7777777777777778, \"#fb9f3a\"], [0.8888888888888888, \"#fdca26\"], [1.0, \"#f0f921\"]], \"type\": \"heatmap\"}], \"heatmapgl\": [{\"colorbar\": {\"outlinewidth\": 0, \"ticks\": \"\"}, \"colorscale\": [[0.0, \"#0d0887\"], [0.1111111111111111, \"#46039f\"], [0.2222222222222222, \"#7201a8\"], [0.3333333333333333, \"#9c179e\"], [0.4444444444444444, \"#bd3786\"], [0.5555555555555556, \"#d8576b\"], [0.6666666666666666, \"#ed7953\"], [0.7777777777777778, \"#fb9f3a\"], [0.8888888888888888, \"#fdca26\"], [1.0, \"#f0f921\"]], \"type\": \"heatmapgl\"}], \"histogram\": [{\"marker\": {\"colorbar\": {\"outlinewidth\": 0, \"ticks\": \"\"}}, \"type\": \"histogram\"}], \"histogram2d\": [{\"colorbar\": {\"outlinewidth\": 0, \"ticks\": \"\"}, \"colorscale\": [[0.0, \"#0d0887\"], [0.1111111111111111, \"#46039f\"], [0.2222222222222222, \"#7201a8\"], [0.3333333333333333, \"#9c179e\"], [0.4444444444444444, \"#bd3786\"], [0.5555555555555556, \"#d8576b\"], [0.6666666666666666, \"#ed7953\"], [0.7777777777777778, \"#fb9f3a\"], [0.8888888888888888, \"#fdca26\"], [1.0, \"#f0f921\"]], \"type\": \"histogram2d\"}], \"histogram2dcontour\": [{\"colorbar\": {\"outlinewidth\": 0, \"ticks\": \"\"}, \"colorscale\": [[0.0, \"#0d0887\"], [0.1111111111111111, \"#46039f\"], [0.2222222222222222, \"#7201a8\"], [0.3333333333333333, \"#9c179e\"], [0.4444444444444444, \"#bd3786\"], [0.5555555555555556, \"#d8576b\"], [0.6666666666666666, \"#ed7953\"], [0.7777777777777778, \"#fb9f3a\"], [0.8888888888888888, \"#fdca26\"], [1.0, \"#f0f921\"]], \"type\": \"histogram2dcontour\"}], \"mesh3d\": [{\"colorbar\": {\"outlinewidth\": 0, \"ticks\": \"\"}, \"type\": \"mesh3d\"}], \"parcoords\": [{\"line\": {\"colorbar\": {\"outlinewidth\": 0, \"ticks\": \"\"}}, \"type\": \"parcoords\"}], \"pie\": [{\"automargin\": true, \"type\": \"pie\"}], \"scatter\": [{\"marker\": {\"colorbar\": {\"outlinewidth\": 0, \"ticks\": \"\"}}, \"type\": \"scatter\"}], \"scatter3d\": [{\"line\": {\"colorbar\": {\"outlinewidth\": 0, \"ticks\": \"\"}}, \"marker\": {\"colorbar\": {\"outlinewidth\": 0, \"ticks\": \"\"}}, \"type\": \"scatter3d\"}], \"scattercarpet\": [{\"marker\": {\"colorbar\": {\"outlinewidth\": 0, \"ticks\": \"\"}}, \"type\": \"scattercarpet\"}], \"scattergeo\": [{\"marker\": {\"colorbar\": {\"outlinewidth\": 0, \"ticks\": \"\"}}, \"type\": \"scattergeo\"}], \"scattergl\": [{\"marker\": {\"colorbar\": {\"outlinewidth\": 0, \"ticks\": \"\"}}, \"type\": \"scattergl\"}], \"scattermapbox\": [{\"marker\": {\"colorbar\": {\"outlinewidth\": 0, \"ticks\": \"\"}}, \"type\": \"scattermapbox\"}], \"scatterpolar\": [{\"marker\": {\"colorbar\": {\"outlinewidth\": 0, \"ticks\": \"\"}}, \"type\": \"scatterpolar\"}], \"scatterpolargl\": [{\"marker\": {\"colorbar\": {\"outlinewidth\": 0, \"ticks\": \"\"}}, \"type\": \"scatterpolargl\"}], \"scatterternary\": [{\"marker\": {\"colorbar\": {\"outlinewidth\": 0, \"ticks\": \"\"}}, \"type\": \"scatterternary\"}], \"surface\": [{\"colorbar\": {\"outlinewidth\": 0, \"ticks\": \"\"}, \"colorscale\": [[0.0, \"#0d0887\"], [0.1111111111111111, \"#46039f\"], [0.2222222222222222, \"#7201a8\"], [0.3333333333333333, \"#9c179e\"], [0.4444444444444444, \"#bd3786\"], [0.5555555555555556, \"#d8576b\"], [0.6666666666666666, \"#ed7953\"], [0.7777777777777778, \"#fb9f3a\"], [0.8888888888888888, \"#fdca26\"], [1.0, \"#f0f921\"]], \"type\": \"surface\"}], \"table\": [{\"cells\": {\"fill\": {\"color\": \"#EBF0F8\"}, \"line\": {\"color\": \"white\"}}, \"header\": {\"fill\": {\"color\": \"#C8D4E3\"}, \"line\": {\"color\": \"white\"}}, \"type\": \"table\"}]}, \"layout\": {\"annotationdefaults\": {\"arrowcolor\": \"#2a3f5f\", \"arrowhead\": 0, \"arrowwidth\": 1}, \"coloraxis\": {\"colorbar\": {\"outlinewidth\": 0, \"ticks\": \"\"}}, \"colorscale\": {\"diverging\": [[0, \"#8e0152\"], [0.1, \"#c51b7d\"], [0.2, \"#de77ae\"], [0.3, \"#f1b6da\"], [0.4, \"#fde0ef\"], [0.5, \"#f7f7f7\"], [0.6, \"#e6f5d0\"], [0.7, \"#b8e186\"], [0.8, \"#7fbc41\"], [0.9, \"#4d9221\"], [1, \"#276419\"]], \"sequential\": [[0.0, \"#0d0887\"], [0.1111111111111111, \"#46039f\"], [0.2222222222222222, \"#7201a8\"], [0.3333333333333333, \"#9c179e\"], [0.4444444444444444, \"#bd3786\"], [0.5555555555555556, \"#d8576b\"], [0.6666666666666666, \"#ed7953\"], [0.7777777777777778, \"#fb9f3a\"], [0.8888888888888888, \"#fdca26\"], [1.0, \"#f0f921\"]], \"sequentialminus\": [[0.0, \"#0d0887\"], [0.1111111111111111, \"#46039f\"], [0.2222222222222222, \"#7201a8\"], [0.3333333333333333, \"#9c179e\"], [0.4444444444444444, \"#bd3786\"], [0.5555555555555556, \"#d8576b\"], [0.6666666666666666, \"#ed7953\"], [0.7777777777777778, \"#fb9f3a\"], [0.8888888888888888, \"#fdca26\"], [1.0, \"#f0f921\"]]}, \"colorway\": [\"#636efa\", \"#EF553B\", \"#00cc96\", \"#ab63fa\", \"#FFA15A\", \"#19d3f3\", \"#FF6692\", \"#B6E880\", \"#FF97FF\", \"#FECB52\"], \"font\": {\"color\": \"#2a3f5f\"}, \"geo\": {\"bgcolor\": \"white\", \"lakecolor\": \"white\", \"landcolor\": \"#E5ECF6\", \"showlakes\": true, \"showland\": true, \"subunitcolor\": \"white\"}, \"hoverlabel\": {\"align\": \"left\"}, \"hovermode\": \"closest\", \"mapbox\": {\"style\": \"light\"}, \"paper_bgcolor\": \"white\", \"plot_bgcolor\": \"#E5ECF6\", \"polar\": {\"angularaxis\": {\"gridcolor\": \"white\", \"linecolor\": \"white\", \"ticks\": \"\"}, \"bgcolor\": \"#E5ECF6\", \"radialaxis\": {\"gridcolor\": \"white\", \"linecolor\": \"white\", \"ticks\": \"\"}}, \"scene\": {\"xaxis\": {\"backgroundcolor\": \"#E5ECF6\", \"gridcolor\": \"white\", \"gridwidth\": 2, \"linecolor\": \"white\", \"showbackground\": true, \"ticks\": \"\", \"zerolinecolor\": \"white\"}, \"yaxis\": {\"backgroundcolor\": \"#E5ECF6\", \"gridcolor\": \"white\", \"gridwidth\": 2, \"linecolor\": \"white\", \"showbackground\": true, \"ticks\": \"\", \"zerolinecolor\": \"white\"}, \"zaxis\": {\"backgroundcolor\": \"#E5ECF6\", \"gridcolor\": \"white\", \"gridwidth\": 2, \"linecolor\": \"white\", \"showbackground\": true, \"ticks\": \"\", \"zerolinecolor\": \"white\"}}, \"shapedefaults\": {\"line\": {\"color\": \"#2a3f5f\"}}, \"ternary\": {\"aaxis\": {\"gridcolor\": \"white\", \"linecolor\": \"white\", \"ticks\": \"\"}, \"baxis\": {\"gridcolor\": \"white\", \"linecolor\": \"white\", \"ticks\": \"\"}, \"bgcolor\": \"#E5ECF6\", \"caxis\": {\"gridcolor\": \"white\", \"linecolor\": \"white\", \"ticks\": \"\"}}, \"title\": {\"x\": 0.05}, \"xaxis\": {\"automargin\": true, \"gridcolor\": \"white\", \"linecolor\": \"white\", \"ticks\": \"\", \"title\": {\"standoff\": 15}, \"zerolinecolor\": \"white\", \"zerolinewidth\": 2}, \"yaxis\": {\"automargin\": true, \"gridcolor\": \"white\", \"linecolor\": \"white\", \"ticks\": \"\", \"title\": {\"standoff\": 15}, \"zerolinecolor\": \"white\", \"zerolinewidth\": 2}}}, \"xaxis\": {\"visible\": false}, \"yaxis\": {\"visible\": false}},\n",
       "                        {\"responsive\": true}\n",
       "                    ).then(function(){\n",
       "                            \n",
       "var gd = document.getElementById('49eefb12-a151-42ed-92bf-6b9f19d5cc92');\n",
       "var x = new MutationObserver(function (mutations, observer) {{\n",
       "        var display = window.getComputedStyle(gd).display;\n",
       "        if (!display || display === 'none') {{\n",
       "            console.log([gd, 'removed!']);\n",
       "            Plotly.purge(gd);\n",
       "            observer.disconnect();\n",
       "        }}\n",
       "}});\n",
       "\n",
       "// Listen for the removal of the full notebook cells\n",
       "var notebookContainer = gd.closest('#notebook-container');\n",
       "if (notebookContainer) {{\n",
       "    x.observe(notebookContainer, {childList: true});\n",
       "}}\n",
       "\n",
       "// Listen for the clearing of the current output cell\n",
       "var outputEl = gd.closest('.output');\n",
       "if (outputEl) {{\n",
       "    x.observe(outputEl, {childList: true});\n",
       "}}\n",
       "\n",
       "                        })\n",
       "                };\n",
       "                });\n",
       "            </script>\n",
       "        </div>"
      ]
     },
     "metadata": {},
     "output_type": "display_data"
    }
   ],
   "source": [
    "import plotly.graph_objects as go\n",
    "\n",
    "total_page_hits = 778\n",
    "total_voters = 150\n",
    "\n",
    "fig = go.Figure(data=[go.Scatter(\n",
    "    x=[0], y=[0],\n",
    "    mode='markers+text',\n",
    "    text=f'Número de acessos: {total_page_hits}',\n",
    "    textposition=\"bottom center\",\n",
    "    marker=dict(\n",
    "    size=[total_page_hits],\n",
    "    sizeref=3\n",
    "    )\n",
    "),\n",
    "    go.Scatter(\n",
    "        x=[0], y=[0],\n",
    "        mode='markers+text',\n",
    "        text=f'Número de usuários: {(total_voters/total_page_hits) * 100 } %',\n",
    "        textposition=\"bottom center\",\n",
    "        marker=dict(\n",
    "        size=[total_voters],\n",
    "        sizeref=3\n",
    "        )\n",
    "    )\n",
    "], layout={'xaxis':{'visible':False}, 'yaxis': {'visible': False}})\n",
    "fig.show()"
   ]
  }
 ],
 "metadata": {
  "kernelspec": {
   "display_name": "Python 3",
   "language": "python",
   "name": "python3"
  }
 },
 "nbformat": 4,
 "nbformat_minor": 4
}
