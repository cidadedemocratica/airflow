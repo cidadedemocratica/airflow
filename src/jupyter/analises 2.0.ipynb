{
 "cells": [
  {
   "cell_type": "code",
   "execution_count": 15,
   "metadata": {},
   "outputs": [],
   "source": [
    "import pandas as pd\n",
    "import numpy as np\n",
    "import matplotlib.pyplot as plt\n",
    "import seaborn as sns\n",
    "import plotly.graph_objects as go\n",
    "%matplotlib inline"
   ]
  },
  {
   "cell_type": "code",
   "execution_count": 2,
   "metadata": {},
   "outputs": [],
   "source": [
    "ej_comments_all = pd.read_json('/tmp/airflow/comments_only.json')"
   ]
  },
  {
   "cell_type": "code",
   "execution_count": 5,
   "metadata": {},
   "outputs": [
    {
     "name": "stderr",
     "output_type": "stream",
     "text": [
      "/opt/conda/lib/python3.7/site-packages/ipykernel_launcher.py:7: SettingWithCopyWarning: \n",
      "A value is trying to be set on a copy of a slice from a DataFrame\n",
      "\n",
      "See the caveats in the documentation: https://pandas.pydata.org/pandas-docs/stable/user_guide/indexing.html#returning-a-view-versus-a-copy\n",
      "  import sys\n"
     ]
    },
    {
     "data": {
      "text/html": [
       "<div>\n",
       "<style scoped>\n",
       "    .dataframe tbody tr th:only-of-type {\n",
       "        vertical-align: middle;\n",
       "    }\n",
       "\n",
       "    .dataframe tbody tr th {\n",
       "        vertical-align: top;\n",
       "    }\n",
       "\n",
       "    .dataframe thead th {\n",
       "        text-align: right;\n",
       "    }\n",
       "</style>\n",
       "<table border=\"1\" class=\"dataframe\">\n",
       "  <thead>\n",
       "    <tr style=\"text-align: right;\">\n",
       "      <th></th>\n",
       "      <th>comentário</th>\n",
       "      <th>comentário_id</th>\n",
       "      <th>autor</th>\n",
       "      <th>autor_id</th>\n",
       "      <th>concorda</th>\n",
       "      <th>discorda</th>\n",
       "      <th>pulados</th>\n",
       "      <th>convergência</th>\n",
       "      <th>participação</th>\n",
       "      <th>criado</th>\n",
       "    </tr>\n",
       "  </thead>\n",
       "  <tbody>\n",
       "    <tr>\n",
       "      <th>0</th>\n",
       "      <td>Caixa 2 tem que ser crime sim! Se não punir os...</td>\n",
       "      <td>666</td>\n",
       "      <td>ucc@br.transparency.org</td>\n",
       "      <td>1051</td>\n",
       "      <td>0.929825</td>\n",
       "      <td>0.043860</td>\n",
       "      <td>0.026316</td>\n",
       "      <td>0.909910</td>\n",
       "      <td>0.760000</td>\n",
       "      <td>2020-04-06T15:31:42.617Z</td>\n",
       "    </tr>\n",
       "    <tr>\n",
       "      <th>1</th>\n",
       "      <td>Tornar o Caixa 2 crime ajudará a evitar essa p...</td>\n",
       "      <td>667</td>\n",
       "      <td>ucc@br.transparency.org</td>\n",
       "      <td>1051</td>\n",
       "      <td>0.927928</td>\n",
       "      <td>0.036036</td>\n",
       "      <td>0.036036</td>\n",
       "      <td>0.925234</td>\n",
       "      <td>0.740000</td>\n",
       "      <td>2020-04-06T15:31:42.630Z</td>\n",
       "    </tr>\n",
       "    <tr>\n",
       "      <th>2</th>\n",
       "      <td>O Caixa 2 é crime e muda o resultado das eleiç...</td>\n",
       "      <td>668</td>\n",
       "      <td>ucc@br.transparency.org</td>\n",
       "      <td>1051</td>\n",
       "      <td>0.945946</td>\n",
       "      <td>0.036036</td>\n",
       "      <td>0.018018</td>\n",
       "      <td>0.926606</td>\n",
       "      <td>0.740000</td>\n",
       "      <td>2020-04-06T15:31:42.632Z</td>\n",
       "    </tr>\n",
       "    <tr>\n",
       "      <th>3</th>\n",
       "      <td>Acho que a Lei de Abuso de Autoridade é uma mo...</td>\n",
       "      <td>669</td>\n",
       "      <td>ucc@br.transparency.org</td>\n",
       "      <td>1051</td>\n",
       "      <td>0.767857</td>\n",
       "      <td>0.196429</td>\n",
       "      <td>0.035714</td>\n",
       "      <td>0.592593</td>\n",
       "      <td>0.746667</td>\n",
       "      <td>2020-04-06T15:31:42.635Z</td>\n",
       "    </tr>\n",
       "    <tr>\n",
       "      <th>4</th>\n",
       "      <td>É preciso muito cuidado com a Lei de Abuso de ...</td>\n",
       "      <td>670</td>\n",
       "      <td>ucc@br.transparency.org</td>\n",
       "      <td>1051</td>\n",
       "      <td>0.913043</td>\n",
       "      <td>0.052174</td>\n",
       "      <td>0.034783</td>\n",
       "      <td>0.891892</td>\n",
       "      <td>0.766667</td>\n",
       "      <td>2020-04-06T15:31:42.637Z</td>\n",
       "    </tr>\n",
       "    <tr>\n",
       "      <th>5</th>\n",
       "      <td>Ninguém pode ficar acima da Lei! Por isso, é p...</td>\n",
       "      <td>671</td>\n",
       "      <td>ucc@br.transparency.org</td>\n",
       "      <td>1051</td>\n",
       "      <td>0.850877</td>\n",
       "      <td>0.114035</td>\n",
       "      <td>0.035088</td>\n",
       "      <td>0.763636</td>\n",
       "      <td>0.760000</td>\n",
       "      <td>2020-04-06T15:31:42.640Z</td>\n",
       "    </tr>\n",
       "    <tr>\n",
       "      <th>6</th>\n",
       "      <td>Cadeia por muito tempo e obrigação de devolver...</td>\n",
       "      <td>672</td>\n",
       "      <td>ucc@br.transparency.org</td>\n",
       "      <td>1051</td>\n",
       "      <td>0.876033</td>\n",
       "      <td>0.049587</td>\n",
       "      <td>0.074380</td>\n",
       "      <td>0.892857</td>\n",
       "      <td>0.806667</td>\n",
       "      <td>2020-04-06T15:31:42.644Z</td>\n",
       "    </tr>\n",
       "    <tr>\n",
       "      <th>7</th>\n",
       "      <td>Aumentar a pena para casos de corrupção e exig...</td>\n",
       "      <td>673</td>\n",
       "      <td>ucc@br.transparency.org</td>\n",
       "      <td>1051</td>\n",
       "      <td>0.850000</td>\n",
       "      <td>0.125000</td>\n",
       "      <td>0.025000</td>\n",
       "      <td>0.743590</td>\n",
       "      <td>0.800000</td>\n",
       "      <td>2020-04-06T15:31:42.647Z</td>\n",
       "    </tr>\n",
       "    <tr>\n",
       "      <th>8</th>\n",
       "      <td>Só poderemos endurecer as penas em casos de co...</td>\n",
       "      <td>674</td>\n",
       "      <td>ucc@br.transparency.org</td>\n",
       "      <td>1051</td>\n",
       "      <td>0.645455</td>\n",
       "      <td>0.318182</td>\n",
       "      <td>0.036364</td>\n",
       "      <td>0.339623</td>\n",
       "      <td>0.733333</td>\n",
       "      <td>2020-04-06T15:31:42.649Z</td>\n",
       "    </tr>\n",
       "    <tr>\n",
       "      <th>9</th>\n",
       "      <td>É fundamental que se crie dispositivos para au...</td>\n",
       "      <td>727</td>\n",
       "      <td>1002282-mautic@mail.com</td>\n",
       "      <td>1117</td>\n",
       "      <td>0.970000</td>\n",
       "      <td>0.010000</td>\n",
       "      <td>0.020000</td>\n",
       "      <td>0.979592</td>\n",
       "      <td>0.666667</td>\n",
       "      <td>2020-04-17T14:56:22.670Z</td>\n",
       "    </tr>\n",
       "    <tr>\n",
       "      <th>10</th>\n",
       "      <td>Não tenho conhecimento da lei,mas acredito que...</td>\n",
       "      <td>728</td>\n",
       "      <td>1002526-mautic@mail.com</td>\n",
       "      <td>1130</td>\n",
       "      <td>0.660000</td>\n",
       "      <td>0.220000</td>\n",
       "      <td>0.120000</td>\n",
       "      <td>0.500000</td>\n",
       "      <td>0.666667</td>\n",
       "      <td>2020-04-17T22:43:45.241Z</td>\n",
       "    </tr>\n",
       "    <tr>\n",
       "      <th>11</th>\n",
       "      <td>O essencial é tornar caixa 2 crime com severa ...</td>\n",
       "      <td>729</td>\n",
       "      <td>1002526-mautic@mail.com</td>\n",
       "      <td>1130</td>\n",
       "      <td>0.910000</td>\n",
       "      <td>0.050000</td>\n",
       "      <td>0.040000</td>\n",
       "      <td>0.895833</td>\n",
       "      <td>0.666667</td>\n",
       "      <td>2020-04-17T22:44:44.955Z</td>\n",
       "    </tr>\n",
       "    <tr>\n",
       "      <th>12</th>\n",
       "      <td>A corrupção é uma doença que não tem cura,os p...</td>\n",
       "      <td>730</td>\n",
       "      <td>1007445-mautic@mail.com</td>\n",
       "      <td>1163</td>\n",
       "      <td>0.868421</td>\n",
       "      <td>0.118421</td>\n",
       "      <td>0.013158</td>\n",
       "      <td>0.760000</td>\n",
       "      <td>0.506667</td>\n",
       "      <td>2020-04-23T23:46:49.801Z</td>\n",
       "    </tr>\n",
       "    <tr>\n",
       "      <th>13</th>\n",
       "      <td>Tais pessoas devem ter um limite, pois o fruto...</td>\n",
       "      <td>731</td>\n",
       "      <td>983577-mautic@mail.com</td>\n",
       "      <td>1169</td>\n",
       "      <td>0.797468</td>\n",
       "      <td>0.101266</td>\n",
       "      <td>0.101266</td>\n",
       "      <td>0.774648</td>\n",
       "      <td>0.526667</td>\n",
       "      <td>2020-04-24T15:47:58.205Z</td>\n",
       "    </tr>\n",
       "    <tr>\n",
       "      <th>14</th>\n",
       "      <td>Precisamos de sistemas de transparência e de f...</td>\n",
       "      <td>732</td>\n",
       "      <td>983577-mautic@mail.com</td>\n",
       "      <td>1169</td>\n",
       "      <td>0.974026</td>\n",
       "      <td>0.025974</td>\n",
       "      <td>0.000000</td>\n",
       "      <td>0.948052</td>\n",
       "      <td>0.513333</td>\n",
       "      <td>2020-04-24T15:50:57.713Z</td>\n",
       "    </tr>\n",
       "    <tr>\n",
       "      <th>15</th>\n",
       "      <td>Infelizmente, o legislativo já garantiu legali...</td>\n",
       "      <td>733</td>\n",
       "      <td>182111-mautic@mail.com</td>\n",
       "      <td>1170</td>\n",
       "      <td>0.462500</td>\n",
       "      <td>0.400000</td>\n",
       "      <td>0.137500</td>\n",
       "      <td>0.072464</td>\n",
       "      <td>0.533333</td>\n",
       "      <td>2020-04-24T16:38:26.544Z</td>\n",
       "    </tr>\n",
       "  </tbody>\n",
       "</table>\n",
       "</div>"
      ],
      "text/plain": [
       "                                           comentário  comentário_id  \\\n",
       "0   Caixa 2 tem que ser crime sim! Se não punir os...            666   \n",
       "1   Tornar o Caixa 2 crime ajudará a evitar essa p...            667   \n",
       "2   O Caixa 2 é crime e muda o resultado das eleiç...            668   \n",
       "3   Acho que a Lei de Abuso de Autoridade é uma mo...            669   \n",
       "4   É preciso muito cuidado com a Lei de Abuso de ...            670   \n",
       "5   Ninguém pode ficar acima da Lei! Por isso, é p...            671   \n",
       "6   Cadeia por muito tempo e obrigação de devolver...            672   \n",
       "7   Aumentar a pena para casos de corrupção e exig...            673   \n",
       "8   Só poderemos endurecer as penas em casos de co...            674   \n",
       "9   É fundamental que se crie dispositivos para au...            727   \n",
       "10  Não tenho conhecimento da lei,mas acredito que...            728   \n",
       "11  O essencial é tornar caixa 2 crime com severa ...            729   \n",
       "12  A corrupção é uma doença que não tem cura,os p...            730   \n",
       "13  Tais pessoas devem ter um limite, pois o fruto...            731   \n",
       "14  Precisamos de sistemas de transparência e de f...            732   \n",
       "15  Infelizmente, o legislativo já garantiu legali...            733   \n",
       "\n",
       "                      autor  autor_id  concorda  discorda   pulados  \\\n",
       "0   ucc@br.transparency.org      1051  0.929825  0.043860  0.026316   \n",
       "1   ucc@br.transparency.org      1051  0.927928  0.036036  0.036036   \n",
       "2   ucc@br.transparency.org      1051  0.945946  0.036036  0.018018   \n",
       "3   ucc@br.transparency.org      1051  0.767857  0.196429  0.035714   \n",
       "4   ucc@br.transparency.org      1051  0.913043  0.052174  0.034783   \n",
       "5   ucc@br.transparency.org      1051  0.850877  0.114035  0.035088   \n",
       "6   ucc@br.transparency.org      1051  0.876033  0.049587  0.074380   \n",
       "7   ucc@br.transparency.org      1051  0.850000  0.125000  0.025000   \n",
       "8   ucc@br.transparency.org      1051  0.645455  0.318182  0.036364   \n",
       "9   1002282-mautic@mail.com      1117  0.970000  0.010000  0.020000   \n",
       "10  1002526-mautic@mail.com      1130  0.660000  0.220000  0.120000   \n",
       "11  1002526-mautic@mail.com      1130  0.910000  0.050000  0.040000   \n",
       "12  1007445-mautic@mail.com      1163  0.868421  0.118421  0.013158   \n",
       "13   983577-mautic@mail.com      1169  0.797468  0.101266  0.101266   \n",
       "14   983577-mautic@mail.com      1169  0.974026  0.025974  0.000000   \n",
       "15   182111-mautic@mail.com      1170  0.462500  0.400000  0.137500   \n",
       "\n",
       "    convergência  participação                    criado  \n",
       "0       0.909910      0.760000  2020-04-06T15:31:42.617Z  \n",
       "1       0.925234      0.740000  2020-04-06T15:31:42.630Z  \n",
       "2       0.926606      0.740000  2020-04-06T15:31:42.632Z  \n",
       "3       0.592593      0.746667  2020-04-06T15:31:42.635Z  \n",
       "4       0.891892      0.766667  2020-04-06T15:31:42.637Z  \n",
       "5       0.763636      0.760000  2020-04-06T15:31:42.640Z  \n",
       "6       0.892857      0.806667  2020-04-06T15:31:42.644Z  \n",
       "7       0.743590      0.800000  2020-04-06T15:31:42.647Z  \n",
       "8       0.339623      0.733333  2020-04-06T15:31:42.649Z  \n",
       "9       0.979592      0.666667  2020-04-17T14:56:22.670Z  \n",
       "10      0.500000      0.666667  2020-04-17T22:43:45.241Z  \n",
       "11      0.895833      0.666667  2020-04-17T22:44:44.955Z  \n",
       "12      0.760000      0.506667  2020-04-23T23:46:49.801Z  \n",
       "13      0.774648      0.526667  2020-04-24T15:47:58.205Z  \n",
       "14      0.948052      0.513333  2020-04-24T15:50:57.713Z  \n",
       "15      0.072464      0.533333  2020-04-24T16:38:26.544Z  "
      ]
     },
     "execution_count": 5,
     "metadata": {},
     "output_type": "execute_result"
    }
   ],
   "source": [
    "ej_comments = pd.DataFrame(data=ej_comments_all, columns=['comentário_id', 'comentário', 'concorda', 'discorda', 'pulados'])\n",
    "ej_comments['concorda'] = ej_comments['concorda'].map(lambda x: x * 100)\n",
    "ej_comments['discorda'] = ej_comments['discorda'].map(lambda x: x * 100)\n",
    "ej_comments['pulados'] = ej_comments['pulados'].map(lambda x: x * 100)\n",
    "ej_comments['compilado'] = ''\n",
    "for index,value in enumerate(ej_comments['concorda']):\n",
    "    ej_comments['compilado'][index] = [ej_comments['concorda'][index], ej_comments['discorda'][index], ej_comments['pulados'][index]]\n",
    "a = ej_comments_all.sort_values(by='discorda', ascending=False)\n",
    "ej_comments_all[ej_comments_all['participação'] > 0.5]"
   ]
  },
  {
   "cell_type": "code",
   "execution_count": 10,
   "metadata": {},
   "outputs": [
    {
     "data": {
      "text/html": [
       "<div>\n",
       "<style scoped>\n",
       "    .dataframe tbody tr th:only-of-type {\n",
       "        vertical-align: middle;\n",
       "    }\n",
       "\n",
       "    .dataframe tbody tr th {\n",
       "        vertical-align: top;\n",
       "    }\n",
       "\n",
       "    .dataframe thead th {\n",
       "        text-align: right;\n",
       "    }\n",
       "</style>\n",
       "<table border=\"1\" class=\"dataframe\">\n",
       "  <thead>\n",
       "    <tr style=\"text-align: right;\">\n",
       "      <th></th>\n",
       "      <th>votos</th>\n",
       "      <th>email</th>\n",
       "      <th>mautic_email</th>\n",
       "    </tr>\n",
       "  </thead>\n",
       "  <tbody>\n",
       "    <tr>\n",
       "      <th>99</th>\n",
       "      <td>32</td>\n",
       "      <td>1020159-mautic@mail.com</td>\n",
       "      <td>simonevilasboas@hotmail.com</td>\n",
       "    </tr>\n",
       "    <tr>\n",
       "      <th>98</th>\n",
       "      <td>32</td>\n",
       "      <td>1018116-mautic@mail.com</td>\n",
       "      <td>empty</td>\n",
       "    </tr>\n",
       "    <tr>\n",
       "      <th>97</th>\n",
       "      <td>32</td>\n",
       "      <td>1013594-mautic@mail.com</td>\n",
       "      <td>empty</td>\n",
       "    </tr>\n",
       "    <tr>\n",
       "      <th>96</th>\n",
       "      <td>32</td>\n",
       "      <td>1013378-mautic@mail.com</td>\n",
       "      <td>empty</td>\n",
       "    </tr>\n",
       "    <tr>\n",
       "      <th>88</th>\n",
       "      <td>32</td>\n",
       "      <td>1012568-mautic@mail.com</td>\n",
       "      <td>laeliopereira@hotmail.com</td>\n",
       "    </tr>\n",
       "    <tr>\n",
       "      <th>...</th>\n",
       "      <td>...</td>\n",
       "      <td>...</td>\n",
       "      <td>...</td>\n",
       "    </tr>\n",
       "    <tr>\n",
       "      <th>95</th>\n",
       "      <td>1</td>\n",
       "      <td>1013290-mautic@mail.com</td>\n",
       "      <td>empty</td>\n",
       "    </tr>\n",
       "    <tr>\n",
       "      <th>62</th>\n",
       "      <td>1</td>\n",
       "      <td>1011065-mautic@mail.com</td>\n",
       "      <td>empty</td>\n",
       "    </tr>\n",
       "    <tr>\n",
       "      <th>100</th>\n",
       "      <td>1</td>\n",
       "      <td>137549-mautic@mail.com</td>\n",
       "      <td>ricabras@gmail.com</td>\n",
       "    </tr>\n",
       "    <tr>\n",
       "      <th>61</th>\n",
       "      <td>1</td>\n",
       "      <td>1011051-mautic@mail.com</td>\n",
       "      <td>empty</td>\n",
       "    </tr>\n",
       "    <tr>\n",
       "      <th>54</th>\n",
       "      <td>1</td>\n",
       "      <td>1011034-mautic@mail.com</td>\n",
       "      <td>empty</td>\n",
       "    </tr>\n",
       "  </tbody>\n",
       "</table>\n",
       "<p>146 rows × 3 columns</p>\n",
       "</div>"
      ],
      "text/plain": [
       "     votos                    email                 mautic_email\n",
       "99      32  1020159-mautic@mail.com  simonevilasboas@hotmail.com\n",
       "98      32  1018116-mautic@mail.com                        empty\n",
       "97      32  1013594-mautic@mail.com                        empty\n",
       "96      32  1013378-mautic@mail.com                        empty\n",
       "88      32  1012568-mautic@mail.com    laeliopereira@hotmail.com\n",
       "..     ...                      ...                          ...\n",
       "95       1  1013290-mautic@mail.com                        empty\n",
       "62       1  1011065-mautic@mail.com                        empty\n",
       "100      1   137549-mautic@mail.com           ricabras@gmail.com\n",
       "61       1  1011051-mautic@mail.com                        empty\n",
       "54       1  1011034-mautic@mail.com                        empty\n",
       "\n",
       "[146 rows x 3 columns]"
      ]
     },
     "execution_count": 10,
     "metadata": {},
     "output_type": "execute_result"
    }
   ],
   "source": [
    "from mautic_sdk import MauticSdk \n",
    "\n",
    "def fill_df_with_mautic_email(df):\n",
    "    df.rename(columns={'criado': 'votos'}, inplace=True)\n",
    "    mautic_sdk = MauticSdk()\n",
    "    for ej_email in df['email']:\n",
    "        mautic_email = mautic_sdk.get_contact_email(ej_email)\n",
    "        df.loc[df['email'] == ej_email, 'mautic_email'] = mautic_email\n",
    "    df.fillna(\"empty\", inplace=True)\n",
    "    return df\n",
    "\n",
    "votes_df = pd.read_json('/tmp/airflow/ej_only.json')\n",
    "tmp = votes_df.groupby(['email']).count().reset_index(level=0).reset_index(level=0)\n",
    "top_50_voters_df = pd.DataFrame(tmp, columns=['criado', 'email']) \n",
    "top_50_voters_df.rename(columns={'criado': 'votos'}, inplace=True)\n",
    "top_50_voters_df.sort_values(by='votos', inplace=True, ascending=False)\n",
    "\n",
    "top_50_with_mautic_mail = pd.DataFrame(top_50_voters_df)\n",
    "top_50_with_mautic_mail = fill_df_with_mautic_email(top_50_with_mautic_mail)\n",
    "top_50_with_mautic_mail"
   ]
  },
  {
   "cell_type": "code",
   "execution_count": 20,
   "metadata": {},
   "outputs": [
    {
     "data": {
      "application/vnd.plotly.v1+json": {
       "config": {
        "plotlyServerURL": "https://plot.ly"
       },
       "data": [
        {
         "boxpoints": "all",
         "marker": {
          "color": "#30bfd3"
         },
         "name": "Distribuição dos votos",
         "type": "box",
         "y": [
          32,
          32,
          31,
          24,
          24,
          24,
          24,
          24,
          24,
          24,
          24,
          24,
          24,
          16,
          16,
          16,
          16,
          16,
          16,
          12,
          12,
          12,
          9,
          9,
          9,
          9,
          9,
          8,
          8,
          6,
          5,
          4,
          2,
          2,
          1
         ]
        }
       ],
       "layout": {
        "legend": {
         "font": {
          "color": "#000",
          "size": 15
         },
         "y": 0.8
        },
        "template": {
         "data": {
          "bar": [
           {
            "error_x": {
             "color": "#2a3f5f"
            },
            "error_y": {
             "color": "#2a3f5f"
            },
            "marker": {
             "line": {
              "color": "#E5ECF6",
              "width": 0.5
             }
            },
            "type": "bar"
           }
          ],
          "barpolar": [
           {
            "marker": {
             "line": {
              "color": "#E5ECF6",
              "width": 0.5
             }
            },
            "type": "barpolar"
           }
          ],
          "carpet": [
           {
            "aaxis": {
             "endlinecolor": "#2a3f5f",
             "gridcolor": "white",
             "linecolor": "white",
             "minorgridcolor": "white",
             "startlinecolor": "#2a3f5f"
            },
            "baxis": {
             "endlinecolor": "#2a3f5f",
             "gridcolor": "white",
             "linecolor": "white",
             "minorgridcolor": "white",
             "startlinecolor": "#2a3f5f"
            },
            "type": "carpet"
           }
          ],
          "choropleth": [
           {
            "colorbar": {
             "outlinewidth": 0,
             "ticks": ""
            },
            "type": "choropleth"
           }
          ],
          "contour": [
           {
            "colorbar": {
             "outlinewidth": 0,
             "ticks": ""
            },
            "colorscale": [
             [
              0,
              "#0d0887"
             ],
             [
              0.1111111111111111,
              "#46039f"
             ],
             [
              0.2222222222222222,
              "#7201a8"
             ],
             [
              0.3333333333333333,
              "#9c179e"
             ],
             [
              0.4444444444444444,
              "#bd3786"
             ],
             [
              0.5555555555555556,
              "#d8576b"
             ],
             [
              0.6666666666666666,
              "#ed7953"
             ],
             [
              0.7777777777777778,
              "#fb9f3a"
             ],
             [
              0.8888888888888888,
              "#fdca26"
             ],
             [
              1,
              "#f0f921"
             ]
            ],
            "type": "contour"
           }
          ],
          "contourcarpet": [
           {
            "colorbar": {
             "outlinewidth": 0,
             "ticks": ""
            },
            "type": "contourcarpet"
           }
          ],
          "heatmap": [
           {
            "colorbar": {
             "outlinewidth": 0,
             "ticks": ""
            },
            "colorscale": [
             [
              0,
              "#0d0887"
             ],
             [
              0.1111111111111111,
              "#46039f"
             ],
             [
              0.2222222222222222,
              "#7201a8"
             ],
             [
              0.3333333333333333,
              "#9c179e"
             ],
             [
              0.4444444444444444,
              "#bd3786"
             ],
             [
              0.5555555555555556,
              "#d8576b"
             ],
             [
              0.6666666666666666,
              "#ed7953"
             ],
             [
              0.7777777777777778,
              "#fb9f3a"
             ],
             [
              0.8888888888888888,
              "#fdca26"
             ],
             [
              1,
              "#f0f921"
             ]
            ],
            "type": "heatmap"
           }
          ],
          "heatmapgl": [
           {
            "colorbar": {
             "outlinewidth": 0,
             "ticks": ""
            },
            "colorscale": [
             [
              0,
              "#0d0887"
             ],
             [
              0.1111111111111111,
              "#46039f"
             ],
             [
              0.2222222222222222,
              "#7201a8"
             ],
             [
              0.3333333333333333,
              "#9c179e"
             ],
             [
              0.4444444444444444,
              "#bd3786"
             ],
             [
              0.5555555555555556,
              "#d8576b"
             ],
             [
              0.6666666666666666,
              "#ed7953"
             ],
             [
              0.7777777777777778,
              "#fb9f3a"
             ],
             [
              0.8888888888888888,
              "#fdca26"
             ],
             [
              1,
              "#f0f921"
             ]
            ],
            "type": "heatmapgl"
           }
          ],
          "histogram": [
           {
            "marker": {
             "colorbar": {
              "outlinewidth": 0,
              "ticks": ""
             }
            },
            "type": "histogram"
           }
          ],
          "histogram2d": [
           {
            "colorbar": {
             "outlinewidth": 0,
             "ticks": ""
            },
            "colorscale": [
             [
              0,
              "#0d0887"
             ],
             [
              0.1111111111111111,
              "#46039f"
             ],
             [
              0.2222222222222222,
              "#7201a8"
             ],
             [
              0.3333333333333333,
              "#9c179e"
             ],
             [
              0.4444444444444444,
              "#bd3786"
             ],
             [
              0.5555555555555556,
              "#d8576b"
             ],
             [
              0.6666666666666666,
              "#ed7953"
             ],
             [
              0.7777777777777778,
              "#fb9f3a"
             ],
             [
              0.8888888888888888,
              "#fdca26"
             ],
             [
              1,
              "#f0f921"
             ]
            ],
            "type": "histogram2d"
           }
          ],
          "histogram2dcontour": [
           {
            "colorbar": {
             "outlinewidth": 0,
             "ticks": ""
            },
            "colorscale": [
             [
              0,
              "#0d0887"
             ],
             [
              0.1111111111111111,
              "#46039f"
             ],
             [
              0.2222222222222222,
              "#7201a8"
             ],
             [
              0.3333333333333333,
              "#9c179e"
             ],
             [
              0.4444444444444444,
              "#bd3786"
             ],
             [
              0.5555555555555556,
              "#d8576b"
             ],
             [
              0.6666666666666666,
              "#ed7953"
             ],
             [
              0.7777777777777778,
              "#fb9f3a"
             ],
             [
              0.8888888888888888,
              "#fdca26"
             ],
             [
              1,
              "#f0f921"
             ]
            ],
            "type": "histogram2dcontour"
           }
          ],
          "mesh3d": [
           {
            "colorbar": {
             "outlinewidth": 0,
             "ticks": ""
            },
            "type": "mesh3d"
           }
          ],
          "parcoords": [
           {
            "line": {
             "colorbar": {
              "outlinewidth": 0,
              "ticks": ""
             }
            },
            "type": "parcoords"
           }
          ],
          "pie": [
           {
            "automargin": true,
            "type": "pie"
           }
          ],
          "scatter": [
           {
            "marker": {
             "colorbar": {
              "outlinewidth": 0,
              "ticks": ""
             }
            },
            "type": "scatter"
           }
          ],
          "scatter3d": [
           {
            "line": {
             "colorbar": {
              "outlinewidth": 0,
              "ticks": ""
             }
            },
            "marker": {
             "colorbar": {
              "outlinewidth": 0,
              "ticks": ""
             }
            },
            "type": "scatter3d"
           }
          ],
          "scattercarpet": [
           {
            "marker": {
             "colorbar": {
              "outlinewidth": 0,
              "ticks": ""
             }
            },
            "type": "scattercarpet"
           }
          ],
          "scattergeo": [
           {
            "marker": {
             "colorbar": {
              "outlinewidth": 0,
              "ticks": ""
             }
            },
            "type": "scattergeo"
           }
          ],
          "scattergl": [
           {
            "marker": {
             "colorbar": {
              "outlinewidth": 0,
              "ticks": ""
             }
            },
            "type": "scattergl"
           }
          ],
          "scattermapbox": [
           {
            "marker": {
             "colorbar": {
              "outlinewidth": 0,
              "ticks": ""
             }
            },
            "type": "scattermapbox"
           }
          ],
          "scatterpolar": [
           {
            "marker": {
             "colorbar": {
              "outlinewidth": 0,
              "ticks": ""
             }
            },
            "type": "scatterpolar"
           }
          ],
          "scatterpolargl": [
           {
            "marker": {
             "colorbar": {
              "outlinewidth": 0,
              "ticks": ""
             }
            },
            "type": "scatterpolargl"
           }
          ],
          "scatterternary": [
           {
            "marker": {
             "colorbar": {
              "outlinewidth": 0,
              "ticks": ""
             }
            },
            "type": "scatterternary"
           }
          ],
          "surface": [
           {
            "colorbar": {
             "outlinewidth": 0,
             "ticks": ""
            },
            "colorscale": [
             [
              0,
              "#0d0887"
             ],
             [
              0.1111111111111111,
              "#46039f"
             ],
             [
              0.2222222222222222,
              "#7201a8"
             ],
             [
              0.3333333333333333,
              "#9c179e"
             ],
             [
              0.4444444444444444,
              "#bd3786"
             ],
             [
              0.5555555555555556,
              "#d8576b"
             ],
             [
              0.6666666666666666,
              "#ed7953"
             ],
             [
              0.7777777777777778,
              "#fb9f3a"
             ],
             [
              0.8888888888888888,
              "#fdca26"
             ],
             [
              1,
              "#f0f921"
             ]
            ],
            "type": "surface"
           }
          ],
          "table": [
           {
            "cells": {
             "fill": {
              "color": "#EBF0F8"
             },
             "line": {
              "color": "white"
             }
            },
            "header": {
             "fill": {
              "color": "#C8D4E3"
             },
             "line": {
              "color": "white"
             }
            },
            "type": "table"
           }
          ]
         },
         "layout": {
          "annotationdefaults": {
           "arrowcolor": "#2a3f5f",
           "arrowhead": 0,
           "arrowwidth": 1
          },
          "coloraxis": {
           "colorbar": {
            "outlinewidth": 0,
            "ticks": ""
           }
          },
          "colorscale": {
           "diverging": [
            [
             0,
             "#8e0152"
            ],
            [
             0.1,
             "#c51b7d"
            ],
            [
             0.2,
             "#de77ae"
            ],
            [
             0.3,
             "#f1b6da"
            ],
            [
             0.4,
             "#fde0ef"
            ],
            [
             0.5,
             "#f7f7f7"
            ],
            [
             0.6,
             "#e6f5d0"
            ],
            [
             0.7,
             "#b8e186"
            ],
            [
             0.8,
             "#7fbc41"
            ],
            [
             0.9,
             "#4d9221"
            ],
            [
             1,
             "#276419"
            ]
           ],
           "sequential": [
            [
             0,
             "#0d0887"
            ],
            [
             0.1111111111111111,
             "#46039f"
            ],
            [
             0.2222222222222222,
             "#7201a8"
            ],
            [
             0.3333333333333333,
             "#9c179e"
            ],
            [
             0.4444444444444444,
             "#bd3786"
            ],
            [
             0.5555555555555556,
             "#d8576b"
            ],
            [
             0.6666666666666666,
             "#ed7953"
            ],
            [
             0.7777777777777778,
             "#fb9f3a"
            ],
            [
             0.8888888888888888,
             "#fdca26"
            ],
            [
             1,
             "#f0f921"
            ]
           ],
           "sequentialminus": [
            [
             0,
             "#0d0887"
            ],
            [
             0.1111111111111111,
             "#46039f"
            ],
            [
             0.2222222222222222,
             "#7201a8"
            ],
            [
             0.3333333333333333,
             "#9c179e"
            ],
            [
             0.4444444444444444,
             "#bd3786"
            ],
            [
             0.5555555555555556,
             "#d8576b"
            ],
            [
             0.6666666666666666,
             "#ed7953"
            ],
            [
             0.7777777777777778,
             "#fb9f3a"
            ],
            [
             0.8888888888888888,
             "#fdca26"
            ],
            [
             1,
             "#f0f921"
            ]
           ]
          },
          "colorway": [
           "#636efa",
           "#EF553B",
           "#00cc96",
           "#ab63fa",
           "#FFA15A",
           "#19d3f3",
           "#FF6692",
           "#B6E880",
           "#FF97FF",
           "#FECB52"
          ],
          "font": {
           "color": "#2a3f5f"
          },
          "geo": {
           "bgcolor": "white",
           "lakecolor": "white",
           "landcolor": "#E5ECF6",
           "showlakes": true,
           "showland": true,
           "subunitcolor": "white"
          },
          "hoverlabel": {
           "align": "left"
          },
          "hovermode": "closest",
          "mapbox": {
           "style": "light"
          },
          "paper_bgcolor": "white",
          "plot_bgcolor": "#E5ECF6",
          "polar": {
           "angularaxis": {
            "gridcolor": "white",
            "linecolor": "white",
            "ticks": ""
           },
           "bgcolor": "#E5ECF6",
           "radialaxis": {
            "gridcolor": "white",
            "linecolor": "white",
            "ticks": ""
           }
          },
          "scene": {
           "xaxis": {
            "backgroundcolor": "#E5ECF6",
            "gridcolor": "white",
            "gridwidth": 2,
            "linecolor": "white",
            "showbackground": true,
            "ticks": "",
            "zerolinecolor": "white"
           },
           "yaxis": {
            "backgroundcolor": "#E5ECF6",
            "gridcolor": "white",
            "gridwidth": 2,
            "linecolor": "white",
            "showbackground": true,
            "ticks": "",
            "zerolinecolor": "white"
           },
           "zaxis": {
            "backgroundcolor": "#E5ECF6",
            "gridcolor": "white",
            "gridwidth": 2,
            "linecolor": "white",
            "showbackground": true,
            "ticks": "",
            "zerolinecolor": "white"
           }
          },
          "shapedefaults": {
           "line": {
            "color": "#2a3f5f"
           }
          },
          "ternary": {
           "aaxis": {
            "gridcolor": "white",
            "linecolor": "white",
            "ticks": ""
           },
           "baxis": {
            "gridcolor": "white",
            "linecolor": "white",
            "ticks": ""
           },
           "bgcolor": "#E5ECF6",
           "caxis": {
            "gridcolor": "white",
            "linecolor": "white",
            "ticks": ""
           }
          },
          "title": {
           "x": 0.05
          },
          "xaxis": {
           "automargin": true,
           "gridcolor": "white",
           "linecolor": "white",
           "ticks": "",
           "title": {
            "standoff": 15
           },
           "zerolinecolor": "white",
           "zerolinewidth": 2
          },
          "yaxis": {
           "automargin": true,
           "gridcolor": "white",
           "linecolor": "white",
           "ticks": "",
           "title": {
            "standoff": 15
           },
           "zerolinecolor": "white",
           "zerolinewidth": 2
          }
         }
        },
        "title": {
         "font": {
          "color": "#ff3e72",
          "family": "Times New Roman",
          "size": 20
         },
         "text": "",
         "x": 0.5
        },
        "width": 700,
        "yaxis": {
         "zeroline": false
        }
       }
      },
      "text/html": [
       "<div>\n",
       "        \n",
       "        \n",
       "            <div id=\"b83d3614-7357-4e14-a334-5e675c300b65\" class=\"plotly-graph-div\" style=\"height:525px; width:700px;\"></div>\n",
       "            <script type=\"text/javascript\">\n",
       "                require([\"plotly\"], function(Plotly) {\n",
       "                    window.PLOTLYENV=window.PLOTLYENV || {};\n",
       "                    \n",
       "                if (document.getElementById(\"b83d3614-7357-4e14-a334-5e675c300b65\")) {\n",
       "                    Plotly.newPlot(\n",
       "                        'b83d3614-7357-4e14-a334-5e675c300b65',\n",
       "                        [{\"boxpoints\": \"all\", \"marker\": {\"color\": \"#30bfd3\"}, \"name\": \"Distribui\\u00e7\\u00e3o dos votos\", \"type\": \"box\", \"y\": [32, 32, 31, 24, 24, 24, 24, 24, 24, 24, 24, 24, 24, 16, 16, 16, 16, 16, 16, 12, 12, 12, 9, 9, 9, 9, 9, 8, 8, 6, 5, 4, 2, 2, 1]}],\n",
       "                        {\"legend\": {\"font\": {\"color\": \"#000\", \"size\": 15}, \"y\": 0.8}, \"template\": {\"data\": {\"bar\": [{\"error_x\": {\"color\": \"#2a3f5f\"}, \"error_y\": {\"color\": \"#2a3f5f\"}, \"marker\": {\"line\": {\"color\": \"#E5ECF6\", \"width\": 0.5}}, \"type\": \"bar\"}], \"barpolar\": [{\"marker\": {\"line\": {\"color\": \"#E5ECF6\", \"width\": 0.5}}, \"type\": \"barpolar\"}], \"carpet\": [{\"aaxis\": {\"endlinecolor\": \"#2a3f5f\", \"gridcolor\": \"white\", \"linecolor\": \"white\", \"minorgridcolor\": \"white\", \"startlinecolor\": \"#2a3f5f\"}, \"baxis\": {\"endlinecolor\": \"#2a3f5f\", \"gridcolor\": \"white\", \"linecolor\": \"white\", \"minorgridcolor\": \"white\", \"startlinecolor\": \"#2a3f5f\"}, \"type\": \"carpet\"}], \"choropleth\": [{\"colorbar\": {\"outlinewidth\": 0, \"ticks\": \"\"}, \"type\": \"choropleth\"}], \"contour\": [{\"colorbar\": {\"outlinewidth\": 0, \"ticks\": \"\"}, \"colorscale\": [[0.0, \"#0d0887\"], [0.1111111111111111, \"#46039f\"], [0.2222222222222222, \"#7201a8\"], [0.3333333333333333, \"#9c179e\"], [0.4444444444444444, \"#bd3786\"], [0.5555555555555556, \"#d8576b\"], [0.6666666666666666, \"#ed7953\"], [0.7777777777777778, \"#fb9f3a\"], [0.8888888888888888, \"#fdca26\"], [1.0, \"#f0f921\"]], \"type\": \"contour\"}], \"contourcarpet\": [{\"colorbar\": {\"outlinewidth\": 0, \"ticks\": \"\"}, \"type\": \"contourcarpet\"}], \"heatmap\": [{\"colorbar\": {\"outlinewidth\": 0, \"ticks\": \"\"}, \"colorscale\": [[0.0, \"#0d0887\"], [0.1111111111111111, \"#46039f\"], [0.2222222222222222, \"#7201a8\"], [0.3333333333333333, \"#9c179e\"], [0.4444444444444444, \"#bd3786\"], [0.5555555555555556, \"#d8576b\"], [0.6666666666666666, \"#ed7953\"], [0.7777777777777778, \"#fb9f3a\"], [0.8888888888888888, \"#fdca26\"], [1.0, \"#f0f921\"]], \"type\": \"heatmap\"}], \"heatmapgl\": [{\"colorbar\": {\"outlinewidth\": 0, \"ticks\": \"\"}, \"colorscale\": [[0.0, \"#0d0887\"], [0.1111111111111111, \"#46039f\"], [0.2222222222222222, \"#7201a8\"], [0.3333333333333333, \"#9c179e\"], [0.4444444444444444, \"#bd3786\"], [0.5555555555555556, \"#d8576b\"], [0.6666666666666666, \"#ed7953\"], [0.7777777777777778, \"#fb9f3a\"], [0.8888888888888888, \"#fdca26\"], [1.0, \"#f0f921\"]], \"type\": \"heatmapgl\"}], \"histogram\": [{\"marker\": {\"colorbar\": {\"outlinewidth\": 0, \"ticks\": \"\"}}, \"type\": \"histogram\"}], \"histogram2d\": [{\"colorbar\": {\"outlinewidth\": 0, \"ticks\": \"\"}, \"colorscale\": [[0.0, \"#0d0887\"], [0.1111111111111111, \"#46039f\"], [0.2222222222222222, \"#7201a8\"], [0.3333333333333333, \"#9c179e\"], [0.4444444444444444, \"#bd3786\"], [0.5555555555555556, \"#d8576b\"], [0.6666666666666666, \"#ed7953\"], [0.7777777777777778, \"#fb9f3a\"], [0.8888888888888888, \"#fdca26\"], [1.0, \"#f0f921\"]], \"type\": \"histogram2d\"}], \"histogram2dcontour\": [{\"colorbar\": {\"outlinewidth\": 0, \"ticks\": \"\"}, \"colorscale\": [[0.0, \"#0d0887\"], [0.1111111111111111, \"#46039f\"], [0.2222222222222222, \"#7201a8\"], [0.3333333333333333, \"#9c179e\"], [0.4444444444444444, \"#bd3786\"], [0.5555555555555556, \"#d8576b\"], [0.6666666666666666, \"#ed7953\"], [0.7777777777777778, \"#fb9f3a\"], [0.8888888888888888, \"#fdca26\"], [1.0, \"#f0f921\"]], \"type\": \"histogram2dcontour\"}], \"mesh3d\": [{\"colorbar\": {\"outlinewidth\": 0, \"ticks\": \"\"}, \"type\": \"mesh3d\"}], \"parcoords\": [{\"line\": {\"colorbar\": {\"outlinewidth\": 0, \"ticks\": \"\"}}, \"type\": \"parcoords\"}], \"pie\": [{\"automargin\": true, \"type\": \"pie\"}], \"scatter\": [{\"marker\": {\"colorbar\": {\"outlinewidth\": 0, \"ticks\": \"\"}}, \"type\": \"scatter\"}], \"scatter3d\": [{\"line\": {\"colorbar\": {\"outlinewidth\": 0, \"ticks\": \"\"}}, \"marker\": {\"colorbar\": {\"outlinewidth\": 0, \"ticks\": \"\"}}, \"type\": \"scatter3d\"}], \"scattercarpet\": [{\"marker\": {\"colorbar\": {\"outlinewidth\": 0, \"ticks\": \"\"}}, \"type\": \"scattercarpet\"}], \"scattergeo\": [{\"marker\": {\"colorbar\": {\"outlinewidth\": 0, \"ticks\": \"\"}}, \"type\": \"scattergeo\"}], \"scattergl\": [{\"marker\": {\"colorbar\": {\"outlinewidth\": 0, \"ticks\": \"\"}}, \"type\": \"scattergl\"}], \"scattermapbox\": [{\"marker\": {\"colorbar\": {\"outlinewidth\": 0, \"ticks\": \"\"}}, \"type\": \"scattermapbox\"}], \"scatterpolar\": [{\"marker\": {\"colorbar\": {\"outlinewidth\": 0, \"ticks\": \"\"}}, \"type\": \"scatterpolar\"}], \"scatterpolargl\": [{\"marker\": {\"colorbar\": {\"outlinewidth\": 0, \"ticks\": \"\"}}, \"type\": \"scatterpolargl\"}], \"scatterternary\": [{\"marker\": {\"colorbar\": {\"outlinewidth\": 0, \"ticks\": \"\"}}, \"type\": \"scatterternary\"}], \"surface\": [{\"colorbar\": {\"outlinewidth\": 0, \"ticks\": \"\"}, \"colorscale\": [[0.0, \"#0d0887\"], [0.1111111111111111, \"#46039f\"], [0.2222222222222222, \"#7201a8\"], [0.3333333333333333, \"#9c179e\"], [0.4444444444444444, \"#bd3786\"], [0.5555555555555556, \"#d8576b\"], [0.6666666666666666, \"#ed7953\"], [0.7777777777777778, \"#fb9f3a\"], [0.8888888888888888, \"#fdca26\"], [1.0, \"#f0f921\"]], \"type\": \"surface\"}], \"table\": [{\"cells\": {\"fill\": {\"color\": \"#EBF0F8\"}, \"line\": {\"color\": \"white\"}}, \"header\": {\"fill\": {\"color\": \"#C8D4E3\"}, \"line\": {\"color\": \"white\"}}, \"type\": \"table\"}]}, \"layout\": {\"annotationdefaults\": {\"arrowcolor\": \"#2a3f5f\", \"arrowhead\": 0, \"arrowwidth\": 1}, \"coloraxis\": {\"colorbar\": {\"outlinewidth\": 0, \"ticks\": \"\"}}, \"colorscale\": {\"diverging\": [[0, \"#8e0152\"], [0.1, \"#c51b7d\"], [0.2, \"#de77ae\"], [0.3, \"#f1b6da\"], [0.4, \"#fde0ef\"], [0.5, \"#f7f7f7\"], [0.6, \"#e6f5d0\"], [0.7, \"#b8e186\"], [0.8, \"#7fbc41\"], [0.9, \"#4d9221\"], [1, \"#276419\"]], \"sequential\": [[0.0, \"#0d0887\"], [0.1111111111111111, \"#46039f\"], [0.2222222222222222, \"#7201a8\"], [0.3333333333333333, \"#9c179e\"], [0.4444444444444444, \"#bd3786\"], [0.5555555555555556, \"#d8576b\"], [0.6666666666666666, \"#ed7953\"], [0.7777777777777778, \"#fb9f3a\"], [0.8888888888888888, \"#fdca26\"], [1.0, \"#f0f921\"]], \"sequentialminus\": [[0.0, \"#0d0887\"], [0.1111111111111111, \"#46039f\"], [0.2222222222222222, \"#7201a8\"], [0.3333333333333333, \"#9c179e\"], [0.4444444444444444, \"#bd3786\"], [0.5555555555555556, \"#d8576b\"], [0.6666666666666666, \"#ed7953\"], [0.7777777777777778, \"#fb9f3a\"], [0.8888888888888888, \"#fdca26\"], [1.0, \"#f0f921\"]]}, \"colorway\": [\"#636efa\", \"#EF553B\", \"#00cc96\", \"#ab63fa\", \"#FFA15A\", \"#19d3f3\", \"#FF6692\", \"#B6E880\", \"#FF97FF\", \"#FECB52\"], \"font\": {\"color\": \"#2a3f5f\"}, \"geo\": {\"bgcolor\": \"white\", \"lakecolor\": \"white\", \"landcolor\": \"#E5ECF6\", \"showlakes\": true, \"showland\": true, \"subunitcolor\": \"white\"}, \"hoverlabel\": {\"align\": \"left\"}, \"hovermode\": \"closest\", \"mapbox\": {\"style\": \"light\"}, \"paper_bgcolor\": \"white\", \"plot_bgcolor\": \"#E5ECF6\", \"polar\": {\"angularaxis\": {\"gridcolor\": \"white\", \"linecolor\": \"white\", \"ticks\": \"\"}, \"bgcolor\": \"#E5ECF6\", \"radialaxis\": {\"gridcolor\": \"white\", \"linecolor\": \"white\", \"ticks\": \"\"}}, \"scene\": {\"xaxis\": {\"backgroundcolor\": \"#E5ECF6\", \"gridcolor\": \"white\", \"gridwidth\": 2, \"linecolor\": \"white\", \"showbackground\": true, \"ticks\": \"\", \"zerolinecolor\": \"white\"}, \"yaxis\": {\"backgroundcolor\": \"#E5ECF6\", \"gridcolor\": \"white\", \"gridwidth\": 2, \"linecolor\": \"white\", \"showbackground\": true, \"ticks\": \"\", \"zerolinecolor\": \"white\"}, \"zaxis\": {\"backgroundcolor\": \"#E5ECF6\", \"gridcolor\": \"white\", \"gridwidth\": 2, \"linecolor\": \"white\", \"showbackground\": true, \"ticks\": \"\", \"zerolinecolor\": \"white\"}}, \"shapedefaults\": {\"line\": {\"color\": \"#2a3f5f\"}}, \"ternary\": {\"aaxis\": {\"gridcolor\": \"white\", \"linecolor\": \"white\", \"ticks\": \"\"}, \"baxis\": {\"gridcolor\": \"white\", \"linecolor\": \"white\", \"ticks\": \"\"}, \"bgcolor\": \"#E5ECF6\", \"caxis\": {\"gridcolor\": \"white\", \"linecolor\": \"white\", \"ticks\": \"\"}}, \"title\": {\"x\": 0.05}, \"xaxis\": {\"automargin\": true, \"gridcolor\": \"white\", \"linecolor\": \"white\", \"ticks\": \"\", \"title\": {\"standoff\": 15}, \"zerolinecolor\": \"white\", \"zerolinewidth\": 2}, \"yaxis\": {\"automargin\": true, \"gridcolor\": \"white\", \"linecolor\": \"white\", \"ticks\": \"\", \"title\": {\"standoff\": 15}, \"zerolinecolor\": \"white\", \"zerolinewidth\": 2}}}, \"title\": {\"font\": {\"color\": \"#ff3e72\", \"family\": \"Times New Roman\", \"size\": 20}, \"text\": \"\", \"x\": 0.5}, \"width\": 700, \"yaxis\": {\"zeroline\": false}},\n",
       "                        {\"responsive\": true}\n",
       "                    ).then(function(){\n",
       "                            \n",
       "var gd = document.getElementById('b83d3614-7357-4e14-a334-5e675c300b65');\n",
       "var x = new MutationObserver(function (mutations, observer) {{\n",
       "        var display = window.getComputedStyle(gd).display;\n",
       "        if (!display || display === 'none') {{\n",
       "            console.log([gd, 'removed!']);\n",
       "            Plotly.purge(gd);\n",
       "            observer.disconnect();\n",
       "        }}\n",
       "}});\n",
       "\n",
       "// Listen for the removal of the full notebook cells\n",
       "var notebookContainer = gd.closest('#notebook-container');\n",
       "if (notebookContainer) {{\n",
       "    x.observe(notebookContainer, {childList: true});\n",
       "}}\n",
       "\n",
       "// Listen for the clearing of the current output cell\n",
       "var outputEl = gd.closest('.output');\n",
       "if (outputEl) {{\n",
       "    x.observe(outputEl, {childList: true});\n",
       "}}\n",
       "\n",
       "                        })\n",
       "                };\n",
       "                });\n",
       "            </script>\n",
       "        </div>"
      ]
     },
     "metadata": {},
     "output_type": "display_data"
    }
   ],
   "source": [
    "df = top_50_with_mautic_mail[\n",
    "    (top_50_with_mautic_mail['mautic_email'] != 'empty') &\n",
    "    (top_50_with_mautic_mail['mautic_email'] != 'ricabras@gmail.com') &\n",
    "    (top_50_with_mautic_mail['mautic_email'] != 'admin@mail.com') &\n",
    "    (top_50_with_mautic_mail['mautic_email'] != 'ricardo@cidadedemocratica.org.br')\n",
    "]\n",
    "\n",
    "fig = go.Figure(data=go.Box(name='Distribuição dos votos', y=df['votos'], boxpoints='all', marker_color='#30bfd3'), layout={'title':{'text': '', 'x': 0.5,\n",
    "                                 'font': {'size': 20, 'color': '#ff3e72', 'family': 'Times New Roman'}},  \n",
    "                        'width': 700,\n",
    "                        'legend': {\n",
    "                            'font': {'size': 15, 'color': '#000'},\n",
    "                            'y': 0.8\n",
    "                        },\n",
    "                       }\n",
    "                    )\n",
    "\n",
    "\n",
    "df = top_50_with_mautic_mail[\n",
    "    (top_50_with_mautic_mail['mautic_email'] != 'empty') &\n",
    "    (top_50_with_mautic_mail['mautic_email'] != 'ricabras@gmail.com') &\n",
    "    (top_50_with_mautic_mail['mautic_email'] != 'admin@mail.com') &\n",
    "    (top_50_with_mautic_mail['mautic_email'] != 'ricardo@cidadedemocratica.org.br')\n",
    "]\n",
    "\n",
    "\n",
    "fig.update_layout(yaxis_zeroline=False)\n",
    "fig.show()"
   ]
  },
  {
   "cell_type": "code",
   "execution_count": null,
   "metadata": {},
   "outputs": [],
   "source": []
  }
 ],
 "metadata": {
  "kernelspec": {
   "display_name": "Python 3",
   "language": "python",
   "name": "python3"
  },
  "language_info": {
   "codemirror_mode": {
    "name": "ipython",
    "version": 3
   },
   "file_extension": ".py",
   "mimetype": "text/x-python",
   "name": "python",
   "nbconvert_exporter": "python",
   "pygments_lexer": "ipython3",
   "version": "3.7.6"
  }
 },
 "nbformat": 4,
 "nbformat_minor": 4
}
